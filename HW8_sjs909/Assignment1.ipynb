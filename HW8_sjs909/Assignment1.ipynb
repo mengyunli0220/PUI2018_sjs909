{
 "cells": [
  {
   "cell_type": "code",
   "execution_count": 1,
   "metadata": {
    "scrolled": true
   },
   "outputs": [
    {
     "name": "stderr",
     "output_type": "stream",
     "text": [
      "/nfshome/sjs909/.conda/envs/myEnv/lib/python2.7/site-packages/scipy/sparse/lil.py:19: RuntimeWarning: numpy.dtype size changed, may indicate binary incompatibility. Expected 96, got 88\n",
      "  from . import _csparsetools\n",
      "/nfshome/sjs909/.conda/envs/myEnv/lib/python2.7/site-packages/scipy/sparse/csgraph/__init__.py:165: RuntimeWarning: numpy.dtype size changed, may indicate binary incompatibility. Expected 96, got 88\n",
      "  from ._shortest_path import shortest_path, floyd_warshall, dijkstra,\\\n",
      "/nfshome/sjs909/.conda/envs/myEnv/lib/python2.7/site-packages/scipy/sparse/csgraph/_validation.py:5: RuntimeWarning: numpy.dtype size changed, may indicate binary incompatibility. Expected 96, got 88\n",
      "  from ._tools import csgraph_to_dense, csgraph_from_dense,\\\n",
      "/nfshome/sjs909/.conda/envs/myEnv/lib/python2.7/site-packages/scipy/sparse/csgraph/__init__.py:167: RuntimeWarning: numpy.dtype size changed, may indicate binary incompatibility. Expected 96, got 88\n",
      "  from ._traversal import breadth_first_order, depth_first_order, \\\n",
      "/nfshome/sjs909/.conda/envs/myEnv/lib/python2.7/site-packages/scipy/sparse/csgraph/__init__.py:169: RuntimeWarning: numpy.dtype size changed, may indicate binary incompatibility. Expected 96, got 88\n",
      "  from ._min_spanning_tree import minimum_spanning_tree\n",
      "/nfshome/sjs909/.conda/envs/myEnv/lib/python2.7/site-packages/scipy/sparse/csgraph/__init__.py:170: RuntimeWarning: numpy.dtype size changed, may indicate binary incompatibility. Expected 96, got 88\n",
      "  from ._reordering import reverse_cuthill_mckee, maximum_bipartite_matching, \\\n",
      "/nfshome/sjs909/.conda/envs/myEnv/lib/python2.7/site-packages/scipy/spatial/__init__.py:95: RuntimeWarning: numpy.dtype size changed, may indicate binary incompatibility. Expected 96, got 88\n",
      "  from .ckdtree import *\n",
      "/nfshome/sjs909/.conda/envs/myEnv/lib/python2.7/site-packages/scipy/spatial/__init__.py:96: RuntimeWarning: numpy.dtype size changed, may indicate binary incompatibility. Expected 96, got 88\n",
      "  from .qhull import *\n",
      "/nfshome/sjs909/.conda/envs/myEnv/lib/python2.7/site-packages/scipy/spatial/_spherical_voronoi.py:18: RuntimeWarning: numpy.dtype size changed, may indicate binary incompatibility. Expected 96, got 88\n",
      "  from . import _voronoi\n",
      "/nfshome/sjs909/.conda/envs/myEnv/lib/python2.7/site-packages/scipy/spatial/distance.py:122: RuntimeWarning: numpy.dtype size changed, may indicate binary incompatibility. Expected 96, got 88\n",
      "  from . import _hausdorff\n",
      "/nfshome/sjs909/.conda/envs/myEnv/lib/python2.7/site-packages/scipy/linalg/basic.py:17: RuntimeWarning: numpy.dtype size changed, may indicate binary incompatibility. Expected 96, got 88\n",
      "  from ._solve_toeplitz import levinson\n",
      "/nfshome/sjs909/.conda/envs/myEnv/lib/python2.7/site-packages/scipy/linalg/__init__.py:207: RuntimeWarning: numpy.dtype size changed, may indicate binary incompatibility. Expected 96, got 88\n",
      "  from ._decomp_update import *\n",
      "/nfshome/sjs909/.conda/envs/myEnv/lib/python2.7/site-packages/scipy/special/__init__.py:640: RuntimeWarning: numpy.dtype size changed, may indicate binary incompatibility. Expected 96, got 88\n",
      "  from ._ufuncs import *\n",
      "/nfshome/sjs909/.conda/envs/myEnv/lib/python2.7/site-packages/scipy/special/_ellip_harm.py:7: RuntimeWarning: numpy.dtype size changed, may indicate binary incompatibility. Expected 96, got 88\n",
      "  from ._ellip_harm_2 import _ellipsoid, _ellipsoid_norm\n",
      "/nfshome/sjs909/.conda/envs/myEnv/lib/python2.7/site-packages/scipy/interpolate/_bsplines.py:10: RuntimeWarning: numpy.dtype size changed, may indicate binary incompatibility. Expected 96, got 88\n",
      "  from . import _bspl\n",
      "/nfshome/sjs909/.conda/envs/myEnv/lib/python2.7/site-packages/scipy/optimize/_trlib/__init__.py:1: RuntimeWarning: numpy.dtype size changed, may indicate binary incompatibility. Expected 96, got 88\n",
      "  from ._trlib import TRLIBQuadraticSubproblem\n",
      "/nfshome/sjs909/.conda/envs/myEnv/lib/python2.7/site-packages/scipy/optimize/_numdiff.py:10: RuntimeWarning: numpy.dtype size changed, may indicate binary incompatibility. Expected 96, got 88\n",
      "  from ._group_columns import group_dense, group_sparse\n",
      "/nfshome/sjs909/.conda/envs/myEnv/lib/python2.7/site-packages/scipy/stats/_continuous_distns.py:18: RuntimeWarning: numpy.dtype size changed, may indicate binary incompatibility. Expected 96, got 88\n",
      "  from . import _stats\n",
      "/nfshome/sjs909/.conda/envs/myEnv/lib/python2.7/site-packages/scipy/io/matlab/mio4.py:18: RuntimeWarning: numpy.dtype size changed, may indicate binary incompatibility. Expected 96, got 88\n",
      "  from .mio_utils import squeeze_element, chars_to_strings\n",
      "/nfshome/sjs909/.conda/envs/myEnv/lib/python2.7/site-packages/scipy/io/matlab/mio5.py:98: RuntimeWarning: numpy.dtype size changed, may indicate binary incompatibility. Expected 96, got 88\n",
      "  from .mio5_utils import VarReader5\n",
      "/nfshome/sjs909/.conda/envs/myEnv/lib/python2.7/site-packages/pysal/__init__.py:65: VisibleDeprecationWarning: PySAL's API will be changed on 2018-12-31. The last release made with this API is version 1.14.4. A preview of the next API version is provided in the `pysal` 2.0 prelease candidate. The API changes and a guide on how to change imports is provided at https://pysal.org/about\n",
      "  ), VisibleDeprecationWarning)\n",
      "/nfshome/sjs909/.conda/envs/myEnv/lib/python2.7/site-packages/scipy/cluster/vq.py:78: RuntimeWarning: numpy.dtype size changed, may indicate binary incompatibility. Expected 96, got 88\n",
      "  from . import _vq\n",
      "/nfshome/sjs909/.conda/envs/myEnv/lib/python2.7/site-packages/scipy/cluster/hierarchy.py:178: RuntimeWarning: numpy.dtype size changed, may indicate binary incompatibility. Expected 96, got 88\n",
      "  from . import _hierarchy, _optimal_leaf_ordering\n"
     ]
    },
    {
     "name": "stdout",
     "output_type": "stream",
     "text": [
      "Requirement already satisfied: requests in /usr/local/Anaconda3-5.0.0-Linux-x86_64/lib/python3.6/site-packages\n",
      "Requirement already satisfied: chardet<3.1.0,>=3.0.2 in /usr/local/Anaconda3-5.0.0-Linux-x86_64/lib/python3.6/site-packages (from requests)\n",
      "Requirement already satisfied: idna<2.7,>=2.5 in /usr/local/Anaconda3-5.0.0-Linux-x86_64/lib/python3.6/site-packages (from requests)\n",
      "Requirement already satisfied: urllib3<1.23,>=1.21.1 in /usr/local/Anaconda3-5.0.0-Linux-x86_64/lib/python3.6/site-packages (from requests)\n",
      "Requirement already satisfied: certifi>=2017.4.17 in /usr/local/Anaconda3-5.0.0-Linux-x86_64/lib/python3.6/site-packages (from requests)\n",
      "\u001b[33mYou are using pip version 9.0.1, however version 18.1 is available.\n",
      "You should consider upgrading via the 'pip install --upgrade pip' command.\u001b[0m\n"
     ]
    }
   ],
   "source": [
    "from __future__ import print_function\n",
    "%matplotlib inline\n",
    "import geopandas as gpd\n",
    "import numpy as np\n",
    "import pylab as pl\n",
    "import pandas as pd\n",
    "import io\n",
    "import shapely\n",
    "from geopandas.tools import sjoin\n",
    "from geopandas import GeoDataFrame\n",
    "from matplotlib import pyplot as plt\n",
    "import pylab\n",
    "import os\n",
    "import zipfile\n",
    "import json\n",
    "from fiona.crs import from_epsg\n",
    "import sys\n",
    "try:\n",
    "    import urllib2 as urllib\n",
    "except ImportError:\n",
    "    import urllib.request as urllib\n",
    "import requests\n",
    "import choroplethNYC as cp\n",
    "import pysal as ps\n",
    "!pip install requests\n"
   ]
  },
  {
   "cell_type": "markdown",
   "metadata": {},
   "source": [
    "# Read in Data"
   ]
  },
  {
   "cell_type": "markdown",
   "metadata": {},
   "source": [
    "I am working on a project for the NYS DOH looking at MediCaid Data, specifically at the proportion of Males to Females that file claims for the preventative drug called PreP for those at risk of prevention of HIV/AIDS "
   ]
  },
  {
   "cell_type": "code",
   "execution_count": 2,
   "metadata": {},
   "outputs": [
    {
     "data": {
      "text/plain": [
       "'/nfshome/sjs909/PUIDATA'"
      ]
     },
     "execution_count": 2,
     "metadata": {},
     "output_type": "execute_result"
    }
   ],
   "source": [
    "#Set the environmental variable PUIDATA\n",
    "puidata = os.getenv(\"PUIDATA\")\n",
    "if not puidata or puidata == '/nfshome/sjs909/PUIdata':\n",
    "    puidata = '/nfshome/sjs909/PUIDATA'\n",
    "\n",
    "os.environ[\"PUIDATA\"] = puidata\n",
    "os.environ[\"PUIDATA\"]"
   ]
  },
  {
   "cell_type": "markdown",
   "metadata": {},
   "source": [
    "## Dataset from DOH for distribution of male and female that filed claims, by county"
   ]
  },
  {
   "cell_type": "code",
   "execution_count": 3,
   "metadata": {},
   "outputs": [],
   "source": [
    "CTYGender = pd.read_excel('%s/datawithCTYandGender.xlsx'%os.getenv(\"PUIDATA\"))"
   ]
  },
  {
   "cell_type": "code",
   "execution_count": 5,
   "metadata": {
    "scrolled": true
   },
   "outputs": [
    {
     "data": {
      "text/html": [
       "<div>\n",
       "<style scoped>\n",
       "    .dataframe tbody tr th:only-of-type {\n",
       "        vertical-align: middle;\n",
       "    }\n",
       "\n",
       "    .dataframe tbody tr th {\n",
       "        vertical-align: top;\n",
       "    }\n",
       "\n",
       "    .dataframe thead th {\n",
       "        text-align: right;\n",
       "    }\n",
       "</style>\n",
       "<table border=\"1\" class=\"dataframe\">\n",
       "  <thead>\n",
       "    <tr style=\"text-align: right;\">\n",
       "      <th></th>\n",
       "      <th>county code</th>\n",
       "      <th>county</th>\n",
       "      <th>F</th>\n",
       "      <th>M</th>\n",
       "    </tr>\n",
       "  </thead>\n",
       "  <tbody>\n",
       "    <tr>\n",
       "      <th>0</th>\n",
       "      <td>1</td>\n",
       "      <td>ALBANY</td>\n",
       "      <td>10</td>\n",
       "      <td>27</td>\n",
       "    </tr>\n",
       "    <tr>\n",
       "      <th>1</th>\n",
       "      <td>2</td>\n",
       "      <td>ALLEGANY</td>\n",
       "      <td>1</td>\n",
       "      <td>3</td>\n",
       "    </tr>\n",
       "    <tr>\n",
       "      <th>2</th>\n",
       "      <td>3</td>\n",
       "      <td>BROOME</td>\n",
       "      <td>4</td>\n",
       "      <td>15</td>\n",
       "    </tr>\n",
       "    <tr>\n",
       "      <th>3</th>\n",
       "      <td>4</td>\n",
       "      <td>CATTARAUGUS</td>\n",
       "      <td>2</td>\n",
       "      <td>1</td>\n",
       "    </tr>\n",
       "    <tr>\n",
       "      <th>4</th>\n",
       "      <td>5</td>\n",
       "      <td>CAYUGA</td>\n",
       "      <td>1</td>\n",
       "      <td>12</td>\n",
       "    </tr>\n",
       "  </tbody>\n",
       "</table>\n",
       "</div>"
      ],
      "text/plain": [
       "   county code       county   F   M\n",
       "0            1       ALBANY  10  27\n",
       "1            2     ALLEGANY   1   3\n",
       "2            3       BROOME   4  15\n",
       "3            4  CATTARAUGUS   2   1\n",
       "4            5       CAYUGA   1  12"
      ]
     },
     "execution_count": 5,
     "metadata": {},
     "output_type": "execute_result"
    }
   ],
   "source": [
    "CTYGender.head()"
   ]
  },
  {
   "cell_type": "markdown",
   "metadata": {},
   "source": [
    "### generate a feature for the proportion of females to males"
   ]
  },
  {
   "cell_type": "code",
   "execution_count": 4,
   "metadata": {},
   "outputs": [],
   "source": [
    "CTYGender['Fproportion'] =  CTYGender['F']/(CTYGender['F']+CTYGender['M'])"
   ]
  },
  {
   "cell_type": "markdown",
   "metadata": {},
   "source": [
    "## Counties with Demographics, New York State, 2000\n",
    "This dataset presents boundaries and basic demographic data from the 2000 Census for each county and county-equivalent area in New York state. For county-scale geographic and demographic analysis.\n",
    "\n",
    "https://cugir.library.cornell.edu/catalog/cugir-007865"
   ]
  },
  {
   "cell_type": "code",
   "execution_count": 7,
   "metadata": {},
   "outputs": [],
   "source": [
    "#with zipfile.ZipFile(\"%s/cugir-007865.zip\"%os.getenv(\"PUIDATA\")) as zip_ref:\n",
    "#    zip_ref.extractall(\"NYSdir\")"
   ]
  },
  {
   "cell_type": "code",
   "execution_count": 8,
   "metadata": {},
   "outputs": [],
   "source": [
    "#Move into PUIDATA\n",
    "#os.rename(\"/nfshome/sjs909/PUI2018/HW8_sjs909/NYSdir\", \"/nfshome/sjs909/PUIDATA/NYSdir\")"
   ]
  },
  {
   "cell_type": "code",
   "execution_count": 5,
   "metadata": {},
   "outputs": [],
   "source": [
    "NYSShape = gpd.GeoDataFrame.from_file('%s/NYSdir/cugir-007865'%os.getenv(\"PUIDATA\"))"
   ]
  },
  {
   "cell_type": "code",
   "execution_count": 10,
   "metadata": {},
   "outputs": [
    {
     "data": {
      "text/plain": [
       "Index([     u'STATE',     u'COUNTY',       u'NAME',       u'LSAD',\n",
       "       u'LSAD_TRANS',       u'OID_', u'COUNTY_FIP',    u'POP2000',\n",
       "            u'WHITE',      u'BLACK',    u'AMER_ES',      u'ASIAN',\n",
       "          u'HAWN_PI',      u'OTHER',  u'MULT_RACE',   u'HISPANIC',\n",
       "             u'MALE',     u'FEMALE',   u'M_UNDER5',       u'M5_9',\n",
       "           u'M10_14',     u'M15_17',     u'M18_19',        u'M20',\n",
       "              u'M21',     u'M22_24',     u'M25_29',     u'M30_34',\n",
       "           u'M35_39',     u'M40_44',     u'M45_49',     u'M50_54',\n",
       "           u'M55_59',     u'M60_61',     u'M62_64',     u'M65_66',\n",
       "           u'M67_69',     u'M70_74',     u'M75_79',     u'M80_84',\n",
       "         u'M_OVER85',   u'F_UNDER5',       u'F5_9',     u'F10_14',\n",
       "           u'F15_17',     u'F18_19',        u'F20',        u'F21',\n",
       "           u'F22_24',     u'F25_29',     u'F30_34',     u'F35_39',\n",
       "           u'F40_44',     u'F45_49',     u'F50_54',     u'F55_59',\n",
       "           u'F60_61',     u'F62_64',     u'F65_66',     u'F67_69',\n",
       "           u'F70_74',     u'F75_79',     u'F80_84',   u'F_OVER85',\n",
       "       u'HOUSEHOLDS', u'AV_HH_SIZE',  u'HSEHLD_1M',  u'HSEHLD_1F',\n",
       "       u'MAR_MINORC',  u'MAR_NO_MC', u'MHH_MINORC', u'FHH_MINORC',\n",
       "         u'FAMILIES',  u'AV_FAM_SZ',  u'HSE_UNITS',      u'URBAN',\n",
       "            u'RURAL',     u'VACANT',  u'OWNER_OCC', u'RENTER_OCC',\n",
       "         u'geometry'],\n",
       "      dtype='object')"
      ]
     },
     "execution_count": 10,
     "metadata": {},
     "output_type": "execute_result"
    }
   ],
   "source": [
    "NYSShape.columns"
   ]
  },
  {
   "cell_type": "code",
   "execution_count": 11,
   "metadata": {},
   "outputs": [
    {
     "data": {
      "text/plain": [
       "62"
      ]
     },
     "execution_count": 11,
     "metadata": {},
     "output_type": "execute_result"
    }
   ],
   "source": [
    "len(np.unique(NYSShape['NAME']))"
   ]
  },
  {
   "cell_type": "code",
   "execution_count": 12,
   "metadata": {},
   "outputs": [
    {
     "data": {
      "text/html": [
       "<div>\n",
       "<style scoped>\n",
       "    .dataframe tbody tr th:only-of-type {\n",
       "        vertical-align: middle;\n",
       "    }\n",
       "\n",
       "    .dataframe tbody tr th {\n",
       "        vertical-align: top;\n",
       "    }\n",
       "\n",
       "    .dataframe thead th {\n",
       "        text-align: right;\n",
       "    }\n",
       "</style>\n",
       "<table border=\"1\" class=\"dataframe\">\n",
       "  <thead>\n",
       "    <tr style=\"text-align: right;\">\n",
       "      <th></th>\n",
       "      <th>STATE</th>\n",
       "      <th>COUNTY</th>\n",
       "      <th>NAME</th>\n",
       "      <th>LSAD</th>\n",
       "      <th>LSAD_TRANS</th>\n",
       "      <th>OID_</th>\n",
       "      <th>COUNTY_FIP</th>\n",
       "      <th>POP2000</th>\n",
       "      <th>WHITE</th>\n",
       "      <th>BLACK</th>\n",
       "      <th>...</th>\n",
       "      <th>FHH_MINORC</th>\n",
       "      <th>FAMILIES</th>\n",
       "      <th>AV_FAM_SZ</th>\n",
       "      <th>HSE_UNITS</th>\n",
       "      <th>URBAN</th>\n",
       "      <th>RURAL</th>\n",
       "      <th>VACANT</th>\n",
       "      <th>OWNER_OCC</th>\n",
       "      <th>RENTER_OCC</th>\n",
       "      <th>geometry</th>\n",
       "    </tr>\n",
       "  </thead>\n",
       "  <tbody>\n",
       "    <tr>\n",
       "      <th>0</th>\n",
       "      <td>36</td>\n",
       "      <td>089</td>\n",
       "      <td>St. Lawrence</td>\n",
       "      <td>06</td>\n",
       "      <td>County</td>\n",
       "      <td>44</td>\n",
       "      <td>089</td>\n",
       "      <td>111931</td>\n",
       "      <td>105782</td>\n",
       "      <td>2664</td>\n",
       "      <td>...</td>\n",
       "      <td>2773</td>\n",
       "      <td>26939</td>\n",
       "      <td>3</td>\n",
       "      <td>49721</td>\n",
       "      <td>16085</td>\n",
       "      <td>33636</td>\n",
       "      <td>9215</td>\n",
       "      <td>28606</td>\n",
       "      <td>11900</td>\n",
       "      <td>POLYGON ((-74.712396 44.953008, -74.7111320000...</td>\n",
       "    </tr>\n",
       "    <tr>\n",
       "      <th>1</th>\n",
       "      <td>36</td>\n",
       "      <td>019</td>\n",
       "      <td>Clinton</td>\n",
       "      <td>06</td>\n",
       "      <td>County</td>\n",
       "      <td>9</td>\n",
       "      <td>019</td>\n",
       "      <td>79894</td>\n",
       "      <td>74562</td>\n",
       "      <td>2863</td>\n",
       "      <td>...</td>\n",
       "      <td>1951</td>\n",
       "      <td>19261</td>\n",
       "      <td>3</td>\n",
       "      <td>33091</td>\n",
       "      <td>12161</td>\n",
       "      <td>20930</td>\n",
       "      <td>3668</td>\n",
       "      <td>20157</td>\n",
       "      <td>9266</td>\n",
       "      <td>POLYGON ((-74.025026 44.980036, -74.0274011055...</td>\n",
       "    </tr>\n",
       "    <tr>\n",
       "      <th>2</th>\n",
       "      <td>36</td>\n",
       "      <td>033</td>\n",
       "      <td>Franklin</td>\n",
       "      <td>06</td>\n",
       "      <td>County</td>\n",
       "      <td>16</td>\n",
       "      <td>033</td>\n",
       "      <td>51134</td>\n",
       "      <td>42970</td>\n",
       "      <td>3389</td>\n",
       "      <td>...</td>\n",
       "      <td>1312</td>\n",
       "      <td>11805</td>\n",
       "      <td>3</td>\n",
       "      <td>23936</td>\n",
       "      <td>7409</td>\n",
       "      <td>16527</td>\n",
       "      <td>6005</td>\n",
       "      <td>12638</td>\n",
       "      <td>5293</td>\n",
       "      <td>POLYGON ((-74.025026 44.980036, -74.021078 44....</td>\n",
       "    </tr>\n",
       "    <tr>\n",
       "      <th>3</th>\n",
       "      <td>36</td>\n",
       "      <td>031</td>\n",
       "      <td>Essex</td>\n",
       "      <td>06</td>\n",
       "      <td>County</td>\n",
       "      <td>15</td>\n",
       "      <td>031</td>\n",
       "      <td>38851</td>\n",
       "      <td>36848</td>\n",
       "      <td>1092</td>\n",
       "      <td>...</td>\n",
       "      <td>810</td>\n",
       "      <td>9832</td>\n",
       "      <td>3</td>\n",
       "      <td>23115</td>\n",
       "      <td>4288</td>\n",
       "      <td>18827</td>\n",
       "      <td>8087</td>\n",
       "      <td>11089</td>\n",
       "      <td>3939</td>\n",
       "      <td>POLYGON ((-73.46411999999999 44.5354, -73.4649...</td>\n",
       "    </tr>\n",
       "    <tr>\n",
       "      <th>4</th>\n",
       "      <td>36</td>\n",
       "      <td>045</td>\n",
       "      <td>Jefferson</td>\n",
       "      <td>06</td>\n",
       "      <td>County</td>\n",
       "      <td>22</td>\n",
       "      <td>045</td>\n",
       "      <td>111738</td>\n",
       "      <td>99118</td>\n",
       "      <td>6517</td>\n",
       "      <td>...</td>\n",
       "      <td>2815</td>\n",
       "      <td>28142</td>\n",
       "      <td>3</td>\n",
       "      <td>54070</td>\n",
       "      <td>20947</td>\n",
       "      <td>33123</td>\n",
       "      <td>14002</td>\n",
       "      <td>23906</td>\n",
       "      <td>16162</td>\n",
       "      <td>POLYGON ((-75.86007064557869 44.40327395405457...</td>\n",
       "    </tr>\n",
       "  </tbody>\n",
       "</table>\n",
       "<p>5 rows × 81 columns</p>\n",
       "</div>"
      ],
      "text/plain": [
       "  STATE COUNTY          NAME LSAD LSAD_TRANS  OID_ COUNTY_FIP  POP2000  \\\n",
       "0    36    089  St. Lawrence   06     County    44        089   111931   \n",
       "1    36    019       Clinton   06     County     9        019    79894   \n",
       "2    36    033      Franklin   06     County    16        033    51134   \n",
       "3    36    031         Essex   06     County    15        031    38851   \n",
       "4    36    045     Jefferson   06     County    22        045   111738   \n",
       "\n",
       "    WHITE  BLACK                        ...                          \\\n",
       "0  105782   2664                        ...                           \n",
       "1   74562   2863                        ...                           \n",
       "2   42970   3389                        ...                           \n",
       "3   36848   1092                        ...                           \n",
       "4   99118   6517                        ...                           \n",
       "\n",
       "   FHH_MINORC  FAMILIES  AV_FAM_SZ  HSE_UNITS  URBAN  RURAL  VACANT  \\\n",
       "0        2773     26939          3      49721  16085  33636    9215   \n",
       "1        1951     19261          3      33091  12161  20930    3668   \n",
       "2        1312     11805          3      23936   7409  16527    6005   \n",
       "3         810      9832          3      23115   4288  18827    8087   \n",
       "4        2815     28142          3      54070  20947  33123   14002   \n",
       "\n",
       "   OWNER_OCC  RENTER_OCC                                           geometry  \n",
       "0      28606       11900  POLYGON ((-74.712396 44.953008, -74.7111320000...  \n",
       "1      20157        9266  POLYGON ((-74.025026 44.980036, -74.0274011055...  \n",
       "2      12638        5293  POLYGON ((-74.025026 44.980036, -74.021078 44....  \n",
       "3      11089        3939  POLYGON ((-73.46411999999999 44.5354, -73.4649...  \n",
       "4      23906       16162  POLYGON ((-75.86007064557869 44.40327395405457...  \n",
       "\n",
       "[5 rows x 81 columns]"
      ]
     },
     "execution_count": 12,
     "metadata": {},
     "output_type": "execute_result"
    }
   ],
   "source": [
    "NYSShape.head()"
   ]
  },
  {
   "cell_type": "markdown",
   "metadata": {},
   "source": [
    "## A more robust dataset from the DOH"
   ]
  },
  {
   "cell_type": "code",
   "execution_count": 6,
   "metadata": {},
   "outputs": [],
   "source": [
    "PreP = pd.read_csv('%s/prep_pivots_10302018.csv'%os.getenv(\"PUIDATA\"))"
   ]
  },
  {
   "cell_type": "code",
   "execution_count": 14,
   "metadata": {},
   "outputs": [
    {
     "data": {
      "text/html": [
       "<div>\n",
       "<style scoped>\n",
       "    .dataframe tbody tr th:only-of-type {\n",
       "        vertical-align: middle;\n",
       "    }\n",
       "\n",
       "    .dataframe tbody tr th {\n",
       "        vertical-align: top;\n",
       "    }\n",
       "\n",
       "    .dataframe thead th {\n",
       "        text-align: right;\n",
       "    }\n",
       "</style>\n",
       "<table border=\"1\" class=\"dataframe\">\n",
       "  <thead>\n",
       "    <tr style=\"text-align: right;\">\n",
       "      <th></th>\n",
       "      <th>exclusion_flag</th>\n",
       "      <th>medicaid_flag</th>\n",
       "      <th>HIVdx_flag</th>\n",
       "      <th>RXarv_flag</th>\n",
       "      <th>HBVdx_flag</th>\n",
       "      <th>RXhbv_flag</th>\n",
       "      <th>gender</th>\n",
       "      <th>age_group</th>\n",
       "      <th>ethnicity_group</th>\n",
       "      <th>patient_zip3</th>\n",
       "      <th>county</th>\n",
       "      <th>patients</th>\n",
       "    </tr>\n",
       "  </thead>\n",
       "  <tbody>\n",
       "    <tr>\n",
       "      <th>0</th>\n",
       "      <td>0</td>\n",
       "      <td>0</td>\n",
       "      <td>0</td>\n",
       "      <td>0</td>\n",
       "      <td>0</td>\n",
       "      <td>0</td>\n",
       "      <td>F</td>\n",
       "      <td>13-19</td>\n",
       "      <td>CAUCASIAN</td>\n",
       "      <td>ZZZ</td>\n",
       "      <td>NaN</td>\n",
       "      <td>1</td>\n",
       "    </tr>\n",
       "    <tr>\n",
       "      <th>1</th>\n",
       "      <td>0</td>\n",
       "      <td>0</td>\n",
       "      <td>0</td>\n",
       "      <td>0</td>\n",
       "      <td>0</td>\n",
       "      <td>0</td>\n",
       "      <td>F</td>\n",
       "      <td>13-19</td>\n",
       "      <td>OTHER/MISSING/UNKNOWN</td>\n",
       "      <td>10</td>\n",
       "      <td>Bronx/New York/Orange/Putnam/Richmond/Rockland...</td>\n",
       "      <td>1</td>\n",
       "    </tr>\n",
       "    <tr>\n",
       "      <th>2</th>\n",
       "      <td>0</td>\n",
       "      <td>0</td>\n",
       "      <td>0</td>\n",
       "      <td>0</td>\n",
       "      <td>0</td>\n",
       "      <td>0</td>\n",
       "      <td>F</td>\n",
       "      <td>13-19</td>\n",
       "      <td>OTHER/MISSING/UNKNOWN</td>\n",
       "      <td>11</td>\n",
       "      <td>Kings/Nassau/Queens/Suffolk</td>\n",
       "      <td>1</td>\n",
       "    </tr>\n",
       "    <tr>\n",
       "      <th>3</th>\n",
       "      <td>0</td>\n",
       "      <td>0</td>\n",
       "      <td>0</td>\n",
       "      <td>0</td>\n",
       "      <td>0</td>\n",
       "      <td>0</td>\n",
       "      <td>F</td>\n",
       "      <td>13-19</td>\n",
       "      <td>OTHER/MISSING/UNKNOWN</td>\n",
       "      <td>114</td>\n",
       "      <td>Queens</td>\n",
       "      <td>1</td>\n",
       "    </tr>\n",
       "    <tr>\n",
       "      <th>4</th>\n",
       "      <td>0</td>\n",
       "      <td>0</td>\n",
       "      <td>0</td>\n",
       "      <td>0</td>\n",
       "      <td>0</td>\n",
       "      <td>0</td>\n",
       "      <td>F</td>\n",
       "      <td>13-19</td>\n",
       "      <td>OTHER/MISSING/UNKNOWN</td>\n",
       "      <td>115</td>\n",
       "      <td>Nassau</td>\n",
       "      <td>1</td>\n",
       "    </tr>\n",
       "  </tbody>\n",
       "</table>\n",
       "</div>"
      ],
      "text/plain": [
       "   exclusion_flag  medicaid_flag  HIVdx_flag  RXarv_flag  HBVdx_flag  \\\n",
       "0               0              0           0           0           0   \n",
       "1               0              0           0           0           0   \n",
       "2               0              0           0           0           0   \n",
       "3               0              0           0           0           0   \n",
       "4               0              0           0           0           0   \n",
       "\n",
       "   RXhbv_flag gender age_group        ethnicity_group patient_zip3  \\\n",
       "0           0      F     13-19              CAUCASIAN          ZZZ   \n",
       "1           0      F     13-19  OTHER/MISSING/UNKNOWN           10   \n",
       "2           0      F     13-19  OTHER/MISSING/UNKNOWN           11   \n",
       "3           0      F     13-19  OTHER/MISSING/UNKNOWN          114   \n",
       "4           0      F     13-19  OTHER/MISSING/UNKNOWN          115   \n",
       "\n",
       "                                              county  patients  \n",
       "0                                                NaN         1  \n",
       "1  Bronx/New York/Orange/Putnam/Richmond/Rockland...         1  \n",
       "2                        Kings/Nassau/Queens/Suffolk         1  \n",
       "3                                             Queens         1  \n",
       "4                                             Nassau         1  "
      ]
     },
     "execution_count": 14,
     "metadata": {},
     "output_type": "execute_result"
    }
   ],
   "source": [
    "PreP.head()"
   ]
  },
  {
   "cell_type": "markdown",
   "metadata": {},
   "source": [
    "# Merge all of three datasets by county\n"
   ]
  },
  {
   "cell_type": "code",
   "execution_count": 15,
   "metadata": {},
   "outputs": [
    {
     "data": {
      "text/plain": [
       "273"
      ]
     },
     "execution_count": 15,
     "metadata": {},
     "output_type": "execute_result"
    }
   ],
   "source": [
    "len(np.unique(PreP['county']))"
   ]
  },
  {
   "cell_type": "code",
   "execution_count": 16,
   "metadata": {},
   "outputs": [],
   "source": [
    "# Fix capitalization issues, make everything all upper case"
   ]
  },
  {
   "cell_type": "code",
   "execution_count": 7,
   "metadata": {},
   "outputs": [],
   "source": [
    "PreP['county'] = PreP['county'].str.upper()"
   ]
  },
  {
   "cell_type": "code",
   "execution_count": 8,
   "metadata": {},
   "outputs": [],
   "source": [
    "NYSShape['NAME'] = NYSShape['NAME'].str.upper()"
   ]
  },
  {
   "cell_type": "code",
   "execution_count": 9,
   "metadata": {},
   "outputs": [],
   "source": [
    "NYCShapeData = NYSShape.merge(PreP, left_on=\"NAME\",right_on='county', how='outer')"
   ]
  },
  {
   "cell_type": "code",
   "execution_count": 10,
   "metadata": {},
   "outputs": [
    {
     "data": {
      "text/html": [
       "<div>\n",
       "<style scoped>\n",
       "    .dataframe tbody tr th:only-of-type {\n",
       "        vertical-align: middle;\n",
       "    }\n",
       "\n",
       "    .dataframe tbody tr th {\n",
       "        vertical-align: top;\n",
       "    }\n",
       "\n",
       "    .dataframe thead th {\n",
       "        text-align: right;\n",
       "    }\n",
       "</style>\n",
       "<table border=\"1\" class=\"dataframe\">\n",
       "  <thead>\n",
       "    <tr style=\"text-align: right;\">\n",
       "      <th></th>\n",
       "      <th>STATE</th>\n",
       "      <th>COUNTY</th>\n",
       "      <th>NAME</th>\n",
       "      <th>LSAD</th>\n",
       "      <th>LSAD_TRANS</th>\n",
       "      <th>OID_</th>\n",
       "      <th>COUNTY_FIP</th>\n",
       "      <th>POP2000</th>\n",
       "      <th>WHITE</th>\n",
       "      <th>BLACK</th>\n",
       "      <th>...</th>\n",
       "      <th>HIVdx_flag</th>\n",
       "      <th>RXarv_flag</th>\n",
       "      <th>HBVdx_flag</th>\n",
       "      <th>RXhbv_flag</th>\n",
       "      <th>gender</th>\n",
       "      <th>age_group</th>\n",
       "      <th>ethnicity_group</th>\n",
       "      <th>patient_zip3</th>\n",
       "      <th>county</th>\n",
       "      <th>patients</th>\n",
       "    </tr>\n",
       "  </thead>\n",
       "  <tbody>\n",
       "    <tr>\n",
       "      <th>0</th>\n",
       "      <td>36</td>\n",
       "      <td>089</td>\n",
       "      <td>ST. LAWRENCE</td>\n",
       "      <td>06</td>\n",
       "      <td>County</td>\n",
       "      <td>44.0</td>\n",
       "      <td>089</td>\n",
       "      <td>111931.0</td>\n",
       "      <td>105782.0</td>\n",
       "      <td>2664.0</td>\n",
       "      <td>...</td>\n",
       "      <td>NaN</td>\n",
       "      <td>NaN</td>\n",
       "      <td>NaN</td>\n",
       "      <td>NaN</td>\n",
       "      <td>NaN</td>\n",
       "      <td>NaN</td>\n",
       "      <td>NaN</td>\n",
       "      <td>NaN</td>\n",
       "      <td>NaN</td>\n",
       "      <td>NaN</td>\n",
       "    </tr>\n",
       "    <tr>\n",
       "      <th>1</th>\n",
       "      <td>36</td>\n",
       "      <td>019</td>\n",
       "      <td>CLINTON</td>\n",
       "      <td>06</td>\n",
       "      <td>County</td>\n",
       "      <td>9.0</td>\n",
       "      <td>019</td>\n",
       "      <td>79894.0</td>\n",
       "      <td>74562.0</td>\n",
       "      <td>2863.0</td>\n",
       "      <td>...</td>\n",
       "      <td>NaN</td>\n",
       "      <td>NaN</td>\n",
       "      <td>NaN</td>\n",
       "      <td>NaN</td>\n",
       "      <td>NaN</td>\n",
       "      <td>NaN</td>\n",
       "      <td>NaN</td>\n",
       "      <td>NaN</td>\n",
       "      <td>NaN</td>\n",
       "      <td>NaN</td>\n",
       "    </tr>\n",
       "    <tr>\n",
       "      <th>2</th>\n",
       "      <td>36</td>\n",
       "      <td>033</td>\n",
       "      <td>FRANKLIN</td>\n",
       "      <td>06</td>\n",
       "      <td>County</td>\n",
       "      <td>16.0</td>\n",
       "      <td>033</td>\n",
       "      <td>51134.0</td>\n",
       "      <td>42970.0</td>\n",
       "      <td>3389.0</td>\n",
       "      <td>...</td>\n",
       "      <td>NaN</td>\n",
       "      <td>NaN</td>\n",
       "      <td>NaN</td>\n",
       "      <td>NaN</td>\n",
       "      <td>NaN</td>\n",
       "      <td>NaN</td>\n",
       "      <td>NaN</td>\n",
       "      <td>NaN</td>\n",
       "      <td>NaN</td>\n",
       "      <td>NaN</td>\n",
       "    </tr>\n",
       "    <tr>\n",
       "      <th>3</th>\n",
       "      <td>36</td>\n",
       "      <td>031</td>\n",
       "      <td>ESSEX</td>\n",
       "      <td>06</td>\n",
       "      <td>County</td>\n",
       "      <td>15.0</td>\n",
       "      <td>031</td>\n",
       "      <td>38851.0</td>\n",
       "      <td>36848.0</td>\n",
       "      <td>1092.0</td>\n",
       "      <td>...</td>\n",
       "      <td>NaN</td>\n",
       "      <td>NaN</td>\n",
       "      <td>NaN</td>\n",
       "      <td>NaN</td>\n",
       "      <td>NaN</td>\n",
       "      <td>NaN</td>\n",
       "      <td>NaN</td>\n",
       "      <td>NaN</td>\n",
       "      <td>NaN</td>\n",
       "      <td>NaN</td>\n",
       "    </tr>\n",
       "    <tr>\n",
       "      <th>4</th>\n",
       "      <td>36</td>\n",
       "      <td>045</td>\n",
       "      <td>JEFFERSON</td>\n",
       "      <td>06</td>\n",
       "      <td>County</td>\n",
       "      <td>22.0</td>\n",
       "      <td>045</td>\n",
       "      <td>111738.0</td>\n",
       "      <td>99118.0</td>\n",
       "      <td>6517.0</td>\n",
       "      <td>...</td>\n",
       "      <td>NaN</td>\n",
       "      <td>NaN</td>\n",
       "      <td>NaN</td>\n",
       "      <td>NaN</td>\n",
       "      <td>NaN</td>\n",
       "      <td>NaN</td>\n",
       "      <td>NaN</td>\n",
       "      <td>NaN</td>\n",
       "      <td>NaN</td>\n",
       "      <td>NaN</td>\n",
       "    </tr>\n",
       "  </tbody>\n",
       "</table>\n",
       "<p>5 rows × 93 columns</p>\n",
       "</div>"
      ],
      "text/plain": [
       "  STATE COUNTY          NAME LSAD LSAD_TRANS  OID_ COUNTY_FIP   POP2000  \\\n",
       "0    36    089  ST. LAWRENCE   06     County  44.0        089  111931.0   \n",
       "1    36    019       CLINTON   06     County   9.0        019   79894.0   \n",
       "2    36    033      FRANKLIN   06     County  16.0        033   51134.0   \n",
       "3    36    031         ESSEX   06     County  15.0        031   38851.0   \n",
       "4    36    045     JEFFERSON   06     County  22.0        045  111738.0   \n",
       "\n",
       "      WHITE   BLACK    ...     HIVdx_flag  RXarv_flag  HBVdx_flag  RXhbv_flag  \\\n",
       "0  105782.0  2664.0    ...            NaN         NaN         NaN         NaN   \n",
       "1   74562.0  2863.0    ...            NaN         NaN         NaN         NaN   \n",
       "2   42970.0  3389.0    ...            NaN         NaN         NaN         NaN   \n",
       "3   36848.0  1092.0    ...            NaN         NaN         NaN         NaN   \n",
       "4   99118.0  6517.0    ...            NaN         NaN         NaN         NaN   \n",
       "\n",
       "   gender  age_group  ethnicity_group  patient_zip3  county  patients  \n",
       "0     NaN        NaN              NaN           NaN     NaN       NaN  \n",
       "1     NaN        NaN              NaN           NaN     NaN       NaN  \n",
       "2     NaN        NaN              NaN           NaN     NaN       NaN  \n",
       "3     NaN        NaN              NaN           NaN     NaN       NaN  \n",
       "4     NaN        NaN              NaN           NaN     NaN       NaN  \n",
       "\n",
       "[5 rows x 93 columns]"
      ]
     },
     "execution_count": 10,
     "metadata": {},
     "output_type": "execute_result"
    }
   ],
   "source": [
    "NYCShapeData.head()"
   ]
  },
  {
   "cell_type": "code",
   "execution_count": 21,
   "metadata": {},
   "outputs": [
    {
     "data": {
      "text/plain": [
       "2720"
      ]
     },
     "execution_count": 21,
     "metadata": {},
     "output_type": "execute_result"
    }
   ],
   "source": [
    "len(np.unique(NYCShapeData['NAME']))"
   ]
  },
  {
   "cell_type": "code",
   "execution_count": 22,
   "metadata": {},
   "outputs": [],
   "source": [
    "# merge it with the small dataset too!"
   ]
  },
  {
   "cell_type": "code",
   "execution_count": 11,
   "metadata": {},
   "outputs": [],
   "source": [
    "NYCShapeData = NYCShapeData.merge(CTYGender, left_on=\"NAME\",right_on='county', how='outer')"
   ]
  },
  {
   "cell_type": "code",
   "execution_count": 13,
   "metadata": {},
   "outputs": [],
   "source": [
    "NYCP = NYCShapeData[NYCShapeData['geometry'].notnull()]"
   ]
  },
  {
   "cell_type": "markdown",
   "metadata": {},
   "source": [
    "# Let's Explore The Counties with Highest Female Proportion - Fulton and Schoharie"
   ]
  },
  {
   "cell_type": "code",
   "execution_count": 14,
   "metadata": {},
   "outputs": [],
   "source": [
    "Fulton = NYCP.loc[NYCP['NAME'] == 'FULTON']\n",
    "Schoharie = NYCP.loc[NYCP['NAME'] == 'SCHOHARIE']"
   ]
  },
  {
   "cell_type": "code",
   "execution_count": 15,
   "metadata": {},
   "outputs": [],
   "source": [
    "HighF = pd.concat([Fulton, Schoharie], axis=0, sort=False)"
   ]
  },
  {
   "cell_type": "code",
   "execution_count": 16,
   "metadata": {},
   "outputs": [],
   "source": [
    "races = ('WHITE','BLACK',         u'AMER_ES',           u'ASIAN',\n",
    "               u'HAWN_PI',           u'OTHER',       u'MULT_RACE',\n",
    "              u'HISPANIC')"
   ]
  },
  {
   "cell_type": "code",
   "execution_count": 17,
   "metadata": {},
   "outputs": [
    {
     "name": "stdout",
     "output_type": "stream",
     "text": [
      "WHITE\n",
      "0.9598714433569989\n",
      "BLACK\n",
      "0.018012456194505474\n",
      "AMER_ES\n",
      "0.001906560383491003\n",
      "ASIAN\n",
      "0.005320211355836798\n",
      "HAWN_PI\n",
      "0.00016341946144208595\n",
      "OTHER\n",
      "0.005592577124906942\n",
      "MULT_RACE\n",
      "0.009133332122818805\n",
      "HISPANIC\n",
      "0.016051422657200443\n"
     ]
    },
    {
     "name": "stderr",
     "output_type": "stream",
     "text": [
      "/nfshome/sjs909/.conda/envs/myEnv/lib/python2.7/site-packages/ipykernel_launcher.py:8: SettingWithCopyWarning: \n",
      "A value is trying to be set on a copy of a slice from a DataFrame.\n",
      "Try using .loc[row_indexer,col_indexer] = value instead\n",
      "\n",
      "See the caveats in the documentation: http://pandas.pydata.org/pandas-docs/stable/indexing.html#indexing-view-versus-copy\n",
      "  \n",
      "/nfshome/sjs909/.conda/envs/myEnv/lib/python2.7/site-packages/ipykernel_launcher.py:10: SettingWithCopyWarning: \n",
      "A value is trying to be set on a copy of a slice from a DataFrame.\n",
      "Try using .loc[row_indexer,col_indexer] = value instead\n",
      "\n",
      "See the caveats in the documentation: http://pandas.pydata.org/pandas-docs/stable/indexing.html#indexing-view-versus-copy\n",
      "  # Remove the CWD from sys.path while we load stuff.\n",
      "/nfshome/sjs909/.conda/envs/myEnv/lib/python2.7/site-packages/ipykernel_launcher.py:11: SettingWithCopyWarning: \n",
      "A value is trying to be set on a copy of a slice from a DataFrame.\n",
      "Try using .loc[row_indexer,col_indexer] = value instead\n",
      "\n",
      "See the caveats in the documentation: http://pandas.pydata.org/pandas-docs/stable/indexing.html#indexing-view-versus-copy\n",
      "  # This is added back by InteractiveShellApp.init_path()\n",
      "/nfshome/sjs909/.conda/envs/myEnv/lib/python2.7/site-packages/ipykernel_launcher.py:12: SettingWithCopyWarning: \n",
      "A value is trying to be set on a copy of a slice from a DataFrame.\n",
      "Try using .loc[row_indexer,col_indexer] = value instead\n",
      "\n",
      "See the caveats in the documentation: http://pandas.pydata.org/pandas-docs/stable/indexing.html#indexing-view-versus-copy\n",
      "  if sys.path[0] == '':\n",
      "/nfshome/sjs909/.conda/envs/myEnv/lib/python2.7/site-packages/ipykernel_launcher.py:13: SettingWithCopyWarning: \n",
      "A value is trying to be set on a copy of a slice from a DataFrame.\n",
      "Try using .loc[row_indexer,col_indexer] = value instead\n",
      "\n",
      "See the caveats in the documentation: http://pandas.pydata.org/pandas-docs/stable/indexing.html#indexing-view-versus-copy\n",
      "  del sys.path[0]\n",
      "/nfshome/sjs909/.conda/envs/myEnv/lib/python2.7/site-packages/ipykernel_launcher.py:14: SettingWithCopyWarning: \n",
      "A value is trying to be set on a copy of a slice from a DataFrame.\n",
      "Try using .loc[row_indexer,col_indexer] = value instead\n",
      "\n",
      "See the caveats in the documentation: http://pandas.pydata.org/pandas-docs/stable/indexing.html#indexing-view-versus-copy\n",
      "  \n",
      "/nfshome/sjs909/.conda/envs/myEnv/lib/python2.7/site-packages/ipykernel_launcher.py:15: SettingWithCopyWarning: \n",
      "A value is trying to be set on a copy of a slice from a DataFrame.\n",
      "Try using .loc[row_indexer,col_indexer] = value instead\n",
      "\n",
      "See the caveats in the documentation: http://pandas.pydata.org/pandas-docs/stable/indexing.html#indexing-view-versus-copy\n",
      "  from ipykernel import kernelapp as app\n",
      "/nfshome/sjs909/.conda/envs/myEnv/lib/python2.7/site-packages/ipykernel_launcher.py:16: SettingWithCopyWarning: \n",
      "A value is trying to be set on a copy of a slice from a DataFrame.\n",
      "Try using .loc[row_indexer,col_indexer] = value instead\n",
      "\n",
      "See the caveats in the documentation: http://pandas.pydata.org/pandas-docs/stable/indexing.html#indexing-view-versus-copy\n",
      "  app.launch_new_instance()\n"
     ]
    }
   ],
   "source": [
    "# Make proportion of Race Population for Fulton\n",
    "mylist = []\n",
    "for i in range(len(races)):\n",
    "    print(races[i])\n",
    "    print((HighF.iloc[0][races[i]])/HighF.iloc[0]['POP2000'])\n",
    "    mylist.append((HighF.iloc[0][races[i]])/HighF.iloc[0]['POP2000'])\n",
    "\n",
    "Fulton['WhitePop'] = mylist[0]\n",
    "\n",
    "Fulton['BlackPop'] = mylist[1]\n",
    "Fulton['Amer_esPop'] = mylist[2]\n",
    "Fulton['AsianPop'] = mylist[3]\n",
    "Fulton['HawaiPop'] = mylist[4]\n",
    "Fulton['OtherPop'] = mylist[5]\n",
    "Fulton['MultiPop'] = mylist[6]\n",
    "Fulton['HispanicPop'] = mylist[7]"
   ]
  },
  {
   "cell_type": "code",
   "execution_count": 18,
   "metadata": {},
   "outputs": [
    {
     "name": "stdout",
     "output_type": "stream",
     "text": [
      "WHITE\n",
      "0.9661832689506681\n",
      "BLACK\n",
      "0.012760433158128047\n",
      "AMER_ES\n",
      "0.003039706161737699\n",
      "ASIAN\n",
      "0.0037996327021721232\n",
      "HAWN_PI\n",
      "0.00022164524096004052\n",
      "OTHER\n",
      "0.0047178772718637196\n",
      "MULT_RACE\n",
      "0.009277436514470268\n",
      "HISPANIC\n",
      "0.018618200240643406\n"
     ]
    },
    {
     "name": "stderr",
     "output_type": "stream",
     "text": [
      "/nfshome/sjs909/.conda/envs/myEnv/lib/python2.7/site-packages/ipykernel_launcher.py:9: SettingWithCopyWarning: \n",
      "A value is trying to be set on a copy of a slice from a DataFrame.\n",
      "Try using .loc[row_indexer,col_indexer] = value instead\n",
      "\n",
      "See the caveats in the documentation: http://pandas.pydata.org/pandas-docs/stable/indexing.html#indexing-view-versus-copy\n",
      "  if __name__ == '__main__':\n",
      "/nfshome/sjs909/.conda/envs/myEnv/lib/python2.7/site-packages/ipykernel_launcher.py:10: SettingWithCopyWarning: \n",
      "A value is trying to be set on a copy of a slice from a DataFrame.\n",
      "Try using .loc[row_indexer,col_indexer] = value instead\n",
      "\n",
      "See the caveats in the documentation: http://pandas.pydata.org/pandas-docs/stable/indexing.html#indexing-view-versus-copy\n",
      "  # Remove the CWD from sys.path while we load stuff.\n",
      "/nfshome/sjs909/.conda/envs/myEnv/lib/python2.7/site-packages/ipykernel_launcher.py:11: SettingWithCopyWarning: \n",
      "A value is trying to be set on a copy of a slice from a DataFrame.\n",
      "Try using .loc[row_indexer,col_indexer] = value instead\n",
      "\n",
      "See the caveats in the documentation: http://pandas.pydata.org/pandas-docs/stable/indexing.html#indexing-view-versus-copy\n",
      "  # This is added back by InteractiveShellApp.init_path()\n",
      "/nfshome/sjs909/.conda/envs/myEnv/lib/python2.7/site-packages/ipykernel_launcher.py:12: SettingWithCopyWarning: \n",
      "A value is trying to be set on a copy of a slice from a DataFrame.\n",
      "Try using .loc[row_indexer,col_indexer] = value instead\n",
      "\n",
      "See the caveats in the documentation: http://pandas.pydata.org/pandas-docs/stable/indexing.html#indexing-view-versus-copy\n",
      "  if sys.path[0] == '':\n",
      "/nfshome/sjs909/.conda/envs/myEnv/lib/python2.7/site-packages/ipykernel_launcher.py:13: SettingWithCopyWarning: \n",
      "A value is trying to be set on a copy of a slice from a DataFrame.\n",
      "Try using .loc[row_indexer,col_indexer] = value instead\n",
      "\n",
      "See the caveats in the documentation: http://pandas.pydata.org/pandas-docs/stable/indexing.html#indexing-view-versus-copy\n",
      "  del sys.path[0]\n",
      "/nfshome/sjs909/.conda/envs/myEnv/lib/python2.7/site-packages/ipykernel_launcher.py:14: SettingWithCopyWarning: \n",
      "A value is trying to be set on a copy of a slice from a DataFrame.\n",
      "Try using .loc[row_indexer,col_indexer] = value instead\n",
      "\n",
      "See the caveats in the documentation: http://pandas.pydata.org/pandas-docs/stable/indexing.html#indexing-view-versus-copy\n",
      "  \n",
      "/nfshome/sjs909/.conda/envs/myEnv/lib/python2.7/site-packages/ipykernel_launcher.py:15: SettingWithCopyWarning: \n",
      "A value is trying to be set on a copy of a slice from a DataFrame.\n",
      "Try using .loc[row_indexer,col_indexer] = value instead\n",
      "\n",
      "See the caveats in the documentation: http://pandas.pydata.org/pandas-docs/stable/indexing.html#indexing-view-versus-copy\n",
      "  from ipykernel import kernelapp as app\n",
      "/nfshome/sjs909/.conda/envs/myEnv/lib/python2.7/site-packages/ipykernel_launcher.py:16: SettingWithCopyWarning: \n",
      "A value is trying to be set on a copy of a slice from a DataFrame.\n",
      "Try using .loc[row_indexer,col_indexer] = value instead\n",
      "\n",
      "See the caveats in the documentation: http://pandas.pydata.org/pandas-docs/stable/indexing.html#indexing-view-versus-copy\n",
      "  app.launch_new_instance()\n"
     ]
    }
   ],
   "source": [
    "# Make proportion of Race Population for Schoharie\n",
    "\n",
    "mylist = []\n",
    "for i in range(len(races)):\n",
    "    print(races[i])\n",
    "    print((HighF.iloc[1][races[i]])/HighF.iloc[1]['POP2000'])\n",
    "    mylist.append((HighF.iloc[1][races[i]])/HighF.iloc[1]['POP2000'])\n",
    "\n",
    "Schoharie['WhitePop'] = mylist[0]\n",
    "Schoharie['BlackPop'] = mylist[1]\n",
    "Schoharie['Amer_esPop'] = mylist[2]\n",
    "Schoharie['AsianPop'] = mylist[3]\n",
    "Schoharie['HawaiPop'] = mylist[4]\n",
    "Schoharie['OtherPop'] = mylist[5]\n",
    "Schoharie['MultiPop'] = mylist[6]\n",
    "Schoharie['HispanicPop'] = mylist[7]"
   ]
  },
  {
   "cell_type": "code",
   "execution_count": 19,
   "metadata": {},
   "outputs": [
    {
     "data": {
      "image/png": "[encoded data removed]",
      "text/plain": [
       "<Figure size 432x288 with 1 Axes>"
      ]
     },
     "metadata": {},
     "output_type": "display_data"
    }
   ],
   "source": [
    "# Values of each group\n",
    "#WhitePopB =[Fulton.WhitePop.sum(), Schoharie.WhitePop.sum()]\n",
    "BlackpopB = [Fulton.BlackPop.sum(), Schoharie.BlackPop.sum()]\n",
    "HispanicPopB = [Fulton.HispanicPop.sum(), Schoharie.HispanicPop.sum()]\n",
    "MultiPopB = [Fulton.MultiPop.sum(), Schoharie.MultiPop.sum()]\n",
    "AsianpopB = [Fulton.AsianPop.sum(), Schoharie.AsianPop.sum()]\n",
    "Amer_espopB = [Fulton.Amer_esPop.sum(), Schoharie.Amer_esPop.sum()]\n",
    "HawaiPopB = [Fulton.HawaiPop.sum(), Schoharie.HawaiPop.sum()]\n",
    "OtherPopB = [Fulton.OtherPop.sum(), Schoharie.OtherPop.sum()]\n",
    "\n",
    "# The position of the bars on the x-axis\n",
    "r = [0,1]\n",
    " \n",
    "# Names of group and bar width\n",
    "names = ['Fulton','Schoharie']\n",
    "barWidth = 1\n",
    "\n",
    "# Heights of bars1 + bars2 (TO DO better)\n",
    "BlackHisp = [Fulton.BlackPop.sum()+Fulton.HispanicPop.sum(),Schoharie.BlackPop.sum()+Schoharie.HispanicPop.sum()]\n",
    "BlackHispMulti = [Fulton.MultiPop.sum()+Fulton.BlackPop.sum()+Fulton.HispanicPop.sum(),Schoharie.MultiPop.sum()+Schoharie.BlackPop.sum()+Schoharie.HispanicPop.sum()]\n",
    "BlackHispMultiAsian = [Fulton.AsianPop.sum()+Fulton.MultiPop.sum()+Fulton.BlackPop.sum()+Fulton.HispanicPop.sum(),Schoharie.AsianPop.sum()+Schoharie.MultiPop.sum()+Schoharie.BlackPop.sum()+Schoharie.HispanicPop.sum()]\n",
    "BlackHispMultiAsianAmer =[Fulton.Amer_esPop.sum()+Fulton.AsianPop.sum()+Fulton.MultiPop.sum()+Fulton.BlackPop.sum()+Fulton.HispanicPop.sum(),Schoharie.Amer_esPop.sum()+Schoharie.AsianPop.sum()+Schoharie.MultiPop.sum()+Schoharie.BlackPop.sum()+Schoharie.HispanicPop.sum()]\n",
    "BlackHispMultiAsianAmerHaw =[Fulton.HawaiPop.sum()+Fulton.Amer_esPop.sum()+Fulton.AsianPop.sum()+Fulton.MultiPop.sum()+Fulton.BlackPop.sum()+Fulton.HispanicPop.sum(),Schoharie.HawaiPop.sum()+Schoharie.Amer_esPop.sum()+Schoharie.AsianPop.sum()+Schoharie.MultiPop.sum()+Schoharie.BlackPop.sum()+Schoharie.HispanicPop.sum()]\n",
    "\n",
    "\n",
    "# Create bars\n",
    "plt.bar(r, BlackpopB,  color='#E63946', edgecolor='white', width=barWidth,label=\"Black or African American\")\n",
    "plt.bar(r, HispanicPopB, bottom=BlackpopB, color='#F1FAEE', edgecolor='white', width=barWidth,label=\"Hispanic or Latino\")\n",
    "plt.bar(r, MultiPopB, bottom = BlackHisp, color='#A8DADC', edgecolor='white', width=barWidth,label=\"Two or More races\")\n",
    "plt.bar(r, AsianpopB, bottom = BlackHispMulti, color='#457B9D',edgecolor='white', width=barWidth,label=\"Asian\")\n",
    "plt.bar(r, Amer_espopB, bottom=BlackHispMultiAsian, color='#1D3557', edgecolor='white', width=barWidth,label=\"American Indian and Alaska Native alone\")\n",
    "plt.bar(r, HawaiPopB, bottom = BlackHispMultiAsianAmer, color='yellow', edgecolor='white', width=barWidth,label=\"Native Hawaiian and Other Pacific Islander\")\n",
    "plt.bar(r, OtherPopB,bottom = BlackHispMultiAsianAmerHaw , color='#FF9F1C',edgecolor='white', width=barWidth,label=\"Some Other Race\")\n",
    "\n",
    "\n",
    "# Custom X axis\n",
    "plt.xticks(r, names, fontweight='bold')\n",
    "plt.title(\"Diversity Breakdown for Counties with High Female Proportion\")\n",
    "plt.ylabel(\"Percentage of Population\")\n",
    "plt.xlabel(\"County with High Female Proportion\")\n",
    "plt.legend(loc='upper left', bbox_to_anchor=(1,1), ncol=1)\n",
    "\n",
    "pylab.savefig('Demographics.png',bbox_inches='tight')"
   ]
  },
  {
   "cell_type": "code",
   "execution_count": null,
   "metadata": {},
   "outputs": [],
   "source": []
  }
 ],
 "metadata": {
  "kernelspec": {
   "display_name": "myEnv",
   "language": "python",
   "name": "myenv"
  },
  "language_info": {
   "codemirror_mode": {
    "name": "ipython",
    "version": 2
   },
   "file_extension": ".py",
   "mimetype": "text/x-python",
   "name": "python",
   "nbconvert_exporter": "python",
   "pygments_lexer": "ipython2",
   "version": "2.7.15"
  }
 },
 "nbformat": 4,
 "nbformat_minor": 2
}
