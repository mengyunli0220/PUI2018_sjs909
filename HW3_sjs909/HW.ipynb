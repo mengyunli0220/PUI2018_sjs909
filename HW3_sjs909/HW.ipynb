{
 "cells": [
  {
   "cell_type": "code",
   "execution_count": 1,
   "metadata": {},
   "outputs": [],
   "source": [
    "from __future__ import print_function #for compatibility beteen python2 and python3\n"
   ]
  },
  {
   "cell_type": "code",
   "execution_count": 138,
   "metadata": {},
   "outputs": [
    {
     "name": "stdout",
     "output_type": "stream",
     "text": [
      "Populating the interactive namespace from numpy and matplotlib\n"
     ]
    }
   ],
   "source": [
    "import pandas as pd\n",
    "from matplotlib import pyplot as plt\n",
    "import os\n",
    "%pylab inline"
   ]
  },
  {
   "cell_type": "code",
   "execution_count": 2,
   "metadata": {},
   "outputs": [
    {
     "name": "stdout",
     "output_type": "stream",
     "text": [
      "  % Total    % Received % Xferd  Average Speed   Time    Time     Time  Current\n",
      "                                 Dload  Upload   Total   Spent    Left  Speed\n",
      "100 5872k  100 5872k    0     0  25.5M      0 --:--:-- --:--:-- --:--:-- 25.6M\n"
     ]
    }
   ],
   "source": [
    "!curl https://www1.nyc.gov/assets/nypd/downloads/excel/analysis_and_planning/stop-question-frisk/sqf-2017.csv > sqf-2017.csv"
   ]
  },
  {
   "cell_type": "code",
   "execution_count": 3,
   "metadata": {},
   "outputs": [
    {
     "name": "stdout",
     "output_type": "stream",
     "text": [
      "HW.ipynb  sqf-2017.csv\r\n"
     ]
    }
   ],
   "source": [
    "!ls $puidata"
   ]
  },
  {
   "cell_type": "code",
   "execution_count": 5,
   "metadata": {},
   "outputs": [
    {
     "data": {
      "text/plain": [
       "'/nfshome/sjs909/PUIDATA'"
      ]
     },
     "execution_count": 5,
     "metadata": {},
     "output_type": "execute_result"
    }
   ],
   "source": [
    "puidata = os.getenv(\"PUIDATA\")\n",
    "if not puidata or puidata == '/nfshome/sjs909/PUIdata':\n",
    "    puidata = '/nfshome/sjs909/PUIDATA'\n",
    "\n",
    "os.environ[\"PUIDATA\"] = puidata\n",
    "os.environ[\"PUIDATA\"]"
   ]
  },
  {
   "cell_type": "code",
   "execution_count": 6,
   "metadata": {},
   "outputs": [],
   "source": [
    "#read in the data with pandas\n",
    "\n",
    "sqf = pd.read_csv(\"%s/sqf-2017.csv\"%os.getenv(\"PUIDATA\"))"
   ]
  },
  {
   "cell_type": "code",
   "execution_count": 8,
   "metadata": {},
   "outputs": [
    {
     "data": {
      "text/html": [
       "<div>\n",
       "<table border=\"1\" class=\"dataframe\">\n",
       "  <thead>\n",
       "    <tr style=\"text-align: right;\">\n",
       "      <th></th>\n",
       "      <th>STOP_FRISK_ID</th>\n",
       "      <th>STOP_FRISK_DATE</th>\n",
       "      <th>STOP_FRISK_TIME</th>\n",
       "      <th>YEAR2</th>\n",
       "      <th>MONTH2</th>\n",
       "      <th>DAY2</th>\n",
       "      <th>STOP_WAS_INITIATED</th>\n",
       "      <th>SPRINT_NUMBER</th>\n",
       "      <th>RECORD_STATUS_CODE</th>\n",
       "      <th>ISSUING_OFFICER_RANK</th>\n",
       "      <th>...</th>\n",
       "      <th>STOP_LOCATION_SECTOR_CODE</th>\n",
       "      <th>STOP_LOCATION_APARTMENT</th>\n",
       "      <th>STOP_LOCATION_FULL_ADDRESS</th>\n",
       "      <th>STOP_LOCATION_PREMISES_NAME</th>\n",
       "      <th>STOP_LOCATION_STREET_NAME</th>\n",
       "      <th>STOP_LOCATION_X</th>\n",
       "      <th>STOP_LOCATION_Y</th>\n",
       "      <th>STOP_LOCATION_ZIP_CODE</th>\n",
       "      <th>STOP_LOCATION_PATROL_BORO_NAME</th>\n",
       "      <th>STOP_LOCATION_BORO_NAME</th>\n",
       "    </tr>\n",
       "  </thead>\n",
       "  <tbody>\n",
       "    <tr>\n",
       "      <th>0</th>\n",
       "      <td>1</td>\n",
       "      <td>1/16/2017</td>\n",
       "      <td>14:26:00</td>\n",
       "      <td>2017</td>\n",
       "      <td>January</td>\n",
       "      <td>Monday</td>\n",
       "      <td>Based on Self Initiated</td>\n",
       "      <td>11617924</td>\n",
       "      <td>APP</td>\n",
       "      <td>SGT</td>\n",
       "      <td>...</td>\n",
       "      <td>(null)</td>\n",
       "      <td>(null)</td>\n",
       "      <td>180 GREENWICH STREET</td>\n",
       "      <td>(null)</td>\n",
       "      <td>GREENWICH STREET</td>\n",
       "      <td>982381</td>\n",
       "      <td>201750</td>\n",
       "      <td>(null)</td>\n",
       "      <td>PBMS</td>\n",
       "      <td>MANHATTAN</td>\n",
       "    </tr>\n",
       "    <tr>\n",
       "      <th>1</th>\n",
       "      <td>2</td>\n",
       "      <td>1/16/2017</td>\n",
       "      <td>14:26:00</td>\n",
       "      <td>2017</td>\n",
       "      <td>January</td>\n",
       "      <td>Monday</td>\n",
       "      <td>Based on Self Initiated</td>\n",
       "      <td>11617924</td>\n",
       "      <td>APP</td>\n",
       "      <td>SGT</td>\n",
       "      <td>...</td>\n",
       "      <td>(null)</td>\n",
       "      <td>(null)</td>\n",
       "      <td>180 GREENWICH STREET</td>\n",
       "      <td>(null)</td>\n",
       "      <td>GREENWICH STREET</td>\n",
       "      <td>982381</td>\n",
       "      <td>201750</td>\n",
       "      <td>(null)</td>\n",
       "      <td>PBMS</td>\n",
       "      <td>MANHATTAN</td>\n",
       "    </tr>\n",
       "    <tr>\n",
       "      <th>2</th>\n",
       "      <td>3</td>\n",
       "      <td>2/8/2017</td>\n",
       "      <td>11:10:00</td>\n",
       "      <td>2017</td>\n",
       "      <td>February</td>\n",
       "      <td>Wednesday</td>\n",
       "      <td>Based on C/W on Scene</td>\n",
       "      <td>17020808555</td>\n",
       "      <td>APP</td>\n",
       "      <td>POM</td>\n",
       "      <td>...</td>\n",
       "      <td>C</td>\n",
       "      <td>(null)</td>\n",
       "      <td>WALL STREET &amp;&amp; BROADWAY</td>\n",
       "      <td>(null)</td>\n",
       "      <td>WALL STREET</td>\n",
       "      <td>981005</td>\n",
       "      <td>197131</td>\n",
       "      <td>(null)</td>\n",
       "      <td>PBMS</td>\n",
       "      <td>MANHATTAN</td>\n",
       "    </tr>\n",
       "    <tr>\n",
       "      <th>3</th>\n",
       "      <td>4</td>\n",
       "      <td>2/20/2017</td>\n",
       "      <td>11:35:00</td>\n",
       "      <td>2017</td>\n",
       "      <td>February</td>\n",
       "      <td>Monday</td>\n",
       "      <td>Based on Self Initiated</td>\n",
       "      <td>9027</td>\n",
       "      <td>APP</td>\n",
       "      <td>POM</td>\n",
       "      <td>...</td>\n",
       "      <td>H</td>\n",
       "      <td>(null)</td>\n",
       "      <td>75 GREENE STREET</td>\n",
       "      <td>(null)</td>\n",
       "      <td>GREENE STREET</td>\n",
       "      <td>984031</td>\n",
       "      <td>202796</td>\n",
       "      <td>(null)</td>\n",
       "      <td>PBMS</td>\n",
       "      <td>MANHATTAN</td>\n",
       "    </tr>\n",
       "    <tr>\n",
       "      <th>4</th>\n",
       "      <td>5</td>\n",
       "      <td>2/21/2017</td>\n",
       "      <td>13:20:00</td>\n",
       "      <td>2017</td>\n",
       "      <td>February</td>\n",
       "      <td>Tuesday</td>\n",
       "      <td>Based on Radio Run</td>\n",
       "      <td>10439</td>\n",
       "      <td>APP</td>\n",
       "      <td>POM</td>\n",
       "      <td>...</td>\n",
       "      <td>H</td>\n",
       "      <td>2</td>\n",
       "      <td>429 WEST BROADWAY</td>\n",
       "      <td>(null)</td>\n",
       "      <td>WEST BROADWAY</td>\n",
       "      <td>983894</td>\n",
       "      <td>203523</td>\n",
       "      <td>(null)</td>\n",
       "      <td>PBMS</td>\n",
       "      <td>MANHATTAN</td>\n",
       "    </tr>\n",
       "    <tr>\n",
       "      <th>5</th>\n",
       "      <td>6</td>\n",
       "      <td>2/17/2017</td>\n",
       "      <td>21:25:00</td>\n",
       "      <td>2017</td>\n",
       "      <td>February</td>\n",
       "      <td>Friday</td>\n",
       "      <td>Based on C/W on Scene</td>\n",
       "      <td>22344</td>\n",
       "      <td>APP</td>\n",
       "      <td>POM</td>\n",
       "      <td>...</td>\n",
       "      <td>G</td>\n",
       "      <td>(null)</td>\n",
       "      <td>WEST STREET &amp;&amp; CHAMBERS STREET</td>\n",
       "      <td>(null)</td>\n",
       "      <td>WEST STREET</td>\n",
       "      <td>1043002</td>\n",
       "      <td>213598</td>\n",
       "      <td>(null)</td>\n",
       "      <td>PBMS</td>\n",
       "      <td>MANHATTAN</td>\n",
       "    </tr>\n",
       "    <tr>\n",
       "      <th>6</th>\n",
       "      <td>7</td>\n",
       "      <td>2/25/2017</td>\n",
       "      <td>20:00:00</td>\n",
       "      <td>2017</td>\n",
       "      <td>February</td>\n",
       "      <td>Saturday</td>\n",
       "      <td>Based on Radio Run</td>\n",
       "      <td>21097</td>\n",
       "      <td>APP</td>\n",
       "      <td>POM</td>\n",
       "      <td>...</td>\n",
       "      <td>G</td>\n",
       "      <td>(null)</td>\n",
       "      <td>CHAMBERS STREET &amp;&amp; WEST BROADWAY</td>\n",
       "      <td>(null)</td>\n",
       "      <td>CHAMBERS STREET</td>\n",
       "      <td>981689</td>\n",
       "      <td>199960</td>\n",
       "      <td>(null)</td>\n",
       "      <td>PBMS</td>\n",
       "      <td>MANHATTAN</td>\n",
       "    </tr>\n",
       "    <tr>\n",
       "      <th>7</th>\n",
       "      <td>8</td>\n",
       "      <td>2/25/2017</td>\n",
       "      <td>19:58:00</td>\n",
       "      <td>2017</td>\n",
       "      <td>February</td>\n",
       "      <td>Saturday</td>\n",
       "      <td>Based on Radio Run</td>\n",
       "      <td>21097</td>\n",
       "      <td>APP</td>\n",
       "      <td>POM</td>\n",
       "      <td>...</td>\n",
       "      <td>G</td>\n",
       "      <td>(null)</td>\n",
       "      <td>CHAMBERS STREET &amp;&amp; WEST BROADWAY</td>\n",
       "      <td>(null)</td>\n",
       "      <td>CHAMBERS STREET</td>\n",
       "      <td>981689</td>\n",
       "      <td>199960</td>\n",
       "      <td>(null)</td>\n",
       "      <td>PBMS</td>\n",
       "      <td>MANHATTAN</td>\n",
       "    </tr>\n",
       "  </tbody>\n",
       "</table>\n",
       "<p>8 rows × 86 columns</p>\n",
       "</div>"
      ],
      "text/plain": [
       "   STOP_FRISK_ID STOP_FRISK_DATE STOP_FRISK_TIME  YEAR2    MONTH2       DAY2  \\\n",
       "0              1       1/16/2017        14:26:00   2017   January     Monday   \n",
       "1              2       1/16/2017        14:26:00   2017   January     Monday   \n",
       "2              3        2/8/2017        11:10:00   2017  February  Wednesday   \n",
       "3              4       2/20/2017        11:35:00   2017  February     Monday   \n",
       "4              5       2/21/2017        13:20:00   2017  February    Tuesday   \n",
       "5              6       2/17/2017        21:25:00   2017  February     Friday   \n",
       "6              7       2/25/2017        20:00:00   2017  February   Saturday   \n",
       "7              8       2/25/2017        19:58:00   2017  February   Saturday   \n",
       "\n",
       "        STOP_WAS_INITIATED SPRINT_NUMBER RECORD_STATUS_CODE  \\\n",
       "0  Based on Self Initiated      11617924                APP   \n",
       "1  Based on Self Initiated      11617924                APP   \n",
       "2    Based on C/W on Scene   17020808555                APP   \n",
       "3  Based on Self Initiated          9027                APP   \n",
       "4       Based on Radio Run         10439                APP   \n",
       "5    Based on C/W on Scene         22344                APP   \n",
       "6       Based on Radio Run         21097                APP   \n",
       "7       Based on Radio Run         21097                APP   \n",
       "\n",
       "  ISSUING_OFFICER_RANK           ...             STOP_LOCATION_SECTOR_CODE  \\\n",
       "0                  SGT           ...                                (null)   \n",
       "1                  SGT           ...                                (null)   \n",
       "2                  POM           ...                                     C   \n",
       "3                  POM           ...                                     H   \n",
       "4                  POM           ...                                     H   \n",
       "5                  POM           ...                                     G   \n",
       "6                  POM           ...                                     G   \n",
       "7                  POM           ...                                     G   \n",
       "\n",
       "  STOP_LOCATION_APARTMENT        STOP_LOCATION_FULL_ADDRESS  \\\n",
       "0                  (null)              180 GREENWICH STREET   \n",
       "1                  (null)              180 GREENWICH STREET   \n",
       "2                  (null)           WALL STREET && BROADWAY   \n",
       "3                  (null)                  75 GREENE STREET   \n",
       "4                       2                 429 WEST BROADWAY   \n",
       "5                  (null)    WEST STREET && CHAMBERS STREET   \n",
       "6                  (null)  CHAMBERS STREET && WEST BROADWAY   \n",
       "7                  (null)  CHAMBERS STREET && WEST BROADWAY   \n",
       "\n",
       "  STOP_LOCATION_PREMISES_NAME STOP_LOCATION_STREET_NAME STOP_LOCATION_X  \\\n",
       "0                      (null)          GREENWICH STREET          982381   \n",
       "1                      (null)          GREENWICH STREET          982381   \n",
       "2                      (null)               WALL STREET          981005   \n",
       "3                      (null)             GREENE STREET          984031   \n",
       "4                      (null)             WEST BROADWAY          983894   \n",
       "5                      (null)               WEST STREET         1043002   \n",
       "6                      (null)           CHAMBERS STREET          981689   \n",
       "7                      (null)           CHAMBERS STREET          981689   \n",
       "\n",
       "  STOP_LOCATION_Y  STOP_LOCATION_ZIP_CODE STOP_LOCATION_PATROL_BORO_NAME  \\\n",
       "0          201750                  (null)                           PBMS   \n",
       "1          201750                  (null)                           PBMS   \n",
       "2          197131                  (null)                           PBMS   \n",
       "3          202796                  (null)                           PBMS   \n",
       "4          203523                  (null)                           PBMS   \n",
       "5          213598                  (null)                           PBMS   \n",
       "6          199960                  (null)                           PBMS   \n",
       "7          199960                  (null)                           PBMS   \n",
       "\n",
       "   STOP_LOCATION_BORO_NAME  \n",
       "0                MANHATTAN  \n",
       "1                MANHATTAN  \n",
       "2                MANHATTAN  \n",
       "3                MANHATTAN  \n",
       "4                MANHATTAN  \n",
       "5                MANHATTAN  \n",
       "6                MANHATTAN  \n",
       "7                MANHATTAN  \n",
       "\n",
       "[8 rows x 86 columns]"
      ]
     },
     "execution_count": 8,
     "metadata": {},
     "output_type": "execute_result"
    }
   ],
   "source": [
    "#print the fist 8 lines out\n",
    "sqf.head(8)"
   ]
  },
  {
   "cell_type": "code",
   "execution_count": 9,
   "metadata": {},
   "outputs": [
    {
     "data": {
      "text/html": [
       "<div>\n",
       "<table border=\"1\" class=\"dataframe\">\n",
       "  <thead>\n",
       "    <tr style=\"text-align: right;\">\n",
       "      <th></th>\n",
       "      <th>STOP_FRISK_ID</th>\n",
       "      <th>STOP_FRISK_DATE</th>\n",
       "      <th>STOP_FRISK_TIME</th>\n",
       "      <th>YEAR2</th>\n",
       "      <th>MONTH2</th>\n",
       "      <th>DAY2</th>\n",
       "      <th>STOP_WAS_INITIATED</th>\n",
       "      <th>SPRINT_NUMBER</th>\n",
       "      <th>RECORD_STATUS_CODE</th>\n",
       "      <th>ISSUING_OFFICER_RANK</th>\n",
       "      <th>...</th>\n",
       "      <th>STOP_LOCATION_SECTOR_CODE</th>\n",
       "      <th>STOP_LOCATION_APARTMENT</th>\n",
       "      <th>STOP_LOCATION_FULL_ADDRESS</th>\n",
       "      <th>STOP_LOCATION_PREMISES_NAME</th>\n",
       "      <th>STOP_LOCATION_STREET_NAME</th>\n",
       "      <th>STOP_LOCATION_X</th>\n",
       "      <th>STOP_LOCATION_Y</th>\n",
       "      <th>STOP_LOCATION_ZIP_CODE</th>\n",
       "      <th>STOP_LOCATION_PATROL_BORO_NAME</th>\n",
       "      <th>STOP_LOCATION_BORO_NAME</th>\n",
       "    </tr>\n",
       "  </thead>\n",
       "  <tbody>\n",
       "    <tr>\n",
       "      <th>11626</th>\n",
       "      <td>11627</td>\n",
       "      <td>10/7/2017</td>\n",
       "      <td>23:45:00</td>\n",
       "      <td>2017</td>\n",
       "      <td>October</td>\n",
       "      <td>Saturday</td>\n",
       "      <td>Based on Self Initiated</td>\n",
       "      <td>NONE</td>\n",
       "      <td>APP</td>\n",
       "      <td>POM</td>\n",
       "      <td>...</td>\n",
       "      <td>(null)</td>\n",
       "      <td>(null)</td>\n",
       "      <td>(null)</td>\n",
       "      <td>(null)</td>\n",
       "      <td>(null)</td>\n",
       "      <td></td>\n",
       "      <td></td>\n",
       "      <td>(null)</td>\n",
       "      <td>(nul</td>\n",
       "      <td>(null)</td>\n",
       "    </tr>\n",
       "    <tr>\n",
       "      <th>11627</th>\n",
       "      <td>11628</td>\n",
       "      <td>12/26/2017</td>\n",
       "      <td>15:25:00</td>\n",
       "      <td>2017</td>\n",
       "      <td>December</td>\n",
       "      <td>Tuesday</td>\n",
       "      <td>Based on Self Initiated</td>\n",
       "      <td>0</td>\n",
       "      <td>APP</td>\n",
       "      <td>POM</td>\n",
       "      <td>...</td>\n",
       "      <td>(null)</td>\n",
       "      <td>(null)</td>\n",
       "      <td>(null)</td>\n",
       "      <td>(null)</td>\n",
       "      <td>(null)</td>\n",
       "      <td></td>\n",
       "      <td></td>\n",
       "      <td>(null)</td>\n",
       "      <td>(nul</td>\n",
       "      <td>(null)</td>\n",
       "    </tr>\n",
       "    <tr>\n",
       "      <th>11628</th>\n",
       "      <td>11629</td>\n",
       "      <td>11/12/2017</td>\n",
       "      <td>22:55:00</td>\n",
       "      <td>2017</td>\n",
       "      <td>November</td>\n",
       "      <td>Sunday</td>\n",
       "      <td>Based on Self Initiated</td>\n",
       "      <td>0</td>\n",
       "      <td>APP</td>\n",
       "      <td>POM</td>\n",
       "      <td>...</td>\n",
       "      <td>(null)</td>\n",
       "      <td>(null)</td>\n",
       "      <td>(null)</td>\n",
       "      <td>(null)</td>\n",
       "      <td>(null)</td>\n",
       "      <td></td>\n",
       "      <td></td>\n",
       "      <td>(null)</td>\n",
       "      <td>(nul</td>\n",
       "      <td>(null)</td>\n",
       "    </tr>\n",
       "  </tbody>\n",
       "</table>\n",
       "<p>3 rows × 86 columns</p>\n",
       "</div>"
      ],
      "text/plain": [
       "       STOP_FRISK_ID STOP_FRISK_DATE STOP_FRISK_TIME  YEAR2    MONTH2  \\\n",
       "11626          11627       10/7/2017        23:45:00   2017   October   \n",
       "11627          11628      12/26/2017        15:25:00   2017  December   \n",
       "11628          11629      11/12/2017        22:55:00   2017  November   \n",
       "\n",
       "           DAY2       STOP_WAS_INITIATED SPRINT_NUMBER RECORD_STATUS_CODE  \\\n",
       "11626  Saturday  Based on Self Initiated          NONE                APP   \n",
       "11627   Tuesday  Based on Self Initiated             0                APP   \n",
       "11628    Sunday  Based on Self Initiated             0                APP   \n",
       "\n",
       "      ISSUING_OFFICER_RANK           ...             \\\n",
       "11626                  POM           ...              \n",
       "11627                  POM           ...              \n",
       "11628                  POM           ...              \n",
       "\n",
       "       STOP_LOCATION_SECTOR_CODE STOP_LOCATION_APARTMENT  \\\n",
       "11626                     (null)                  (null)   \n",
       "11627                     (null)                  (null)   \n",
       "11628                     (null)                  (null)   \n",
       "\n",
       "       STOP_LOCATION_FULL_ADDRESS STOP_LOCATION_PREMISES_NAME  \\\n",
       "11626                      (null)                      (null)   \n",
       "11627                      (null)                      (null)   \n",
       "11628                      (null)                      (null)   \n",
       "\n",
       "      STOP_LOCATION_STREET_NAME STOP_LOCATION_X STOP_LOCATION_Y  \\\n",
       "11626                    (null)                                   \n",
       "11627                    (null)                                   \n",
       "11628                    (null)                                   \n",
       "\n",
       "       STOP_LOCATION_ZIP_CODE STOP_LOCATION_PATROL_BORO_NAME  \\\n",
       "11626                  (null)                           (nul   \n",
       "11627                  (null)                           (nul   \n",
       "11628                  (null)                           (nul   \n",
       "\n",
       "       STOP_LOCATION_BORO_NAME  \n",
       "11626                   (null)  \n",
       "11627                   (null)  \n",
       "11628                   (null)  \n",
       "\n",
       "[3 rows x 86 columns]"
      ]
     },
     "execution_count": 9,
     "metadata": {},
     "output_type": "execute_result"
    }
   ],
   "source": [
    "#print the last 3 lines out\n",
    "sqf.tail(3)"
   ]
  },
  {
   "cell_type": "code",
   "execution_count": 10,
   "metadata": {},
   "outputs": [
    {
     "data": {
      "text/plain": [
       "Index(['STOP_FRISK_ID', 'STOP_FRISK_DATE', 'STOP_FRISK_TIME', 'YEAR2',\n",
       "       'MONTH2', 'DAY2', 'STOP_WAS_INITIATED', 'SPRINT_NUMBER',\n",
       "       'RECORD_STATUS_CODE', 'ISSUING_OFFICER_RANK',\n",
       "       'ISSUING_OFFICER_COMMAND_CODE', 'SUPERVISING_OFFICER_RANK',\n",
       "       'SUPERVISING_OFFICER_COMMAND_CODE',\n",
       "       'SUPERVISING_ACTION_CORRESPONDING_ACTIVITY_LOG_ENTRY_REVIEWED',\n",
       "       'LOCATION_IN_OUT_CODE', 'JURISDICTION_CODE', 'JURISDICTION_DESCRIPTION',\n",
       "       'OBSERVED_DURATION_MINUTES', 'SUSPECTED_CRIME_DESCRIPTION',\n",
       "       'STOP_DURATION_MINUTES', 'OFFICER_EXPLAINED_STOP_FLAG',\n",
       "       'OFFICER_NOT_EXPLAINED_STOP_DESCRIPTION', 'OTHER_PERSON_STOPPED_FLAG',\n",
       "       'SUSPECT_ARRESTED_FLAG', 'SUSPECT_ARREST_NUMBER',\n",
       "       'SUSPECT_ARREST_OFFENSE', 'SUMMONS_ISSUED_FLAG', 'SUMMONS_NUMBER',\n",
       "       'SUMMONS_OFFENSE_DESCRIPTION', 'OFFICER_IN_UNIFORM_FLAG',\n",
       "       'ID_CARD_IDENTIFIES_OFFICER_FLAG', 'SHIELD_IDENTIFIES_OFFICER_FLAG',\n",
       "       'VERBAL_IDENTIFIES_OFFICER_FLAG', 'FRISKED_FLAG', 'SEARCHED_FLAG',\n",
       "       'OTHER_CONTRABAND_FLAG', 'FIREARM_FLAG', 'KNIFE_CUTTER_FLAG',\n",
       "       'OTHER_WEAPON_FLAG', 'WEAPON_FOUND_FLAG', 'PHYSICAL_FORCE_CEW_FLAG',\n",
       "       'PHYSICAL_FORCE_DRAW_POINT_FIREARM_FLAG',\n",
       "       'PHYSICAL_FORCE_HANDCUFF_SUSPECT_FLAG',\n",
       "       'PHYSICAL_FORCE_OC_SPRAY_USED_FLAG', 'PHYSICAL_FORCE_OTHER_FLAG',\n",
       "       'PHYSICAL_FORCE_RESTRAINT_USED_FLAG',\n",
       "       'PHYSICAL_FORCE_VERBAL_INSTRUCTION_FLAG',\n",
       "       'PHYSICAL_FORCE_WEAPON_IMPACT_FLAG',\n",
       "       'BACKROUND_CIRCUMSTANCES_VIOLENT_CRIME_FLAG',\n",
       "       'BACKROUND_CIRCUMSTANCES_SUSPECT_KNOWN_TO_CARRY_WEAPON_FLAG',\n",
       "       'SUSPECTS_ACTIONS_CASING_FLAG',\n",
       "       'SUSPECTS_ACTIONS_CONCEALED_POSSESSION_WEAPON_FLAG',\n",
       "       'SUSPECTS_ACTIONS_DECRIPTION_FLAG',\n",
       "       'SUSPECTS_ACTIONS_DRUG_TRANSACTIONS_FLAG',\n",
       "       'SUSPECTS_ACTIONS_IDENTIFY_CRIME_PATTERN_FLAG',\n",
       "       'SUSPECTS_ACTIONS_LOOKOUT_FLAG', 'SUSPECTS_ACTIONS_OTHER_FLAG',\n",
       "       'SUSPECTS_ACTIONS_PROXIMITY_TO_SCENE_FLAG',\n",
       "       'SEARCH_BASIS_ADMISSION_FLAG', 'SEARCH_BASIS_CONSENT_FLAG',\n",
       "       'SEARCH_BASIS_HARD_OBJECT_FLAG',\n",
       "       'SEARCH_BASIS_INCIDENTAL_TO_ARREST_FLAG', 'SEARCH_BASIS_OTHER_FLAG',\n",
       "       'SEARCH_BASIS_OUTLINE_FLAG', 'DEMEANOR_CODE',\n",
       "       'DEMEANOR_OF_PERSON_STOPPED', 'SUSPECT_REPORTED_AGE', 'SUSPECT_SEX',\n",
       "       'SUSPECT_RACE_DESCRIPTION', 'SUSPECT_HEIGHT', 'SUSPECT_WEIGHT',\n",
       "       'SUSPECT_BODY_BUILD_TYPE', 'SUSPECT_EYE_COLOR', 'SUSPECT_HAIR_COLOR',\n",
       "       'SUSPECT_OTHER_DESCRIPTION', 'STOP_LOCATION_PRECINCT',\n",
       "       'STOP_LOCATION_SECTOR_CODE', 'STOP_LOCATION_APARTMENT',\n",
       "       'STOP_LOCATION_FULL_ADDRESS', 'STOP_LOCATION_PREMISES_NAME',\n",
       "       'STOP_LOCATION_STREET_NAME', 'STOP_LOCATION_X', 'STOP_LOCATION_Y',\n",
       "       'STOP_LOCATION_ZIP_CODE', 'STOP_LOCATION_PATROL_BORO_NAME',\n",
       "       'STOP_LOCATION_BORO_NAME'],\n",
       "      dtype='object')"
      ]
     },
     "execution_count": 10,
     "metadata": {},
     "output_type": "execute_result"
    }
   ],
   "source": [
    "#look at the columns available, those are the variables\n",
    "sqf.columns"
   ]
  },
  {
   "cell_type": "code",
   "execution_count": 11,
   "metadata": {},
   "outputs": [
    {
     "data": {
      "text/plain": [
       "1000094"
      ]
     },
     "execution_count": 11,
     "metadata": {},
     "output_type": "execute_result"
    }
   ],
   "source": [
    "#count how many rows, those are the data points\n",
    "sqf.size"
   ]
  },
  {
   "cell_type": "code",
   "execution_count": 99,
   "metadata": {},
   "outputs": [],
   "source": [
    "#select 2 columns only for plotting\n",
    "sqf_2c = sqf[['SUSPECT_REPORTED_AGE', 'STOP_DURATION_MINUTES']]"
   ]
  },
  {
   "cell_type": "code",
   "execution_count": 137,
   "metadata": {},
   "outputs": [
    {
     "data": {
      "text/html": [
       "<div>\n",
       "<table border=\"1\" class=\"dataframe\">\n",
       "  <thead>\n",
       "    <tr style=\"text-align: right;\">\n",
       "      <th></th>\n",
       "      <th>SUSPECT_REPORTED_AGE</th>\n",
       "      <th>STOP_DURATION_MINUTES</th>\n",
       "    </tr>\n",
       "  </thead>\n",
       "  <tbody>\n",
       "    <tr>\n",
       "      <th>10727</th>\n",
       "      <td>0</td>\n",
       "      <td>8</td>\n",
       "    </tr>\n",
       "    <tr>\n",
       "      <th>11569</th>\n",
       "      <td>0</td>\n",
       "      <td>10</td>\n",
       "    </tr>\n",
       "    <tr>\n",
       "      <th>4532</th>\n",
       "      <td>0</td>\n",
       "      <td>15</td>\n",
       "    </tr>\n",
       "    <tr>\n",
       "      <th>9927</th>\n",
       "      <td>0</td>\n",
       "      <td>15</td>\n",
       "    </tr>\n",
       "    <tr>\n",
       "      <th>10538</th>\n",
       "      <td>1</td>\n",
       "      <td>10</td>\n",
       "    </tr>\n",
       "  </tbody>\n",
       "</table>\n",
       "</div>"
      ],
      "text/plain": [
       "      SUSPECT_REPORTED_AGE  STOP_DURATION_MINUTES\n",
       "10727                    0                      8\n",
       "11569                    0                     10\n",
       "4532                     0                     15\n",
       "9927                     0                     15\n",
       "10538                    1                     10"
      ]
     },
     "execution_count": 137,
     "metadata": {},
     "output_type": "execute_result"
    }
   ],
   "source": [
    "sqf_2c.head()\n"
   ]
  },
  {
   "cell_type": "code",
   "execution_count": 109,
   "metadata": {
    "scrolled": true
   },
   "outputs": [
    {
     "name": "stdout",
     "output_type": "stream",
     "text": [
      "<class 'pandas.core.frame.DataFrame'>\n",
      "Int64Index: 11003 entries, 0 to 11628\n",
      "Data columns (total 2 columns):\n",
      "SUSPECT_REPORTED_AGE     11003 non-null object\n",
      "STOP_DURATION_MINUTES    11003 non-null int64\n",
      "dtypes: int64(1), object(1)\n",
      "memory usage: 257.9+ KB\n"
     ]
    }
   ],
   "source": [
    "sqf_2c.dtypes\n",
    "sqf_2c.info()"
   ]
  },
  {
   "cell_type": "code",
   "execution_count": 126,
   "metadata": {},
   "outputs": [
    {
     "name": "stderr",
     "output_type": "stream",
     "text": [
      "/usr/local/Anaconda3-5.0.0-Linux-x86_64/envs/PUI2016_Python3/lib/python3.5/site-packages/pandas/core/generic.py:3443: SettingWithCopyWarning: \n",
      "A value is trying to be set on a copy of a slice from a DataFrame\n",
      "\n",
      "See the caveats in the documentation: http://pandas.pydata.org/pandas-docs/stable/indexing.html#indexing-view-versus-copy\n",
      "  self._update_inplace(new_data)\n",
      "/usr/local/Anaconda3-5.0.0-Linux-x86_64/envs/PUI2016_Python3/lib/python3.5/site-packages/ipykernel/__main__.py:3: SettingWithCopyWarning: \n",
      "A value is trying to be set on a copy of a slice from a DataFrame\n",
      "\n",
      "See the caveats in the documentation: http://pandas.pydata.org/pandas-docs/stable/indexing.html#indexing-view-versus-copy\n",
      "  app.launch_new_instance()\n",
      "/usr/local/Anaconda3-5.0.0-Linux-x86_64/envs/PUI2016_Python3/lib/python3.5/site-packages/ipykernel/__main__.py:4: SettingWithCopyWarning: \n",
      "A value is trying to be set on a copy of a slice from a DataFrame\n",
      "\n",
      "See the caveats in the documentation: http://pandas.pydata.org/pandas-docs/stable/indexing.html#indexing-view-versus-copy\n"
     ]
    }
   ],
   "source": [
    "#Delete rows with null data and sort values of age\n",
    "sqf_2c['SUSPECT_REPORTED_AGE'].replace('(null)', np.nan, inplace=True)\n",
    "sqf_2c.dropna(subset=['SUSPECT_REPORTED_AGE'], inplace=True)\n",
    "sqf_2c.sort_values('SUSPECT_REPORTED_AGE', inplace=True)"
   ]
  },
  {
   "cell_type": "code",
   "execution_count": 135,
   "metadata": {
    "scrolled": false
   },
   "outputs": [
    {
     "data": {
      "text/plain": [
       "Text(0.5,1,'Suspect Age and Amount of Time Stopped')"
      ]
     },
     "execution_count": 135,
     "metadata": {},
     "output_type": "execute_result"
    },
    {
     "data": {
      "image/png": "[encoded data removed]",
      "text/plain": [
       "<matplotlib.figure.Figure at 0x7fe5b4424748>"
      ]
     },
     "metadata": {},
     "output_type": "display_data"
    }
   ],
   "source": [
    "sqf_2c.plot(x='SUSPECT_REPORTED_AGE', y='STOP_DURATION_MINUTES')\n",
    "plt.xlabel(r'$Age$', fontsize = 16)\n",
    "plt.ylabel('Stop Duration Minutes', fontsize = 16)\n",
    "plt.title(r'Suspect Age and Amount of Time Stopped', fontsize = 20)\n",
    "# every plot needs a caption that explains to the reader \n",
    "# 1) WHAT what the reader is loooking at and \n",
    "# 2) WHY why the reader is looking at it here in the analysis \n",
    "#      (in this case there is no why cause this plot is not part of an analysis)\n",
    "# 3) TAKE HOME what is the take home point for the plot in the analysis \n",
    "#      (also there is no take home point here cause we are not doind an analysis but you can point out interesting features)"
   ]
  },
  {
   "cell_type": "markdown",
   "metadata": {},
   "source": [
    "Figure 1. This is a graph that plots The Stop, Question and Frisk data from the NYC Open Database reported by the Police Department (NYPD) for the year of 2017. It shows the age of the suspect compared to the time that they were stopped. It is interesting to see the spike in time for suspects of the approximate age of 12, 21 and 45. Perhaps there are just more suspects being stopped at these ages or it takes the Police Department longer to stop this age demographic.  "
   ]
  },
  {
   "cell_type": "code",
   "execution_count": 143,
   "metadata": {
    "scrolled": true
   },
   "outputs": [
    {
     "data": {
      "text/plain": [
       "Text(0.5,1,'Suspect Age and Amount of Time Stopped')"
      ]
     },
     "execution_count": 143,
     "metadata": {},
     "output_type": "execute_result"
    },
    {
     "data": {
      "image/png": "[encoded data removed]",
      "text/plain": [
       "<matplotlib.figure.Figure at 0x7fe5b427c828>"
      ]
     },
     "metadata": {},
     "output_type": "display_data"
    }
   ],
   "source": [
    "plt.scatter(x=sqf_2c['SUSPECT_REPORTED_AGE'], y=sqf_2c['STOP_DURATION_MINUTES'],c='r')\n",
    "plt.xlabel(r'$Age$', fontsize = 16)\n",
    "plt.ylabel('Stop Duration Minutes', fontsize = 16)\n",
    "plt.title(r'Suspect Age and Amount of Time Stopped', fontsize = 20)"
   ]
  }
 ],
 "metadata": {
  "kernelspec": {
   "display_name": "PUI2016_Python3",
   "language": "python",
   "name": "pui2016_python3"
  },
  "language_info": {
   "codemirror_mode": {
    "name": "ipython",
    "version": 3
   },
   "file_extension": ".py",
   "mimetype": "text/x-python",
   "name": "python",
   "nbconvert_exporter": "python",
   "pygments_lexer": "ipython3",
   "version": "3.5.4"
  }
 },
 "nbformat": 4,
 "nbformat_minor": 2
}
