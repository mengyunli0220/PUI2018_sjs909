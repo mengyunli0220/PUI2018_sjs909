{
 "cells": [
  {
   "cell_type": "code",
   "execution_count": 68,
   "metadata": {},
   "outputs": [],
   "source": [
    "from __future__ import print_function\n",
    "%matplotlib inline\n",
    "import geopandas as gpd\n",
    "import numpy as np\n",
    "from censusAPI import myAPI\n",
    "import pandas as pd\n",
    "import io\n",
    "import shapely\n",
    "from geopandas.tools import sjoin\n",
    "from geopandas import GeoDataFrame\n",
    "from matplotlib import pyplot as plt\n",
    "import os\n",
    "import zipfile\n",
    "import json\n",
    "from fiona.crs import from_epsg\n",
    "import sys\n",
    "try:\n",
    "    import urllib2 as urllib\n",
    "except ImportError:\n",
    "    import urllib.request as urllib\n",
    "import requests"
   ]
  },
  {
   "cell_type": "markdown",
   "metadata": {},
   "source": [
    "# Census Geographies\n",
    "census tracts, census blocks, Public Use Microdata Areas (PUMAs) <br>\n",
    "Each PUMA contains at least 100,000 people. PUMAs do not overlap, and are contained within a single state.\n",
    "\n"
   ]
  },
  {
   "cell_type": "markdown",
   "metadata": {},
   "source": [
    "# 1.1 download the NYC Public Use Microdata Areas (PUMA) geometry from the NYC Open Data API and read it in with geopandas"
   ]
  },
  {
   "cell_type": "code",
   "execution_count": 2,
   "metadata": {},
   "outputs": [
    {
     "data": {
      "text/plain": [
       "'/nfshome/sjs909/PUIDATA'"
      ]
     },
     "execution_count": 2,
     "metadata": {},
     "output_type": "execute_result"
    }
   ],
   "source": [
    "#unpack pluto dataframe in PUIDATA\n",
    "puidata = os.getenv(\"PUIDATA\")\n",
    "if not puidata or puidata == '/nfshome/sjs909/PUIdata':\n",
    "    puidata = '/nfshome/sjs909/PUIDATA'\n",
    "\n",
    "os.environ[\"PUIDATA\"] = puidata\n",
    "os.environ[\"PUIDATA\"]"
   ]
  },
  {
   "cell_type": "code",
   "execution_count": 3,
   "metadata": {},
   "outputs": [],
   "source": [
    "with zipfile.ZipFile(\"%s/Public Use Microdata Areas (PUMA).zip\"%os.getenv(\"PUIDATA\"),\"r\") as zip_ref:\n",
    "    zip_ref.extractall(\"PUMAdir\")"
   ]
  },
  {
   "cell_type": "code",
   "execution_count": 4,
   "metadata": {},
   "outputs": [
    {
     "ename": "OSError",
     "evalue": "[Errno 39] Directory not empty: '/nfshome/sjs909/PUI2018/HW7_sjs909/PUMAdir' -> '/nfshome/sjs909/PUIDATA/PUMAdir'",
     "output_type": "error",
     "traceback": [
      "\u001b[0;31m---------------------------------------------------------------------------\u001b[0m",
      "\u001b[0;31mOSError\u001b[0m                                   Traceback (most recent call last)",
      "\u001b[0;32m<ipython-input-4-3a7b85083817>\u001b[0m in \u001b[0;36m<module>\u001b[0;34m()\u001b[0m\n\u001b[1;32m      1\u001b[0m \u001b[0;31m#Move into PUIDATA\u001b[0m\u001b[0;34m\u001b[0m\u001b[0;34m\u001b[0m\u001b[0m\n\u001b[0;32m----> 2\u001b[0;31m \u001b[0mos\u001b[0m\u001b[0;34m.\u001b[0m\u001b[0mrename\u001b[0m\u001b[0;34m(\u001b[0m\u001b[0;34m\"/nfshome/sjs909/PUI2018/HW7_sjs909/PUMAdir\"\u001b[0m\u001b[0;34m,\u001b[0m \u001b[0;34m\"/nfshome/sjs909/PUIDATA/PUMAdir\"\u001b[0m\u001b[0;34m)\u001b[0m\u001b[0;34m\u001b[0m\u001b[0m\n\u001b[0m",
      "\u001b[0;31mOSError\u001b[0m: [Errno 39] Directory not empty: '/nfshome/sjs909/PUI2018/HW7_sjs909/PUMAdir' -> '/nfshome/sjs909/PUIDATA/PUMAdir'"
     ]
    }
   ],
   "source": [
    "#Move into PUIDATA\n",
    "os.rename(\"/nfshome/sjs909/PUI2018/HW7_sjs909/PUMAdir\", \"/nfshome/sjs909/PUIDATA/PUMAdir\")"
   ]
  },
  {
   "cell_type": "code",
   "execution_count": 5,
   "metadata": {},
   "outputs": [],
   "source": [
    "# read in the shapefile\n",
    "PUMAShape = gpd.GeoDataFrame.from_file('%s/PUMAdir/geo_export_6dc93837-8056-4516-82d7-c7f1aaa89882.shp'%os.getenv(\"PUIDATA\"))"
   ]
  },
  {
   "cell_type": "code",
   "execution_count": 6,
   "metadata": {},
   "outputs": [
    {
     "data": {
      "text/html": [
       "<div>\n",
       "<table border=\"1\" class=\"dataframe\">\n",
       "  <thead>\n",
       "    <tr style=\"text-align: right;\">\n",
       "      <th></th>\n",
       "      <th>puma</th>\n",
       "      <th>shape_area</th>\n",
       "      <th>shape_leng</th>\n",
       "      <th>geometry</th>\n",
       "    </tr>\n",
       "  </thead>\n",
       "  <tbody>\n",
       "    <tr>\n",
       "      <th>0</th>\n",
       "      <td>3701</td>\n",
       "      <td>9.792852e+07</td>\n",
       "      <td>53227.144461</td>\n",
       "      <td>POLYGON ((-73.89641133483133 40.90450452082026...</td>\n",
       "    </tr>\n",
       "    <tr>\n",
       "      <th>1</th>\n",
       "      <td>3702</td>\n",
       "      <td>1.889860e+08</td>\n",
       "      <td>106050.002302</td>\n",
       "      <td>POLYGON ((-73.8442314689986 40.86942035096838,...</td>\n",
       "    </tr>\n",
       "    <tr>\n",
       "      <th>2</th>\n",
       "      <td>3703</td>\n",
       "      <td>2.670137e+08</td>\n",
       "      <td>304071.257466</td>\n",
       "      <td>(POLYGON ((-73.78833349834532 40.8346671297593...</td>\n",
       "    </tr>\n",
       "    <tr>\n",
       "      <th>3</th>\n",
       "      <td>3704</td>\n",
       "      <td>1.062129e+08</td>\n",
       "      <td>47970.901277</td>\n",
       "      <td>POLYGON ((-73.84792614069238 40.8713422330779,...</td>\n",
       "    </tr>\n",
       "    <tr>\n",
       "      <th>4</th>\n",
       "      <td>4015</td>\n",
       "      <td>8.105438e+07</td>\n",
       "      <td>50007.415493</td>\n",
       "      <td>POLYGON ((-73.95374853778468 40.63858633758547...</td>\n",
       "    </tr>\n",
       "  </tbody>\n",
       "</table>\n",
       "</div>"
      ],
      "text/plain": [
       "   puma    shape_area     shape_leng  \\\n",
       "0  3701  9.792852e+07   53227.144461   \n",
       "1  3702  1.889860e+08  106050.002302   \n",
       "2  3703  2.670137e+08  304071.257466   \n",
       "3  3704  1.062129e+08   47970.901277   \n",
       "4  4015  8.105438e+07   50007.415493   \n",
       "\n",
       "                                            geometry  \n",
       "0  POLYGON ((-73.89641133483133 40.90450452082026...  \n",
       "1  POLYGON ((-73.8442314689986 40.86942035096838,...  \n",
       "2  (POLYGON ((-73.78833349834532 40.8346671297593...  \n",
       "3  POLYGON ((-73.84792614069238 40.8713422330779,...  \n",
       "4  POLYGON ((-73.95374853778468 40.63858633758547...  "
      ]
     },
     "execution_count": 6,
     "metadata": {},
     "output_type": "execute_result"
    }
   ],
   "source": [
    "PUMAShape.head()"
   ]
  },
  {
   "cell_type": "code",
   "execution_count": 7,
   "metadata": {},
   "outputs": [
    {
     "data": {
      "text/plain": [
       "{'init': 'epsg:4326'}"
      ]
     },
     "execution_count": 7,
     "metadata": {},
     "output_type": "execute_result"
    }
   ],
   "source": [
    "PUMAShape.crs"
   ]
  },
  {
   "cell_type": "markdown",
   "metadata": {},
   "source": [
    "# 1.2 plot the PUMA NYC regions"
   ]
  },
  {
   "cell_type": "code",
   "execution_count": 8,
   "metadata": {},
   "outputs": [
    {
     "data": {
      "text/plain": [
       "<matplotlib.axes._subplots.AxesSubplot at 0x7fd900fb5e48>"
      ]
     },
     "execution_count": 8,
     "metadata": {},
     "output_type": "execute_result"
    },
    {
     "data": {
      "image/png": "[encoded data removed]",
      "text/plain": [
       "<matplotlib.figure.Figure at 0x7fd8db95b748>"
      ]
     },
     "metadata": {},
     "output_type": "display_data"
    }
   ],
   "source": [
    "PUMAShape.crs = from_epsg(4326)\n",
    "naec = '+proj=eqdc +lat_0=40 +lon_0=-96 +lat_1=20 +lat_2=60 +x_0=0 +y_0=0 +datum=NAD83 +units=m +no_defs'\n",
    "PUMAShape.to_crs(naec).plot(color='white', edgecolor='black',figsize=(10,10))"
   ]
  },
  {
   "cell_type": "markdown",
   "metadata": {},
   "source": [
    "**Caption** <br>This is a map of the Public Use Microdata Areas (PUMAs) for the NYC region. Each PUMA contains at least 100,000 people"
   ]
  },
  {
   "cell_type": "markdown",
   "metadata": {},
   "source": [
    "# 2. American Fact Finder data on percentage of houses with broadband internet access"
   ]
  },
  {
   "cell_type": "code",
   "execution_count": null,
   "metadata": {},
   "outputs": [],
   "source": [
    "# Manually downloaded and saved into PUIDATA\n",
    "with zipfile.ZipFile(\"%s/aff_download.zip\"%os.getenv(\"PUIDATA\"),\"r\") as zip_ref:\n",
    "    zip_ref.extractall('aff_download')"
   ]
  },
  {
   "cell_type": "code",
   "execution_count": null,
   "metadata": {},
   "outputs": [],
   "source": [
    "#Move \n",
    "os.rename(\"/nfshome/sjs909/PUI2018/HW7_sjs909/aff_download\", \"/nfshome/sjs909/PUIDATA/aff_download\")"
   ]
  },
  {
   "cell_type": "code",
   "execution_count": 9,
   "metadata": {},
   "outputs": [],
   "source": [
    "pumaBB =  pd.read_csv(\"%s/aff_download/ACS_16_1YR_B28002_with_ann.csv\"%os.getenv(\"PUIDATA\"))"
   ]
  },
  {
   "cell_type": "code",
   "execution_count": null,
   "metadata": {},
   "outputs": [],
   "source": [
    "pumaBB.head()"
   ]
  },
  {
   "cell_type": "code",
   "execution_count": 10,
   "metadata": {},
   "outputs": [
    {
     "name": "stdout",
     "output_type": "stream",
     "text": [
      "Requirement already satisfied: requests in /usr/local/Anaconda3-5.0.0-Linux-x86_64/lib/python3.6/site-packages\n",
      "Requirement already satisfied: chardet<3.1.0,>=3.0.2 in /usr/local/Anaconda3-5.0.0-Linux-x86_64/lib/python3.6/site-packages (from requests)\n",
      "Requirement already satisfied: idna<2.7,>=2.5 in /usr/local/Anaconda3-5.0.0-Linux-x86_64/lib/python3.6/site-packages (from requests)\n",
      "Requirement already satisfied: urllib3<1.23,>=1.21.1 in /usr/local/Anaconda3-5.0.0-Linux-x86_64/lib/python3.6/site-packages (from requests)\n",
      "Requirement already satisfied: certifi>=2017.4.17 in /usr/local/Anaconda3-5.0.0-Linux-x86_64/lib/python3.6/site-packages (from requests)\n",
      "\u001b[33mYou are using pip version 9.0.1, however version 18.1 is available.\n",
      "You should consider upgrading via the 'pip install --upgrade pip' command.\u001b[0m\n"
     ]
    }
   ],
   "source": [
    "!pip install requests"
   ]
  },
  {
   "cell_type": "code",
   "execution_count": 11,
   "metadata": {},
   "outputs": [],
   "source": [
    "#read in in the variables available. the info you need is in the 1year ACS data\n",
    "url = \"https://api.census.gov/data/2016/acs/acs1/variables.json\"\n",
    "resp = requests.request('GET', url)\n",
    "aff1y = json.loads(resp.text)"
   ]
  },
  {
   "cell_type": "code",
   "execution_count": 12,
   "metadata": {},
   "outputs": [],
   "source": [
    "affkeys = np.array(list(aff1y['variables'].keys()))"
   ]
  },
  {
   "cell_type": "code",
   "execution_count": 13,
   "metadata": {},
   "outputs": [
    {
     "data": {
      "text/plain": [
       "array(['C24010_016E', 'B19001G_004E', 'B08203_002E', ..., 'B21001D_001E',\n",
       "       'B17018_015E', 'B27007_057E'], \n",
       "      dtype='<U14')"
      ]
     },
     "execution_count": 13,
     "metadata": {},
     "output_type": "execute_result"
    }
   ],
   "source": [
    "affkeys"
   ]
  },
  {
   "cell_type": "code",
   "execution_count": 14,
   "metadata": {},
   "outputs": [
    {
     "data": {
      "text/plain": [
       "[('B28002_004E',\n",
       "  'Estimate!!Total!!With an Internet subscription!!Broadband of any type'),\n",
       " ('B28002_008E',\n",
       "  'Estimate!!Total!!With an Internet subscription!!Broadband such as cable, fiber optic or DSL!!Broadband such as cable, fiber optic or DSL with no other type of Internet subscription'),\n",
       " ('B28002_007E',\n",
       "  'Estimate!!Total!!With an Internet subscription!!Broadband such as cable, fiber optic or DSL')]"
      ]
     },
     "execution_count": 14,
     "metadata": {},
     "output_type": "execute_result"
    }
   ],
   "source": [
    "[(k, aff1y['variables'][k]['label'])  for k in affkeys if k.startswith (\"B28002\") and \n",
    " 'Broadband' in aff1y['variables'][k]['label']]"
   ]
  },
  {
   "cell_type": "code",
   "execution_count": 15,
   "metadata": {},
   "outputs": [
    {
     "data": {
      "text/plain": [
       "{'attributes': 'B28002_004M,B28002_004EA',\n",
       " 'concept': 'PRESENCE AND TYPES OF INTERNET SUBSCRIPTIONS IN HOUSEHOLD',\n",
       " 'group': 'B28002',\n",
       " 'label': 'Estimate!!Total!!With an Internet subscription!!Broadband of any type',\n",
       " 'limit': 0,\n",
       " 'predicateType': 'int'}"
      ]
     },
     "execution_count": 15,
     "metadata": {},
     "output_type": "execute_result"
    }
   ],
   "source": [
    "# we want total number of households, and number of households with broadband access\n",
    "# we will use Estimate!!Total!!With an Internet subscription!!Broadband of any type'\n",
    "#keyword for the number of households\n",
    "keyNBB = 'B28002_004E'\n",
    "aff1y['variables'][keyNBB]"
   ]
  },
  {
   "cell_type": "code",
   "execution_count": null,
   "metadata": {},
   "outputs": [],
   "source": [
    "# Now we use this variable name to extract the relevant data with the ACS API"
   ]
  },
  {
   "cell_type": "code",
   "execution_count": 16,
   "metadata": {},
   "outputs": [
    {
     "data": {
      "text/html": [
       "<div>\n",
       "<table border=\"1\" class=\"dataframe\">\n",
       "  <thead>\n",
       "    <tr style=\"text-align: right;\">\n",
       "      <th></th>\n",
       "      <th>B28002_004E</th>\n",
       "      <th>NAME</th>\n",
       "      <th>state</th>\n",
       "      <th>public use microdata area</th>\n",
       "      <th>Unnamed: 4</th>\n",
       "    </tr>\n",
       "  </thead>\n",
       "  <tbody>\n",
       "    <tr>\n",
       "      <th>0</th>\n",
       "      <td>32607</td>\n",
       "      <td>St. Lawrence County PUMA, New York</td>\n",
       "      <td>36</td>\n",
       "      <td>100</td>\n",
       "      <td>NaN</td>\n",
       "    </tr>\n",
       "    <tr>\n",
       "      <th>1</th>\n",
       "      <td>50811</td>\n",
       "      <td>Clinton, Franklin, Essex &amp; Hamilton Counties P...</td>\n",
       "      <td>36</td>\n",
       "      <td>200</td>\n",
       "      <td>NaN</td>\n",
       "    </tr>\n",
       "    <tr>\n",
       "      <th>2</th>\n",
       "      <td>41210</td>\n",
       "      <td>Warren &amp; Washington Counties PUMA, New York</td>\n",
       "      <td>36</td>\n",
       "      <td>300</td>\n",
       "      <td>NaN</td>\n",
       "    </tr>\n",
       "    <tr>\n",
       "      <th>3</th>\n",
       "      <td>36075</td>\n",
       "      <td>Herkimer (North &amp; Central) &amp; Oneida (Outer) Co...</td>\n",
       "      <td>36</td>\n",
       "      <td>401</td>\n",
       "      <td>NaN</td>\n",
       "    </tr>\n",
       "    <tr>\n",
       "      <th>4</th>\n",
       "      <td>47786</td>\n",
       "      <td>Oneida County (Central)--Greater Utica &amp; Rome ...</td>\n",
       "      <td>36</td>\n",
       "      <td>402</td>\n",
       "      <td>NaN</td>\n",
       "    </tr>\n",
       "  </tbody>\n",
       "</table>\n",
       "</div>"
      ],
      "text/plain": [
       "   B28002_004E                                               NAME  state  \\\n",
       "0        32607                 St. Lawrence County PUMA, New York     36   \n",
       "1        50811  Clinton, Franklin, Essex & Hamilton Counties P...     36   \n",
       "2        41210        Warren & Washington Counties PUMA, New York     36   \n",
       "3        36075  Herkimer (North & Central) & Oneida (Outer) Co...     36   \n",
       "4        47786  Oneida County (Central)--Greater Utica & Rome ...     36   \n",
       "\n",
       "   public use microdata area  Unnamed: 4  \n",
       "0                        100         NaN  \n",
       "1                        200         NaN  \n",
       "2                        300         NaN  \n",
       "3                        401         NaN  \n",
       "4                        402         NaN  "
      ]
     },
     "execution_count": 16,
     "metadata": {},
     "output_type": "execute_result"
    }
   ],
   "source": [
    "# getting the broadband access number of households\n",
    "url = \"https://api.census.gov/data/2016/acs/acs1?get=\" + keyNBB +\\\n",
    "\",NAME&for=public%20use%20microdata%20area:*&in=state:36&key=\" + myAPI\n",
    "resp = requests.request('GET', url).content\n",
    "pumaBB = pd.read_csv(io.StringIO(resp.decode('utf-8').replace('[','').replace(']','')))\n",
    "\n",
    "pumaBB.head()"
   ]
  },
  {
   "cell_type": "code",
   "execution_count": 17,
   "metadata": {},
   "outputs": [
    {
     "data": {
      "text/plain": [
       "{'attributes': 'B28002_001M,B28002_001EA',\n",
       " 'concept': 'PRESENCE AND TYPES OF INTERNET SUBSCRIPTIONS IN HOUSEHOLD',\n",
       " 'group': 'B28002',\n",
       " 'label': 'Estimate!!Total',\n",
       " 'limit': 0,\n",
       " 'predicateType': 'int'}"
      ]
     },
     "execution_count": 17,
     "metadata": {},
     "output_type": "execute_result"
    }
   ],
   "source": [
    "keyNHH = 'B28002_001E'\n",
    "aff1y['variables'][keyNHH]"
   ]
  },
  {
   "cell_type": "code",
   "execution_count": 18,
   "metadata": {},
   "outputs": [
    {
     "data": {
      "text/html": [
       "<div>\n",
       "<table border=\"1\" class=\"dataframe\">\n",
       "  <thead>\n",
       "    <tr style=\"text-align: right;\">\n",
       "      <th></th>\n",
       "      <th>B28002_001E</th>\n",
       "      <th>NAME</th>\n",
       "      <th>state</th>\n",
       "      <th>public use microdata area</th>\n",
       "      <th>Unnamed: 4</th>\n",
       "    </tr>\n",
       "  </thead>\n",
       "  <tbody>\n",
       "    <tr>\n",
       "      <th>0</th>\n",
       "      <td>40479</td>\n",
       "      <td>St. Lawrence County PUMA, New York</td>\n",
       "      <td>36</td>\n",
       "      <td>100</td>\n",
       "      <td>NaN</td>\n",
       "    </tr>\n",
       "    <tr>\n",
       "      <th>1</th>\n",
       "      <td>67092</td>\n",
       "      <td>Clinton, Franklin, Essex &amp; Hamilton Counties P...</td>\n",
       "      <td>36</td>\n",
       "      <td>200</td>\n",
       "      <td>NaN</td>\n",
       "    </tr>\n",
       "    <tr>\n",
       "      <th>2</th>\n",
       "      <td>51614</td>\n",
       "      <td>Warren &amp; Washington Counties PUMA, New York</td>\n",
       "      <td>36</td>\n",
       "      <td>300</td>\n",
       "      <td>NaN</td>\n",
       "    </tr>\n",
       "    <tr>\n",
       "      <th>3</th>\n",
       "      <td>44300</td>\n",
       "      <td>Herkimer (North &amp; Central) &amp; Oneida (Outer) Co...</td>\n",
       "      <td>36</td>\n",
       "      <td>401</td>\n",
       "      <td>NaN</td>\n",
       "    </tr>\n",
       "    <tr>\n",
       "      <th>4</th>\n",
       "      <td>61146</td>\n",
       "      <td>Oneida County (Central)--Greater Utica &amp; Rome ...</td>\n",
       "      <td>36</td>\n",
       "      <td>402</td>\n",
       "      <td>NaN</td>\n",
       "    </tr>\n",
       "  </tbody>\n",
       "</table>\n",
       "</div>"
      ],
      "text/plain": [
       "   B28002_001E                                               NAME  state  \\\n",
       "0        40479                 St. Lawrence County PUMA, New York     36   \n",
       "1        67092  Clinton, Franklin, Essex & Hamilton Counties P...     36   \n",
       "2        51614        Warren & Washington Counties PUMA, New York     36   \n",
       "3        44300  Herkimer (North & Central) & Oneida (Outer) Co...     36   \n",
       "4        61146  Oneida County (Central)--Greater Utica & Rome ...     36   \n",
       "\n",
       "   public use microdata area  Unnamed: 4  \n",
       "0                        100         NaN  \n",
       "1                        200         NaN  \n",
       "2                        300         NaN  \n",
       "3                        401         NaN  \n",
       "4                        402         NaN  "
      ]
     },
     "execution_count": 18,
     "metadata": {},
     "output_type": "execute_result"
    }
   ],
   "source": [
    "#getting the first row of the table: the total number of households\n",
    "url = \"https://api.census.gov/data/2016/acs/acs1?get=\" + keyNHH +\\\n",
    "\",NAME&for=public%20use%20microdata%20area:*&in=state:36&key=\" + myAPI\n",
    "resp = requests.request('GET', url).content\n",
    "pumaHH = pd.read_csv(io.StringIO(resp.decode('utf-8').replace('[','').replace(']','')))\n",
    "\n",
    "pumaHH.head()"
   ]
  },
  {
   "cell_type": "code",
   "execution_count": 19,
   "metadata": {},
   "outputs": [],
   "source": [
    "# Merge the dataframes on NAME\n",
    "\n",
    "both = pumaBB.merge(pumaHH, on ='NAME')"
   ]
  },
  {
   "cell_type": "code",
   "execution_count": null,
   "metadata": {},
   "outputs": [],
   "source": [
    "both.head()"
   ]
  },
  {
   "cell_type": "code",
   "execution_count": null,
   "metadata": {},
   "outputs": [],
   "source": [
    "both.columns"
   ]
  },
  {
   "cell_type": "code",
   "execution_count": 20,
   "metadata": {},
   "outputs": [],
   "source": [
    "both.drop(['state_x','Unnamed: 4_x','state_y','public use microdata area_y','Unnamed: 4_y'],inplace=True, axis = 1 )"
   ]
  },
  {
   "cell_type": "code",
   "execution_count": 21,
   "metadata": {},
   "outputs": [],
   "source": [
    "both = both.rename(columns={'public use microdata area_x':'geoID','B28002_004E':'Broadband','B28002_001E':'HH' })"
   ]
  },
  {
   "cell_type": "markdown",
   "metadata": {},
   "source": [
    "# 2.2 Create a feature (a column, a series) with the ratio of percentage of households with broadband access"
   ]
  },
  {
   "cell_type": "code",
   "execution_count": 22,
   "metadata": {},
   "outputs": [],
   "source": [
    "both['pcBB'] = (both['Broadband'] / both['HH'])*100"
   ]
  },
  {
   "cell_type": "code",
   "execution_count": null,
   "metadata": {},
   "outputs": [],
   "source": [
    "both.head()"
   ]
  },
  {
   "cell_type": "markdown",
   "metadata": {},
   "source": [
    "# 2.3 Now compare it with the AFF published \"percentage of households with broadband access\" which is a feature available through their website but that cannot be downloaded directly from the API. It compiled by AFF the same way we did above"
   ]
  },
  {
   "cell_type": "code",
   "execution_count": null,
   "metadata": {},
   "outputs": [],
   "source": [
    "# Manually downloaded and saved into PUIDATA\n",
    "with zipfile.ZipFile(\"%s/GCT2801.zip\"%os.getenv(\"PUIDATA\"),\"r\") as zip_ref:\n",
    "    zip_ref.extractall('GCT2801')"
   ]
  },
  {
   "cell_type": "code",
   "execution_count": null,
   "metadata": {},
   "outputs": [],
   "source": [
    "#Move \n",
    "os.rename(\"/nfshome/sjs909/PUI2018/HW7_sjs909/GCT2801\", \"/nfshome/sjs909/PUIDATA/GCT2801\")"
   ]
  },
  {
   "cell_type": "code",
   "execution_count": 23,
   "metadata": {},
   "outputs": [],
   "source": [
    "bbpc = pd.read_csv(os.getenv(\"PUIDATA\") + \"/GCT2801/ACS_16_1YR_GCT2801.ST50_with_ann.csv\",\n",
    "            usecols=[\"GCT_STUB.target-geo-id2\",\"HC01\",\"HC02\"])\n",
    "#drop the first row with weird double header\n",
    "bbpc.drop(0, inplace=True)\n",
    "bbpc['GCT_STUB.target-geo-id2'] = bbpc['GCT_STUB.target-geo-id2'].astype(int)"
   ]
  },
  {
   "cell_type": "code",
   "execution_count": 24,
   "metadata": {},
   "outputs": [],
   "source": [
    "bbpc = bbpc.rename(columns={'GCT_STUB.target-geo-id2': 'geoID','HC01':'Percent','HC02':'Margin of Error' })"
   ]
  },
  {
   "cell_type": "code",
   "execution_count": 25,
   "metadata": {},
   "outputs": [],
   "source": [
    "# get the geo ID without initial three digits\n",
    "bbpc[\"geoID\"] = bbpc.geoID - 3600000"
   ]
  },
  {
   "cell_type": "code",
   "execution_count": 26,
   "metadata": {},
   "outputs": [],
   "source": [
    "# merge on the puma id\n",
    "checkdf = both.merge(bbpc, on ='geoID')"
   ]
  },
  {
   "cell_type": "code",
   "execution_count": null,
   "metadata": {},
   "outputs": [],
   "source": [
    "checkdf.describe()"
   ]
  },
  {
   "cell_type": "code",
   "execution_count": null,
   "metadata": {
    "scrolled": true
   },
   "outputs": [],
   "source": [
    "checkdf"
   ]
  },
  {
   "cell_type": "code",
   "execution_count": 27,
   "metadata": {},
   "outputs": [
    {
     "data": {
      "text/html": [
       "<div>\n",
       "<table border=\"1\" class=\"dataframe\">\n",
       "  <thead>\n",
       "    <tr style=\"text-align: right;\">\n",
       "      <th></th>\n",
       "      <th>Broadband</th>\n",
       "      <th>geoID</th>\n",
       "      <th>HH</th>\n",
       "      <th>pcBB</th>\n",
       "      <th>diff</th>\n",
       "    </tr>\n",
       "  </thead>\n",
       "  <tbody>\n",
       "    <tr>\n",
       "      <th>count</th>\n",
       "      <td>145.000000</td>\n",
       "      <td>145.000000</td>\n",
       "      <td>145.000000</td>\n",
       "      <td>145.000000</td>\n",
       "      <td>145.000000</td>\n",
       "    </tr>\n",
       "    <tr>\n",
       "      <th>mean</th>\n",
       "      <td>40603.862069</td>\n",
       "      <td>2826.827586</td>\n",
       "      <td>49717.613793</td>\n",
       "      <td>81.845478</td>\n",
       "      <td>0.026217</td>\n",
       "    </tr>\n",
       "    <tr>\n",
       "      <th>std</th>\n",
       "      <td>11787.178809</td>\n",
       "      <td>1210.054822</td>\n",
       "      <td>13579.838124</td>\n",
       "      <td>7.063369</td>\n",
       "      <td>0.014480</td>\n",
       "    </tr>\n",
       "    <tr>\n",
       "      <th>min</th>\n",
       "      <td>17925.000000</td>\n",
       "      <td>100.000000</td>\n",
       "      <td>28984.000000</td>\n",
       "      <td>54.932945</td>\n",
       "      <td>0.000178</td>\n",
       "    </tr>\n",
       "    <tr>\n",
       "      <th>25%</th>\n",
       "      <td>32736.000000</td>\n",
       "      <td>1900.000000</td>\n",
       "      <td>40473.000000</td>\n",
       "      <td>77.770257</td>\n",
       "      <td>0.012252</td>\n",
       "    </tr>\n",
       "    <tr>\n",
       "      <th>50%</th>\n",
       "      <td>37294.000000</td>\n",
       "      <td>3208.000000</td>\n",
       "      <td>46654.000000</td>\n",
       "      <td>82.826141</td>\n",
       "      <td>0.027230</td>\n",
       "    </tr>\n",
       "    <tr>\n",
       "      <th>75%</th>\n",
       "      <td>44681.000000</td>\n",
       "      <td>3809.000000</td>\n",
       "      <td>56295.000000</td>\n",
       "      <td>87.305077</td>\n",
       "      <td>0.039090</td>\n",
       "    </tr>\n",
       "    <tr>\n",
       "      <th>max</th>\n",
       "      <td>102520.000000</td>\n",
       "      <td>4114.000000</td>\n",
       "      <td>111507.000000</td>\n",
       "      <td>93.404143</td>\n",
       "      <td>0.049872</td>\n",
       "    </tr>\n",
       "  </tbody>\n",
       "</table>\n",
       "</div>"
      ],
      "text/plain": [
       "           Broadband        geoID             HH        pcBB        diff\n",
       "count     145.000000   145.000000     145.000000  145.000000  145.000000\n",
       "mean    40603.862069  2826.827586   49717.613793   81.845478    0.026217\n",
       "std     11787.178809  1210.054822   13579.838124    7.063369    0.014480\n",
       "min     17925.000000   100.000000   28984.000000   54.932945    0.000178\n",
       "25%     32736.000000  1900.000000   40473.000000   77.770257    0.012252\n",
       "50%     37294.000000  3208.000000   46654.000000   82.826141    0.027230\n",
       "75%     44681.000000  3809.000000   56295.000000   87.305077    0.039090\n",
       "max    102520.000000  4114.000000  111507.000000   93.404143    0.049872"
      ]
     },
     "execution_count": 27,
     "metadata": {},
     "output_type": "execute_result"
    }
   ],
   "source": [
    "checkdf[\"diff\"] = np.abs(checkdf[\"pcBB\"] - checkdf[\"Percent\"].astype(float))\n",
    "\n",
    "checkdf.describe()"
   ]
  },
  {
   "cell_type": "markdown",
   "metadata": {},
   "source": [
    "# #3 Plot a choropleth of NYC broadband access"
   ]
  },
  {
   "cell_type": "markdown",
   "metadata": {},
   "source": [
    "3.1 Merge with the puma geodataframe and plot a choropleth of the percentage of households with broadband access"
   ]
  },
  {
   "cell_type": "code",
   "execution_count": 28,
   "metadata": {
    "scrolled": true
   },
   "outputs": [
    {
     "data": {
      "text/html": [
       "<div>\n",
       "<table border=\"1\" class=\"dataframe\">\n",
       "  <thead>\n",
       "    <tr style=\"text-align: right;\">\n",
       "      <th></th>\n",
       "      <th>puma</th>\n",
       "      <th>shape_area</th>\n",
       "      <th>shape_leng</th>\n",
       "      <th>geometry</th>\n",
       "    </tr>\n",
       "  </thead>\n",
       "  <tbody>\n",
       "    <tr>\n",
       "      <th>0</th>\n",
       "      <td>3701</td>\n",
       "      <td>9.792852e+07</td>\n",
       "      <td>53227.144461</td>\n",
       "      <td>POLYGON ((-73.89641133483133 40.90450452082026...</td>\n",
       "    </tr>\n",
       "    <tr>\n",
       "      <th>1</th>\n",
       "      <td>3702</td>\n",
       "      <td>1.889860e+08</td>\n",
       "      <td>106050.002302</td>\n",
       "      <td>POLYGON ((-73.8442314689986 40.86942035096838,...</td>\n",
       "    </tr>\n",
       "    <tr>\n",
       "      <th>2</th>\n",
       "      <td>3703</td>\n",
       "      <td>2.670137e+08</td>\n",
       "      <td>304071.257466</td>\n",
       "      <td>(POLYGON ((-73.78833349834532 40.8346671297593...</td>\n",
       "    </tr>\n",
       "    <tr>\n",
       "      <th>3</th>\n",
       "      <td>3704</td>\n",
       "      <td>1.062129e+08</td>\n",
       "      <td>47970.901277</td>\n",
       "      <td>POLYGON ((-73.84792614069238 40.8713422330779,...</td>\n",
       "    </tr>\n",
       "    <tr>\n",
       "      <th>4</th>\n",
       "      <td>4015</td>\n",
       "      <td>8.105438e+07</td>\n",
       "      <td>50007.415493</td>\n",
       "      <td>POLYGON ((-73.95374853778468 40.63858633758547...</td>\n",
       "    </tr>\n",
       "  </tbody>\n",
       "</table>\n",
       "</div>"
      ],
      "text/plain": [
       "   puma    shape_area     shape_leng  \\\n",
       "0  3701  9.792852e+07   53227.144461   \n",
       "1  3702  1.889860e+08  106050.002302   \n",
       "2  3703  2.670137e+08  304071.257466   \n",
       "3  3704  1.062129e+08   47970.901277   \n",
       "4  4015  8.105438e+07   50007.415493   \n",
       "\n",
       "                                            geometry  \n",
       "0  POLYGON ((-73.89641133483133 40.90450452082026...  \n",
       "1  POLYGON ((-73.8442314689986 40.86942035096838,...  \n",
       "2  (POLYGON ((-73.78833349834532 40.8346671297593...  \n",
       "3  POLYGON ((-73.84792614069238 40.8713422330779,...  \n",
       "4  POLYGON ((-73.95374853778468 40.63858633758547...  "
      ]
     },
     "execution_count": 28,
     "metadata": {},
     "output_type": "execute_result"
    }
   ],
   "source": [
    "PUMAShape.head()"
   ]
  },
  {
   "cell_type": "code",
   "execution_count": 29,
   "metadata": {},
   "outputs": [],
   "source": [
    "# make sure they are the same type!!\n",
    "PUMAShape['puma'] = PUMAShape['puma'].astype(int)"
   ]
  },
  {
   "cell_type": "code",
   "execution_count": null,
   "metadata": {},
   "outputs": [],
   "source": [
    "PUMAShape = PUMAShape.rename(columns={'puma':'geoID'})"
   ]
  },
  {
   "cell_type": "code",
   "execution_count": 30,
   "metadata": {},
   "outputs": [],
   "source": [
    "ShapeData = PUMAShape.merge(checkdf, right_on=\"geoID\", \n",
    "                     left_on=\"puma\")"
   ]
  },
  {
   "cell_type": "code",
   "execution_count": 31,
   "metadata": {},
   "outputs": [
    {
     "data": {
      "text/html": [
       "<div>\n",
       "<table border=\"1\" class=\"dataframe\">\n",
       "  <thead>\n",
       "    <tr style=\"text-align: right;\">\n",
       "      <th></th>\n",
       "      <th>puma</th>\n",
       "      <th>shape_area</th>\n",
       "      <th>shape_leng</th>\n",
       "      <th>geometry</th>\n",
       "      <th>Broadband</th>\n",
       "      <th>NAME</th>\n",
       "      <th>geoID</th>\n",
       "      <th>HH</th>\n",
       "      <th>pcBB</th>\n",
       "      <th>Percent</th>\n",
       "      <th>Margin of Error</th>\n",
       "      <th>diff</th>\n",
       "    </tr>\n",
       "  </thead>\n",
       "  <tbody>\n",
       "    <tr>\n",
       "      <th>0</th>\n",
       "      <td>3701</td>\n",
       "      <td>9.792852e+07</td>\n",
       "      <td>53227.144461</td>\n",
       "      <td>POLYGON ((-73.89641133483133 40.90450452082026...</td>\n",
       "      <td>35529</td>\n",
       "      <td>NYC-Bronx Community District 8--Riverdale, Fie...</td>\n",
       "      <td>3701</td>\n",
       "      <td>42158</td>\n",
       "      <td>84.275820</td>\n",
       "      <td>84.3</td>\n",
       "      <td>2.6</td>\n",
       "      <td>0.024180</td>\n",
       "    </tr>\n",
       "    <tr>\n",
       "      <th>1</th>\n",
       "      <td>3702</td>\n",
       "      <td>1.889860e+08</td>\n",
       "      <td>106050.002302</td>\n",
       "      <td>POLYGON ((-73.8442314689986 40.86942035096838,...</td>\n",
       "      <td>34030</td>\n",
       "      <td>NYC-Bronx Community District 12--Wakefield, Wi...</td>\n",
       "      <td>3702</td>\n",
       "      <td>49817</td>\n",
       "      <td>68.310015</td>\n",
       "      <td>68.3</td>\n",
       "      <td>3.7</td>\n",
       "      <td>0.010015</td>\n",
       "    </tr>\n",
       "    <tr>\n",
       "      <th>2</th>\n",
       "      <td>3703</td>\n",
       "      <td>2.670137e+08</td>\n",
       "      <td>304071.257466</td>\n",
       "      <td>(POLYGON ((-73.78833349834532 40.8346671297593...</td>\n",
       "      <td>36716</td>\n",
       "      <td>NYC-Bronx Community District 10--Co-op City, P...</td>\n",
       "      <td>3703</td>\n",
       "      <td>44329</td>\n",
       "      <td>82.826141</td>\n",
       "      <td>82.8</td>\n",
       "      <td>3.2</td>\n",
       "      <td>0.026141</td>\n",
       "    </tr>\n",
       "    <tr>\n",
       "      <th>3</th>\n",
       "      <td>3704</td>\n",
       "      <td>1.062129e+08</td>\n",
       "      <td>47970.901277</td>\n",
       "      <td>POLYGON ((-73.84792614069238 40.8713422330779,...</td>\n",
       "      <td>32269</td>\n",
       "      <td>NYC-Bronx Community District 11--Pelham Parkwa...</td>\n",
       "      <td>3704</td>\n",
       "      <td>44476</td>\n",
       "      <td>72.553737</td>\n",
       "      <td>72.6</td>\n",
       "      <td>3.6</td>\n",
       "      <td>0.046263</td>\n",
       "    </tr>\n",
       "    <tr>\n",
       "      <th>4</th>\n",
       "      <td>4015</td>\n",
       "      <td>8.105438e+07</td>\n",
       "      <td>50007.415493</td>\n",
       "      <td>POLYGON ((-73.95374853778468 40.63858633758547...</td>\n",
       "      <td>44079</td>\n",
       "      <td>NYC-Brooklyn Community District 14--Flatbush &amp;...</td>\n",
       "      <td>4015</td>\n",
       "      <td>55953</td>\n",
       "      <td>78.778618</td>\n",
       "      <td>78.8</td>\n",
       "      <td>2.9</td>\n",
       "      <td>0.021382</td>\n",
       "    </tr>\n",
       "  </tbody>\n",
       "</table>\n",
       "</div>"
      ],
      "text/plain": [
       "   puma    shape_area     shape_leng  \\\n",
       "0  3701  9.792852e+07   53227.144461   \n",
       "1  3702  1.889860e+08  106050.002302   \n",
       "2  3703  2.670137e+08  304071.257466   \n",
       "3  3704  1.062129e+08   47970.901277   \n",
       "4  4015  8.105438e+07   50007.415493   \n",
       "\n",
       "                                            geometry  Broadband  \\\n",
       "0  POLYGON ((-73.89641133483133 40.90450452082026...      35529   \n",
       "1  POLYGON ((-73.8442314689986 40.86942035096838,...      34030   \n",
       "2  (POLYGON ((-73.78833349834532 40.8346671297593...      36716   \n",
       "3  POLYGON ((-73.84792614069238 40.8713422330779,...      32269   \n",
       "4  POLYGON ((-73.95374853778468 40.63858633758547...      44079   \n",
       "\n",
       "                                                NAME  geoID     HH       pcBB  \\\n",
       "0  NYC-Bronx Community District 8--Riverdale, Fie...   3701  42158  84.275820   \n",
       "1  NYC-Bronx Community District 12--Wakefield, Wi...   3702  49817  68.310015   \n",
       "2  NYC-Bronx Community District 10--Co-op City, P...   3703  44329  82.826141   \n",
       "3  NYC-Bronx Community District 11--Pelham Parkwa...   3704  44476  72.553737   \n",
       "4  NYC-Brooklyn Community District 14--Flatbush &...   4015  55953  78.778618   \n",
       "\n",
       "  Percent Margin of Error      diff  \n",
       "0    84.3             2.6  0.024180  \n",
       "1    68.3             3.7  0.010015  \n",
       "2    82.8             3.2  0.026141  \n",
       "3    72.6             3.6  0.046263  \n",
       "4    78.8             2.9  0.021382  "
      ]
     },
     "execution_count": 31,
     "metadata": {},
     "output_type": "execute_result"
    }
   ],
   "source": [
    "ShapeData.head()"
   ]
  },
  {
   "cell_type": "code",
   "execution_count": 49,
   "metadata": {},
   "outputs": [
    {
     "data": {
      "text/plain": [
       "<matplotlib.axes._subplots.AxesSubplot at 0x7fd8bc32b9b0>"
      ]
     },
     "execution_count": 49,
     "metadata": {},
     "output_type": "execute_result"
    },
    {
     "data": {
      "image/png": "[encoded data removed]",
      "text/plain": [
       "<matplotlib.figure.Figure at 0x7fd8bc32b198>"
      ]
     },
     "metadata": {},
     "output_type": "display_data"
    }
   ],
   "source": [
    "ShapeData.crs = from_epsg(4326)\n",
    "naec = '+proj=eqdc +lat_0=40 +lon_0=-96 +lat_1=20 +lat_2=60 +x_0=0 +y_0=0 +datum=NAD83 +units=m +no_defs'\n",
    "ShapeData.to_crs(naec).plot(column='Percent', edgecolor='black',figsize=(10,10),legend=True, cmap = 'hot_r', scheme = 'equal_interval')"
   ]
  },
  {
   "cell_type": "markdown",
   "metadata": {},
   "source": [
    "Here is a cloropleth of the percentage of households with broadband access in the NYC area broken down by Public Use Microdata Areas. Notice where the areas are darker, there is a higher percent of internet coverage. The inequality is interesting where the outter boughroughs such as the Bronx and Queens have much lower percent of internet."
   ]
  },
  {
   "cell_type": "markdown",
   "metadata": {},
   "source": [
    "# 4. LinkNYC: assess whether the locations of the linkNYC stations are supplying internet where it is needed.\n"
   ]
  },
  {
   "cell_type": "code",
   "execution_count": 51,
   "metadata": {},
   "outputs": [
    {
     "ename": "FileNotFoundError",
     "evalue": "[Errno 2] No such file or directory: '/nfshome/sjs909/PUI2018/PUI2018_fb55/HW7_fb55/linkNYClocations.csv' -> '/nfshome/sjs909/PUIDATA/linkNYClocations.csv'",
     "output_type": "error",
     "traceback": [
      "\u001b[0;31m---------------------------------------------------------------------------\u001b[0m",
      "\u001b[0;31mFileNotFoundError\u001b[0m                         Traceback (most recent call last)",
      "\u001b[0;32m<ipython-input-51-162a8202952f>\u001b[0m in \u001b[0;36m<module>\u001b[0;34m()\u001b[0m\n\u001b[1;32m      1\u001b[0m \u001b[0;31m#Move\u001b[0m\u001b[0;34m\u001b[0m\u001b[0;34m\u001b[0m\u001b[0m\n\u001b[0;32m----> 2\u001b[0;31m \u001b[0mos\u001b[0m\u001b[0;34m.\u001b[0m\u001b[0mrename\u001b[0m\u001b[0;34m(\u001b[0m\u001b[0;34m\"/nfshome/sjs909/PUI2018/PUI2018_fb55/HW7_fb55/linkNYClocations.csv\"\u001b[0m\u001b[0;34m,\u001b[0m \u001b[0;34m\"/nfshome/sjs909/PUIDATA/linkNYClocations.csv\"\u001b[0m\u001b[0;34m)\u001b[0m\u001b[0;34m\u001b[0m\u001b[0m\n\u001b[0m\u001b[1;32m      3\u001b[0m \u001b[0;34m\u001b[0m\u001b[0m\n\u001b[1;32m      4\u001b[0m \u001b[0mlinkNYC\u001b[0m \u001b[0;34m=\u001b[0m  \u001b[0mpd\u001b[0m\u001b[0;34m.\u001b[0m\u001b[0mread_csv\u001b[0m\u001b[0;34m(\u001b[0m\u001b[0;34m\"%s/linkNYClocations.csv\"\u001b[0m\u001b[0;34m%\u001b[0m\u001b[0mos\u001b[0m\u001b[0;34m.\u001b[0m\u001b[0mgetenv\u001b[0m\u001b[0;34m(\u001b[0m\u001b[0;34m\"PUIDATA\"\u001b[0m\u001b[0;34m)\u001b[0m\u001b[0;34m)\u001b[0m\u001b[0;34m\u001b[0m\u001b[0m\n",
      "\u001b[0;31mFileNotFoundError\u001b[0m: [Errno 2] No such file or directory: '/nfshome/sjs909/PUI2018/PUI2018_fb55/HW7_fb55/linkNYClocations.csv' -> '/nfshome/sjs909/PUIDATA/linkNYClocations.csv'"
     ]
    }
   ],
   "source": [
    "#Move \n",
    "os.rename(\"/nfshome/sjs909/PUI2018/PUI2018_fb55/HW7_fb55/linkNYClocations.csv\", \"/nfshome/sjs909/PUIDATA/linkNYClocations.csv\")\n"
   ]
  },
  {
   "cell_type": "code",
   "execution_count": 52,
   "metadata": {},
   "outputs": [],
   "source": [
    "linkNYC =  pd.read_csv(\"%s/linkNYClocations.csv\"%os.getenv(\"PUIDATA\"))"
   ]
  },
  {
   "cell_type": "code",
   "execution_count": 59,
   "metadata": {},
   "outputs": [],
   "source": [
    "linkNYC.drop(['Unnamed: 0'],axis=1,inplace=True )"
   ]
  },
  {
   "cell_type": "code",
   "execution_count": 61,
   "metadata": {},
   "outputs": [
    {
     "data": {
      "text/plain": [
       "(1414, 4)"
      ]
     },
     "execution_count": 61,
     "metadata": {},
     "output_type": "execute_result"
    }
   ],
   "source": [
    "linkNYC.shape"
   ]
  },
  {
   "cell_type": "markdown",
   "metadata": {},
   "source": [
    "Combine long lat into a column like you did in the lab to greate a \"geometry\" column for the dataframe, then convert the dataframe into a GeoDataFrame linkNYC and set native coordinates frame to lat/lon as you did in the lab"
   ]
  },
  {
   "cell_type": "code",
   "execution_count": 63,
   "metadata": {},
   "outputs": [],
   "source": [
    "# combine lat and lon to one column\n",
    "linkNYC['lonlat']=list(zip(linkNYC.longitude,linkNYC.latitude))"
   ]
  },
  {
   "cell_type": "code",
   "execution_count": 65,
   "metadata": {},
   "outputs": [
    {
     "data": {
      "text/html": [
       "<div>\n",
       "<table border=\"1\" class=\"dataframe\">\n",
       "  <thead>\n",
       "    <tr style=\"text-align: right;\">\n",
       "      <th></th>\n",
       "      <th>link_site</th>\n",
       "      <th>longitude</th>\n",
       "      <th>date_link_</th>\n",
       "      <th>latitude</th>\n",
       "      <th>lonlat</th>\n",
       "      <th>geometry</th>\n",
       "    </tr>\n",
       "  </thead>\n",
       "  <tbody>\n",
       "    <tr>\n",
       "      <th>0</th>\n",
       "      <td>bk-01-138951</td>\n",
       "      <td>-73.942489</td>\n",
       "      <td>2017-07-01</td>\n",
       "      <td>40.701668</td>\n",
       "      <td>(-73.94248859, 40.70166753)</td>\n",
       "      <td>POINT (-73.94248859 40.70166753)</td>\n",
       "    </tr>\n",
       "    <tr>\n",
       "      <th>1</th>\n",
       "      <td>bk-01-109091</td>\n",
       "      <td>-73.942169</td>\n",
       "      <td>2017-07-01</td>\n",
       "      <td>40.701542</td>\n",
       "      <td>(-73.9421692831, 40.7015421938)</td>\n",
       "      <td>POINT (-73.9421692831 40.7015421938)</td>\n",
       "    </tr>\n",
       "    <tr>\n",
       "      <th>2</th>\n",
       "      <td>bk-01-143982</td>\n",
       "      <td>-73.942239</td>\n",
       "      <td>2017-07-01</td>\n",
       "      <td>40.701930</td>\n",
       "      <td>(-73.9422392385, 40.7019303439)</td>\n",
       "      <td>POINT (-73.94223923850001 40.7019303439)</td>\n",
       "    </tr>\n",
       "    <tr>\n",
       "      <th>3</th>\n",
       "      <td>bk-01-109262</td>\n",
       "      <td>-73.942918</td>\n",
       "      <td>2017-04-28</td>\n",
       "      <td>40.705060</td>\n",
       "      <td>(-73.94291758, 40.70506042)</td>\n",
       "      <td>POINT (-73.94291758 40.70506042)</td>\n",
       "    </tr>\n",
       "    <tr>\n",
       "      <th>4</th>\n",
       "      <td>bk-01-125268</td>\n",
       "      <td>-73.953439</td>\n",
       "      <td>2017-03-31</td>\n",
       "      <td>40.728133</td>\n",
       "      <td>(-73.953439, 40.728133)</td>\n",
       "      <td>POINT (-73.953439 40.728133)</td>\n",
       "    </tr>\n",
       "  </tbody>\n",
       "</table>\n",
       "</div>"
      ],
      "text/plain": [
       "      link_site  longitude  date_link_   latitude  \\\n",
       "0  bk-01-138951 -73.942489  2017-07-01  40.701668   \n",
       "1  bk-01-109091 -73.942169  2017-07-01  40.701542   \n",
       "2  bk-01-143982 -73.942239  2017-07-01  40.701930   \n",
       "3  bk-01-109262 -73.942918  2017-04-28  40.705060   \n",
       "4  bk-01-125268 -73.953439  2017-03-31  40.728133   \n",
       "\n",
       "                            lonlat                                  geometry  \n",
       "0      (-73.94248859, 40.70166753)          POINT (-73.94248859 40.70166753)  \n",
       "1  (-73.9421692831, 40.7015421938)      POINT (-73.9421692831 40.7015421938)  \n",
       "2  (-73.9422392385, 40.7019303439)  POINT (-73.94223923850001 40.7019303439)  \n",
       "3      (-73.94291758, 40.70506042)          POINT (-73.94291758 40.70506042)  \n",
       "4          (-73.953439, 40.728133)              POINT (-73.953439 40.728133)  "
      ]
     },
     "execution_count": 65,
     "metadata": {},
     "output_type": "execute_result"
    }
   ],
   "source": [
    "# Create Point Geometry for based on lonlat column\n",
    "linkNYC['geometry']=linkNYC[['lonlat']].applymap(lambda x:shapely.geometry.Point(x))\n",
    "linkNYC.head()"
   ]
  },
  {
   "cell_type": "markdown",
   "metadata": {},
   "source": [
    "Intersect the two geometries"
   ]
  },
  {
   "cell_type": "code",
   "execution_count": 71,
   "metadata": {},
   "outputs": [],
   "source": [
    "linkNYC = GeoDataFrame(linkNYC)"
   ]
  },
  {
   "cell_type": "code",
   "execution_count": 74,
   "metadata": {},
   "outputs": [
    {
     "data": {
      "text/plain": [
       "{'init': 'epsg:4326', 'no_defs': True}"
      ]
     },
     "execution_count": 74,
     "metadata": {},
     "output_type": "execute_result"
    }
   ],
   "source": [
    "linkNYC.crs = from_epsg(4326)\n",
    "ShapeData.crs"
   ]
  },
  {
   "cell_type": "code",
   "execution_count": 75,
   "metadata": {},
   "outputs": [],
   "source": [
    "linkNYC_ft = linkNYC.to_crs(epsg=2263)\n",
    "ShapeData_ft = ShapeData.to_crs(epsg=2263)"
   ]
  },
  {
   "cell_type": "code",
   "execution_count": 95,
   "metadata": {},
   "outputs": [
    {
     "data": {
      "text/html": [
       "<div>\n",
       "<table border=\"1\" class=\"dataframe\">\n",
       "  <thead>\n",
       "    <tr style=\"text-align: right;\">\n",
       "      <th></th>\n",
       "      <th>link_site</th>\n",
       "      <th>longitude</th>\n",
       "      <th>date_link_</th>\n",
       "      <th>latitude</th>\n",
       "      <th>lonlat</th>\n",
       "      <th>geometry</th>\n",
       "    </tr>\n",
       "  </thead>\n",
       "  <tbody>\n",
       "    <tr>\n",
       "      <th>0</th>\n",
       "      <td>bk-01-138951</td>\n",
       "      <td>-73.942489</td>\n",
       "      <td>2017-07-01</td>\n",
       "      <td>40.701668</td>\n",
       "      <td>(-73.94248859, 40.70166753)</td>\n",
       "      <td>POINT (-73.94248859 40.70166753)</td>\n",
       "    </tr>\n",
       "    <tr>\n",
       "      <th>1</th>\n",
       "      <td>bk-01-109091</td>\n",
       "      <td>-73.942169</td>\n",
       "      <td>2017-07-01</td>\n",
       "      <td>40.701542</td>\n",
       "      <td>(-73.9421692831, 40.7015421938)</td>\n",
       "      <td>POINT (-73.9421692831 40.7015421938)</td>\n",
       "    </tr>\n",
       "    <tr>\n",
       "      <th>2</th>\n",
       "      <td>bk-01-143982</td>\n",
       "      <td>-73.942239</td>\n",
       "      <td>2017-07-01</td>\n",
       "      <td>40.701930</td>\n",
       "      <td>(-73.9422392385, 40.7019303439)</td>\n",
       "      <td>POINT (-73.94223923850001 40.7019303439)</td>\n",
       "    </tr>\n",
       "    <tr>\n",
       "      <th>3</th>\n",
       "      <td>bk-01-109262</td>\n",
       "      <td>-73.942918</td>\n",
       "      <td>2017-04-28</td>\n",
       "      <td>40.705060</td>\n",
       "      <td>(-73.94291758, 40.70506042)</td>\n",
       "      <td>POINT (-73.94291758 40.70506042)</td>\n",
       "    </tr>\n",
       "    <tr>\n",
       "      <th>4</th>\n",
       "      <td>bk-01-125268</td>\n",
       "      <td>-73.953439</td>\n",
       "      <td>2017-03-31</td>\n",
       "      <td>40.728133</td>\n",
       "      <td>(-73.953439, 40.728133)</td>\n",
       "      <td>POINT (-73.953439 40.728133)</td>\n",
       "    </tr>\n",
       "  </tbody>\n",
       "</table>\n",
       "</div>"
      ],
      "text/plain": [
       "      link_site  longitude  date_link_   latitude  \\\n",
       "0  bk-01-138951 -73.942489  2017-07-01  40.701668   \n",
       "1  bk-01-109091 -73.942169  2017-07-01  40.701542   \n",
       "2  bk-01-143982 -73.942239  2017-07-01  40.701930   \n",
       "3  bk-01-109262 -73.942918  2017-04-28  40.705060   \n",
       "4  bk-01-125268 -73.953439  2017-03-31  40.728133   \n",
       "\n",
       "                            lonlat                                  geometry  \n",
       "0      (-73.94248859, 40.70166753)          POINT (-73.94248859 40.70166753)  \n",
       "1  (-73.9421692831, 40.7015421938)      POINT (-73.9421692831 40.7015421938)  \n",
       "2  (-73.9422392385, 40.7019303439)  POINT (-73.94223923850001 40.7019303439)  \n",
       "3      (-73.94291758, 40.70506042)          POINT (-73.94291758 40.70506042)  \n",
       "4          (-73.953439, 40.728133)              POINT (-73.953439 40.728133)  "
      ]
     },
     "execution_count": 95,
     "metadata": {},
     "output_type": "execute_result"
    }
   ],
   "source": [
    "linkNYC.head()"
   ]
  },
  {
   "cell_type": "code",
   "execution_count": 284,
   "metadata": {},
   "outputs": [],
   "source": [
    "Joined = sjoin(linkNYC_ft, ShapeData_ft)"
   ]
  },
  {
   "cell_type": "code",
   "execution_count": 285,
   "metadata": {
    "scrolled": true
   },
   "outputs": [
    {
     "data": {
      "text/html": [
       "<div>\n",
       "<table border=\"1\" class=\"dataframe\">\n",
       "  <thead>\n",
       "    <tr style=\"text-align: right;\">\n",
       "      <th></th>\n",
       "      <th>link_site</th>\n",
       "      <th>longitude</th>\n",
       "      <th>date_link_</th>\n",
       "      <th>latitude</th>\n",
       "      <th>lonlat</th>\n",
       "      <th>geometry</th>\n",
       "      <th>index_right</th>\n",
       "      <th>puma</th>\n",
       "      <th>shape_area</th>\n",
       "      <th>shape_leng</th>\n",
       "    </tr>\n",
       "  </thead>\n",
       "  <tbody>\n",
       "    <tr>\n",
       "      <th>0</th>\n",
       "      <td>bk-01-138951</td>\n",
       "      <td>-73.942489</td>\n",
       "      <td>2017-07-01</td>\n",
       "      <td>40.701668</td>\n",
       "      <td>(-73.94248859, 40.70166753)</td>\n",
       "      <td>POINT (1000196.411360609 194918.1045344363)</td>\n",
       "      <td>29</td>\n",
       "      <td>4001</td>\n",
       "      <td>1.149292e+08</td>\n",
       "      <td>74076.375782</td>\n",
       "    </tr>\n",
       "    <tr>\n",
       "      <th>1</th>\n",
       "      <td>bk-01-109091</td>\n",
       "      <td>-73.942169</td>\n",
       "      <td>2017-07-01</td>\n",
       "      <td>40.701542</td>\n",
       "      <td>(-73.9421692831, 40.7015421938)</td>\n",
       "      <td>POINT (1000284.976955119 194872.4991186759)</td>\n",
       "      <td>29</td>\n",
       "      <td>4001</td>\n",
       "      <td>1.149292e+08</td>\n",
       "      <td>74076.375782</td>\n",
       "    </tr>\n",
       "    <tr>\n",
       "      <th>2</th>\n",
       "      <td>bk-01-143982</td>\n",
       "      <td>-73.942239</td>\n",
       "      <td>2017-07-01</td>\n",
       "      <td>40.701930</td>\n",
       "      <td>(-73.9422392385, 40.7019303439)</td>\n",
       "      <td>POINT (1000265.48686938 195013.900946364)</td>\n",
       "      <td>29</td>\n",
       "      <td>4001</td>\n",
       "      <td>1.149292e+08</td>\n",
       "      <td>74076.375782</td>\n",
       "    </tr>\n",
       "    <tr>\n",
       "      <th>3</th>\n",
       "      <td>bk-01-109262</td>\n",
       "      <td>-73.942918</td>\n",
       "      <td>2017-04-28</td>\n",
       "      <td>40.705060</td>\n",
       "      <td>(-73.94291758, 40.70506042)</td>\n",
       "      <td>POINT (1000076.658138533 196154.157733508)</td>\n",
       "      <td>29</td>\n",
       "      <td>4001</td>\n",
       "      <td>1.149292e+08</td>\n",
       "      <td>74076.375782</td>\n",
       "    </tr>\n",
       "    <tr>\n",
       "      <th>4</th>\n",
       "      <td>bk-01-125268</td>\n",
       "      <td>-73.953439</td>\n",
       "      <td>2017-03-31</td>\n",
       "      <td>40.728133</td>\n",
       "      <td>(-73.953439, 40.728133)</td>\n",
       "      <td>POINT (997155.0239397929 204558.4761382252)</td>\n",
       "      <td>29</td>\n",
       "      <td>4001</td>\n",
       "      <td>1.149292e+08</td>\n",
       "      <td>74076.375782</td>\n",
       "    </tr>\n",
       "  </tbody>\n",
       "</table>\n",
       "</div>"
      ],
      "text/plain": [
       "      link_site  longitude  date_link_   latitude  \\\n",
       "0  bk-01-138951 -73.942489  2017-07-01  40.701668   \n",
       "1  bk-01-109091 -73.942169  2017-07-01  40.701542   \n",
       "2  bk-01-143982 -73.942239  2017-07-01  40.701930   \n",
       "3  bk-01-109262 -73.942918  2017-04-28  40.705060   \n",
       "4  bk-01-125268 -73.953439  2017-03-31  40.728133   \n",
       "\n",
       "                            lonlat  \\\n",
       "0      (-73.94248859, 40.70166753)   \n",
       "1  (-73.9421692831, 40.7015421938)   \n",
       "2  (-73.9422392385, 40.7019303439)   \n",
       "3      (-73.94291758, 40.70506042)   \n",
       "4          (-73.953439, 40.728133)   \n",
       "\n",
       "                                      geometry  index_right  puma  \\\n",
       "0  POINT (1000196.411360609 194918.1045344363)           29  4001   \n",
       "1  POINT (1000284.976955119 194872.4991186759)           29  4001   \n",
       "2    POINT (1000265.48686938 195013.900946364)           29  4001   \n",
       "3   POINT (1000076.658138533 196154.157733508)           29  4001   \n",
       "4  POINT (997155.0239397929 204558.4761382252)           29  4001   \n",
       "\n",
       "     shape_area    shape_leng  \n",
       "0  1.149292e+08  74076.375782  \n",
       "1  1.149292e+08  74076.375782  \n",
       "2  1.149292e+08  74076.375782  \n",
       "3  1.149292e+08  74076.375782  \n",
       "4  1.149292e+08  74076.375782  "
      ]
     },
     "execution_count": 285,
     "metadata": {},
     "output_type": "execute_result"
    }
   ],
   "source": [
    "Joined.head()"
   ]
  },
  {
   "cell_type": "code",
   "execution_count": 98,
   "metadata": {},
   "outputs": [],
   "source": [
    "linkNYC.crs = from_epsg(4326)\n",
    "naec = '+proj=eqdc +lat_0=40 +lon_0=-96 +lat_1=20 +lat_2=60 +x_0=0 +y_0=0 +datum=NAD83 +units=m +no_defs'"
   ]
  },
  {
   "cell_type": "code",
   "execution_count": 221,
   "metadata": {},
   "outputs": [
    {
     "data": {
      "text/plain": [
       "<matplotlib.axes._subplots.AxesSubplot at 0x7fd8bb83edd8>"
      ]
     },
     "execution_count": 221,
     "metadata": {},
     "output_type": "execute_result"
    },
    {
     "data": {
      "image/png": "[encoded data removed]",
      "text/plain": [
       "<matplotlib.figure.Figure at 0x7fd8bb895be0>"
      ]
     },
     "metadata": {},
     "output_type": "display_data"
    }
   ],
   "source": [
    "base = ShapeData.to_crs(naec).plot(column='Percent', edgecolor='black',figsize=(10,10),legend=True, cmap = 'viridis', scheme = 'equal_interval')\n",
    "\n",
    "linkNYC.to_crs(naec).plot(edgecolor='black',figsize=(10,10),legend=True,ax=base, cmap = 'hot_r', scheme = 'equal_interval')\n"
   ]
  },
  {
   "cell_type": "markdown",
   "metadata": {},
   "source": [
    "Here is the same map of internet broadband coverage broken down by PUMA, now with the exact location of the linkNYC kiosks added. It seems that these are distributed rather equally throuhought Manhattan, however the upper Bronx, upper Staten Island, Lower Brooklyn and outter Queens do not have any. Furthermore, these areas are not well covered by internet."
   ]
  },
  {
   "cell_type": "markdown",
   "metadata": {},
   "source": [
    "# 5 Find the number of linkNYC locations per person by PUMA"
   ]
  },
  {
   "cell_type": "markdown",
   "metadata": {},
   "source": [
    "5.1 with the AFF API from ACS get the total population by puma and merge it into your GeoDF"
   ]
  },
  {
   "cell_type": "code",
   "execution_count": 99,
   "metadata": {},
   "outputs": [
    {
     "data": {
      "text/plain": [
       "{'attributes': 'B00001_001EA',\n",
       " 'concept': 'UNWEIGHTED SAMPLE COUNT OF THE POPULATION',\n",
       " 'group': 'B00001',\n",
       " 'label': 'Estimate!!Total',\n",
       " 'limit': 0,\n",
       " 'predicateType': 'int'}"
      ]
     },
     "execution_count": 99,
     "metadata": {},
     "output_type": "execute_result"
    }
   ],
   "source": [
    "keyNtp = 'B00001_001E'\n",
    "aff1y['variables'][keyNtp]"
   ]
  },
  {
   "cell_type": "code",
   "execution_count": null,
   "metadata": {},
   "outputs": [],
   "source": [
    "# Now we use this variable name to extract the relevant data with the ACS API"
   ]
  },
  {
   "cell_type": "code",
   "execution_count": 240,
   "metadata": {},
   "outputs": [],
   "source": [
    "# getting the population\n",
    "url = \"https://api.census.gov/data/2016/acs/acs1?get=\" + keyNtp +\\\n",
    "\",NAME&for=public%20use%20microdata%20area:*&in=state:36&key=\" + myAPI\n",
    "resp = requests.request('GET', url).content\n",
    "pumatp = pd.read_csv(io.StringIO(resp.decode('utf-8').replace('[','').replace(']','')))\n"
   ]
  },
  {
   "cell_type": "code",
   "execution_count": 235,
   "metadata": {},
   "outputs": [
    {
     "data": {
      "text/html": [
       "<div>\n",
       "<table border=\"1\" class=\"dataframe\">\n",
       "  <thead>\n",
       "    <tr style=\"text-align: right;\">\n",
       "      <th></th>\n",
       "      <th>B00001_001E</th>\n",
       "      <th>NAME</th>\n",
       "      <th>state</th>\n",
       "      <th>public use microdata area</th>\n",
       "      <th>Unnamed: 4</th>\n",
       "    </tr>\n",
       "  </thead>\n",
       "  <tbody>\n",
       "    <tr>\n",
       "      <th>0</th>\n",
       "      <td>3075</td>\n",
       "      <td>St. Lawrence County PUMA, New York</td>\n",
       "      <td>36</td>\n",
       "      <td>100</td>\n",
       "      <td>NaN</td>\n",
       "    </tr>\n",
       "    <tr>\n",
       "      <th>1</th>\n",
       "      <td>4356</td>\n",
       "      <td>Clinton, Franklin, Essex &amp; Hamilton Counties P...</td>\n",
       "      <td>36</td>\n",
       "      <td>200</td>\n",
       "      <td>NaN</td>\n",
       "    </tr>\n",
       "    <tr>\n",
       "      <th>2</th>\n",
       "      <td>2736</td>\n",
       "      <td>Warren &amp; Washington Counties PUMA, New York</td>\n",
       "      <td>36</td>\n",
       "      <td>300</td>\n",
       "      <td>NaN</td>\n",
       "    </tr>\n",
       "    <tr>\n",
       "      <th>3</th>\n",
       "      <td>2722</td>\n",
       "      <td>Herkimer (North &amp; Central) &amp; Oneida (Outer) Co...</td>\n",
       "      <td>36</td>\n",
       "      <td>401</td>\n",
       "      <td>NaN</td>\n",
       "    </tr>\n",
       "    <tr>\n",
       "      <th>4</th>\n",
       "      <td>2874</td>\n",
       "      <td>Oneida County (Central)--Greater Utica &amp; Rome ...</td>\n",
       "      <td>36</td>\n",
       "      <td>402</td>\n",
       "      <td>NaN</td>\n",
       "    </tr>\n",
       "  </tbody>\n",
       "</table>\n",
       "</div>"
      ],
      "text/plain": [
       "   B00001_001E                                               NAME  state  \\\n",
       "0         3075                 St. Lawrence County PUMA, New York     36   \n",
       "1         4356  Clinton, Franklin, Essex & Hamilton Counties P...     36   \n",
       "2         2736        Warren & Washington Counties PUMA, New York     36   \n",
       "3         2722  Herkimer (North & Central) & Oneida (Outer) Co...     36   \n",
       "4         2874  Oneida County (Central)--Greater Utica & Rome ...     36   \n",
       "\n",
       "   public use microdata area  Unnamed: 4  \n",
       "0                        100         NaN  \n",
       "1                        200         NaN  \n",
       "2                        300         NaN  \n",
       "3                        401         NaN  \n",
       "4                        402         NaN  "
      ]
     },
     "execution_count": 235,
     "metadata": {},
     "output_type": "execute_result"
    }
   ],
   "source": [
    "pumatp.head()"
   ]
  },
  {
   "cell_type": "code",
   "execution_count": 241,
   "metadata": {},
   "outputs": [],
   "source": [
    "pumatp = pumatp.rename(columns={'public use microdata area':'puma'})"
   ]
  },
  {
   "cell_type": "code",
   "execution_count": 370,
   "metadata": {},
   "outputs": [
    {
     "data": {
      "text/html": [
       "<div>\n",
       "<table border=\"1\" class=\"dataframe\">\n",
       "  <thead>\n",
       "    <tr style=\"text-align: right;\">\n",
       "      <th></th>\n",
       "      <th>puma</th>\n",
       "      <th>shape_area</th>\n",
       "      <th>shape_leng</th>\n",
       "      <th>geometry</th>\n",
       "      <th>Broadband</th>\n",
       "      <th>NAME_x</th>\n",
       "      <th>geoID</th>\n",
       "      <th>HH</th>\n",
       "      <th>pcBB</th>\n",
       "      <th>Percent</th>\n",
       "      <th>Margin of Error</th>\n",
       "      <th>diff</th>\n",
       "      <th>B00001_001E</th>\n",
       "      <th>NAME_y</th>\n",
       "      <th>state</th>\n",
       "      <th>Unnamed: 4</th>\n",
       "    </tr>\n",
       "  </thead>\n",
       "  <tbody>\n",
       "    <tr>\n",
       "      <th>0</th>\n",
       "      <td>3701</td>\n",
       "      <td>9.792852e+07</td>\n",
       "      <td>53227.144461</td>\n",
       "      <td>POLYGON ((-73.89641133483133 40.90450452082026...</td>\n",
       "      <td>35529</td>\n",
       "      <td>NYC-Bronx Community District 8--Riverdale, Fie...</td>\n",
       "      <td>3701</td>\n",
       "      <td>42158</td>\n",
       "      <td>84.275820</td>\n",
       "      <td>84.3</td>\n",
       "      <td>2.6</td>\n",
       "      <td>0.024180</td>\n",
       "      <td>1517</td>\n",
       "      <td>NYC-Bronx Community District 8--Riverdale, Fie...</td>\n",
       "      <td>36</td>\n",
       "      <td>NaN</td>\n",
       "    </tr>\n",
       "    <tr>\n",
       "      <th>1</th>\n",
       "      <td>3702</td>\n",
       "      <td>1.889860e+08</td>\n",
       "      <td>106050.002302</td>\n",
       "      <td>POLYGON ((-73.8442314689986 40.86942035096838,...</td>\n",
       "      <td>34030</td>\n",
       "      <td>NYC-Bronx Community District 12--Wakefield, Wi...</td>\n",
       "      <td>3702</td>\n",
       "      <td>49817</td>\n",
       "      <td>68.310015</td>\n",
       "      <td>68.3</td>\n",
       "      <td>3.7</td>\n",
       "      <td>0.010015</td>\n",
       "      <td>1959</td>\n",
       "      <td>NYC-Bronx Community District 12--Wakefield, Wi...</td>\n",
       "      <td>36</td>\n",
       "      <td>NaN</td>\n",
       "    </tr>\n",
       "    <tr>\n",
       "      <th>2</th>\n",
       "      <td>3703</td>\n",
       "      <td>2.670137e+08</td>\n",
       "      <td>304071.257466</td>\n",
       "      <td>(POLYGON ((-73.78833349834532 40.8346671297593...</td>\n",
       "      <td>36716</td>\n",
       "      <td>NYC-Bronx Community District 10--Co-op City, P...</td>\n",
       "      <td>3703</td>\n",
       "      <td>44329</td>\n",
       "      <td>82.826141</td>\n",
       "      <td>82.8</td>\n",
       "      <td>3.2</td>\n",
       "      <td>0.026141</td>\n",
       "      <td>1305</td>\n",
       "      <td>NYC-Bronx Community District 10--Co-op City, P...</td>\n",
       "      <td>36</td>\n",
       "      <td>NaN</td>\n",
       "    </tr>\n",
       "    <tr>\n",
       "      <th>3</th>\n",
       "      <td>3704</td>\n",
       "      <td>1.062129e+08</td>\n",
       "      <td>47970.901277</td>\n",
       "      <td>POLYGON ((-73.84792614069238 40.8713422330779,...</td>\n",
       "      <td>32269</td>\n",
       "      <td>NYC-Bronx Community District 11--Pelham Parkwa...</td>\n",
       "      <td>3704</td>\n",
       "      <td>44476</td>\n",
       "      <td>72.553737</td>\n",
       "      <td>72.6</td>\n",
       "      <td>3.6</td>\n",
       "      <td>0.046263</td>\n",
       "      <td>1882</td>\n",
       "      <td>NYC-Bronx Community District 11--Pelham Parkwa...</td>\n",
       "      <td>36</td>\n",
       "      <td>NaN</td>\n",
       "    </tr>\n",
       "    <tr>\n",
       "      <th>4</th>\n",
       "      <td>4015</td>\n",
       "      <td>8.105438e+07</td>\n",
       "      <td>50007.415493</td>\n",
       "      <td>POLYGON ((-73.95374853778468 40.63858633758547...</td>\n",
       "      <td>44079</td>\n",
       "      <td>NYC-Brooklyn Community District 14--Flatbush &amp;...</td>\n",
       "      <td>4015</td>\n",
       "      <td>55953</td>\n",
       "      <td>78.778618</td>\n",
       "      <td>78.8</td>\n",
       "      <td>2.9</td>\n",
       "      <td>0.021382</td>\n",
       "      <td>2515</td>\n",
       "      <td>NYC-Brooklyn Community District 14--Flatbush &amp;...</td>\n",
       "      <td>36</td>\n",
       "      <td>NaN</td>\n",
       "    </tr>\n",
       "  </tbody>\n",
       "</table>\n",
       "</div>"
      ],
      "text/plain": [
       "   puma    shape_area     shape_leng  \\\n",
       "0  3701  9.792852e+07   53227.144461   \n",
       "1  3702  1.889860e+08  106050.002302   \n",
       "2  3703  2.670137e+08  304071.257466   \n",
       "3  3704  1.062129e+08   47970.901277   \n",
       "4  4015  8.105438e+07   50007.415493   \n",
       "\n",
       "                                            geometry  Broadband  \\\n",
       "0  POLYGON ((-73.89641133483133 40.90450452082026...      35529   \n",
       "1  POLYGON ((-73.8442314689986 40.86942035096838,...      34030   \n",
       "2  (POLYGON ((-73.78833349834532 40.8346671297593...      36716   \n",
       "3  POLYGON ((-73.84792614069238 40.8713422330779,...      32269   \n",
       "4  POLYGON ((-73.95374853778468 40.63858633758547...      44079   \n",
       "\n",
       "                                              NAME_x  geoID     HH       pcBB  \\\n",
       "0  NYC-Bronx Community District 8--Riverdale, Fie...   3701  42158  84.275820   \n",
       "1  NYC-Bronx Community District 12--Wakefield, Wi...   3702  49817  68.310015   \n",
       "2  NYC-Bronx Community District 10--Co-op City, P...   3703  44329  82.826141   \n",
       "3  NYC-Bronx Community District 11--Pelham Parkwa...   3704  44476  72.553737   \n",
       "4  NYC-Brooklyn Community District 14--Flatbush &...   4015  55953  78.778618   \n",
       "\n",
       "  Percent Margin of Error      diff  B00001_001E  \\\n",
       "0    84.3             2.6  0.024180         1517   \n",
       "1    68.3             3.7  0.010015         1959   \n",
       "2    82.8             3.2  0.026141         1305   \n",
       "3    72.6             3.6  0.046263         1882   \n",
       "4    78.8             2.9  0.021382         2515   \n",
       "\n",
       "                                              NAME_y  state  Unnamed: 4  \n",
       "0  NYC-Bronx Community District 8--Riverdale, Fie...     36         NaN  \n",
       "1  NYC-Bronx Community District 12--Wakefield, Wi...     36         NaN  \n",
       "2  NYC-Bronx Community District 10--Co-op City, P...     36         NaN  \n",
       "3  NYC-Bronx Community District 11--Pelham Parkwa...     36         NaN  \n",
       "4  NYC-Brooklyn Community District 14--Flatbush &...     36         NaN  "
      ]
     },
     "execution_count": 370,
     "metadata": {},
     "output_type": "execute_result"
    }
   ],
   "source": [
    "# Now lets merge it into your ShapeData file\n",
    "popShapeFile = ShapeData.merge(pumatp, on='puma')\n",
    "popShapeFile.head()"
   ]
  },
  {
   "cell_type": "code",
   "execution_count": 279,
   "metadata": {},
   "outputs": [],
   "source": [
    "# 5.2 find the number of station per 100 people per PUMA"
   ]
  },
  {
   "cell_type": "markdown",
   "metadata": {},
   "source": [
    "Important you can do this with an sjoin(). But sjoin() should not be used with lat/lon coordinates cause they are not \"flat coordinates\". Since spattial joins are done in cartesian geometry the only coordinate systems suitable to spatial joins are flat coordinate plane systems, which in the NYC area is 2263. So before you proceed to the sjoin you have to convert both pumashp and linkNYC to 2263 (for example with GeoDataFrame method .to_crs(epsg=...) )"
   ]
  },
  {
   "cell_type": "code",
   "execution_count": 320,
   "metadata": {},
   "outputs": [],
   "source": [
    "# convert the popShapeFile and linkNYC to 2263\n",
    "popShapeFile = GeoDataFrame(popShapeFile)\n",
    "linkNYC = GeoDataFrame(linkNYC)\n",
    "popShapeFile.crs = from_epsg(4326)\n",
    "linkNYC.crs = from_epsg(4326)"
   ]
  },
  {
   "cell_type": "code",
   "execution_count": 322,
   "metadata": {},
   "outputs": [],
   "source": [
    "popShapeFile_ft = popShapeFile.to_crs(epsg=2263)\n",
    "linkNYC_ft = linkNYC.to_crs(epsg=2263)"
   ]
  },
  {
   "cell_type": "code",
   "execution_count": 323,
   "metadata": {},
   "outputs": [],
   "source": [
    "Joined = sjoin(popShapeFile_ft, linkNYC_ft)"
   ]
  },
  {
   "cell_type": "code",
   "execution_count": 324,
   "metadata": {},
   "outputs": [
    {
     "data": {
      "text/html": [
       "<div>\n",
       "<table border=\"1\" class=\"dataframe\">\n",
       "  <thead>\n",
       "    <tr style=\"text-align: right;\">\n",
       "      <th></th>\n",
       "      <th>puma</th>\n",
       "      <th>shape_area</th>\n",
       "      <th>shape_leng</th>\n",
       "      <th>geometry</th>\n",
       "      <th>Broadband</th>\n",
       "      <th>NAME_x</th>\n",
       "      <th>geoID</th>\n",
       "      <th>HH</th>\n",
       "      <th>pcBB</th>\n",
       "      <th>Percent</th>\n",
       "      <th>...</th>\n",
       "      <th>B00001_001E</th>\n",
       "      <th>NAME_y</th>\n",
       "      <th>state</th>\n",
       "      <th>Unnamed: 4</th>\n",
       "      <th>index_right</th>\n",
       "      <th>link_site</th>\n",
       "      <th>longitude</th>\n",
       "      <th>date_link_</th>\n",
       "      <th>latitude</th>\n",
       "      <th>lonlat</th>\n",
       "    </tr>\n",
       "  </thead>\n",
       "  <tbody>\n",
       "    <tr>\n",
       "      <th>0</th>\n",
       "      <td>3701</td>\n",
       "      <td>9.792852e+07</td>\n",
       "      <td>53227.144461</td>\n",
       "      <td>POLYGON ((1012885.033996583 268830.4841918442,...</td>\n",
       "      <td>35529</td>\n",
       "      <td>NYC-Bronx Community District 8--Riverdale, Fie...</td>\n",
       "      <td>3701</td>\n",
       "      <td>42158</td>\n",
       "      <td>84.275820</td>\n",
       "      <td>84.3</td>\n",
       "      <td>...</td>\n",
       "      <td>1517</td>\n",
       "      <td>NYC-Bronx Community District 8--Riverdale, Fie...</td>\n",
       "      <td>36</td>\n",
       "      <td>NaN</td>\n",
       "      <td>1286</td>\n",
       "      <td>bx-08-145850</td>\n",
       "      <td>-73.902101</td>\n",
       "      <td>2017-06-10</td>\n",
       "      <td>40.868698</td>\n",
       "      <td>(-73.9021009, 40.86869849)</td>\n",
       "    </tr>\n",
       "    <tr>\n",
       "      <th>4</th>\n",
       "      <td>4015</td>\n",
       "      <td>8.105438e+07</td>\n",
       "      <td>50007.415493</td>\n",
       "      <td>POLYGON ((997086.4570312516 171933.9880370507,...</td>\n",
       "      <td>44079</td>\n",
       "      <td>NYC-Brooklyn Community District 14--Flatbush &amp;...</td>\n",
       "      <td>4015</td>\n",
       "      <td>55953</td>\n",
       "      <td>78.778618</td>\n",
       "      <td>78.8</td>\n",
       "      <td>...</td>\n",
       "      <td>2515</td>\n",
       "      <td>NYC-Brooklyn Community District 14--Flatbush &amp;...</td>\n",
       "      <td>36</td>\n",
       "      <td>NaN</td>\n",
       "      <td>1218</td>\n",
       "      <td>bk-14-145758</td>\n",
       "      <td>-73.957990</td>\n",
       "      <td>2017-03-03</td>\n",
       "      <td>40.643941</td>\n",
       "      <td>(-73.95799026, 40.64394086)</td>\n",
       "    </tr>\n",
       "    <tr>\n",
       "      <th>4</th>\n",
       "      <td>4015</td>\n",
       "      <td>8.105438e+07</td>\n",
       "      <td>50007.415493</td>\n",
       "      <td>POLYGON ((997086.4570312516 171933.9880370507,...</td>\n",
       "      <td>44079</td>\n",
       "      <td>NYC-Brooklyn Community District 14--Flatbush &amp;...</td>\n",
       "      <td>4015</td>\n",
       "      <td>55953</td>\n",
       "      <td>78.778618</td>\n",
       "      <td>78.8</td>\n",
       "      <td>...</td>\n",
       "      <td>2515</td>\n",
       "      <td>NYC-Brooklyn Community District 14--Flatbush &amp;...</td>\n",
       "      <td>36</td>\n",
       "      <td>NaN</td>\n",
       "      <td>1216</td>\n",
       "      <td>bk-14-145789</td>\n",
       "      <td>-73.958144</td>\n",
       "      <td>2017-03-06</td>\n",
       "      <td>40.645262</td>\n",
       "      <td>(-73.95814408, 40.6452617)</td>\n",
       "    </tr>\n",
       "    <tr>\n",
       "      <th>4</th>\n",
       "      <td>4015</td>\n",
       "      <td>8.105438e+07</td>\n",
       "      <td>50007.415493</td>\n",
       "      <td>POLYGON ((997086.4570312516 171933.9880370507,...</td>\n",
       "      <td>44079</td>\n",
       "      <td>NYC-Brooklyn Community District 14--Flatbush &amp;...</td>\n",
       "      <td>4015</td>\n",
       "      <td>55953</td>\n",
       "      <td>78.778618</td>\n",
       "      <td>78.8</td>\n",
       "      <td>...</td>\n",
       "      <td>2515</td>\n",
       "      <td>NYC-Brooklyn Community District 14--Flatbush &amp;...</td>\n",
       "      <td>36</td>\n",
       "      <td>NaN</td>\n",
       "      <td>1215</td>\n",
       "      <td>bk-14-145814</td>\n",
       "      <td>-73.958203</td>\n",
       "      <td>2017-04-08</td>\n",
       "      <td>40.646179</td>\n",
       "      <td>(-73.95820347, 40.64617918)</td>\n",
       "    </tr>\n",
       "    <tr>\n",
       "      <th>6</th>\n",
       "      <td>3705</td>\n",
       "      <td>1.224951e+08</td>\n",
       "      <td>68657.316149</td>\n",
       "      <td>POLYGON ((1019225.58178711 245263.8524169383, ...</td>\n",
       "      <td>40757</td>\n",
       "      <td>NYC-Bronx Community District 3 &amp; 6--Belmont, C...</td>\n",
       "      <td>3705</td>\n",
       "      <td>58706</td>\n",
       "      <td>69.425612</td>\n",
       "      <td>69.4</td>\n",
       "      <td>...</td>\n",
       "      <td>2011</td>\n",
       "      <td>NYC-Bronx Community District 3 &amp; 6--Belmont, C...</td>\n",
       "      <td>36</td>\n",
       "      <td>NaN</td>\n",
       "      <td>927</td>\n",
       "      <td>bx-06-118922</td>\n",
       "      <td>-73.898221</td>\n",
       "      <td>2017-10-20</td>\n",
       "      <td>40.846926</td>\n",
       "      <td>(-73.898220556, 40.8469261747)</td>\n",
       "    </tr>\n",
       "  </tbody>\n",
       "</table>\n",
       "<p>5 rows × 22 columns</p>\n",
       "</div>"
      ],
      "text/plain": [
       "   puma    shape_area    shape_leng  \\\n",
       "0  3701  9.792852e+07  53227.144461   \n",
       "4  4015  8.105438e+07  50007.415493   \n",
       "4  4015  8.105438e+07  50007.415493   \n",
       "4  4015  8.105438e+07  50007.415493   \n",
       "6  3705  1.224951e+08  68657.316149   \n",
       "\n",
       "                                            geometry  Broadband  \\\n",
       "0  POLYGON ((1012885.033996583 268830.4841918442,...      35529   \n",
       "4  POLYGON ((997086.4570312516 171933.9880370507,...      44079   \n",
       "4  POLYGON ((997086.4570312516 171933.9880370507,...      44079   \n",
       "4  POLYGON ((997086.4570312516 171933.9880370507,...      44079   \n",
       "6  POLYGON ((1019225.58178711 245263.8524169383, ...      40757   \n",
       "\n",
       "                                              NAME_x  geoID     HH       pcBB  \\\n",
       "0  NYC-Bronx Community District 8--Riverdale, Fie...   3701  42158  84.275820   \n",
       "4  NYC-Brooklyn Community District 14--Flatbush &...   4015  55953  78.778618   \n",
       "4  NYC-Brooklyn Community District 14--Flatbush &...   4015  55953  78.778618   \n",
       "4  NYC-Brooklyn Community District 14--Flatbush &...   4015  55953  78.778618   \n",
       "6  NYC-Bronx Community District 3 & 6--Belmont, C...   3705  58706  69.425612   \n",
       "\n",
       "  Percent               ...               B00001_001E  \\\n",
       "0    84.3               ...                      1517   \n",
       "4    78.8               ...                      2515   \n",
       "4    78.8               ...                      2515   \n",
       "4    78.8               ...                      2515   \n",
       "6    69.4               ...                      2011   \n",
       "\n",
       "                                              NAME_y  state Unnamed: 4  \\\n",
       "0  NYC-Bronx Community District 8--Riverdale, Fie...     36        NaN   \n",
       "4  NYC-Brooklyn Community District 14--Flatbush &...     36        NaN   \n",
       "4  NYC-Brooklyn Community District 14--Flatbush &...     36        NaN   \n",
       "4  NYC-Brooklyn Community District 14--Flatbush &...     36        NaN   \n",
       "6  NYC-Bronx Community District 3 & 6--Belmont, C...     36        NaN   \n",
       "\n",
       "   index_right     link_site  longitude  date_link_   latitude  \\\n",
       "0         1286  bx-08-145850 -73.902101  2017-06-10  40.868698   \n",
       "4         1218  bk-14-145758 -73.957990  2017-03-03  40.643941   \n",
       "4         1216  bk-14-145789 -73.958144  2017-03-06  40.645262   \n",
       "4         1215  bk-14-145814 -73.958203  2017-04-08  40.646179   \n",
       "6          927  bx-06-118922 -73.898221  2017-10-20  40.846926   \n",
       "\n",
       "                           lonlat  \n",
       "0      (-73.9021009, 40.86869849)  \n",
       "4     (-73.95799026, 40.64394086)  \n",
       "4      (-73.95814408, 40.6452617)  \n",
       "4     (-73.95820347, 40.64617918)  \n",
       "6  (-73.898220556, 40.8469261747)  \n",
       "\n",
       "[5 rows x 22 columns]"
      ]
     },
     "execution_count": 324,
     "metadata": {},
     "output_type": "execute_result"
    }
   ],
   "source": [
    "Joined.head()"
   ]
  },
  {
   "cell_type": "markdown",
   "metadata": {},
   "source": [
    "create a geodataframe with a spatial join and use groupby to count the number of linkNYC in each PUMA"
   ]
  },
  {
   "cell_type": "code",
   "execution_count": 325,
   "metadata": {},
   "outputs": [
    {
     "data": {
      "text/html": [
       "<div>\n",
       "<table border=\"1\" class=\"dataframe\">\n",
       "  <thead>\n",
       "    <tr style=\"text-align: right;\">\n",
       "      <th></th>\n",
       "      <th>shape_area</th>\n",
       "      <th>shape_leng</th>\n",
       "      <th>geometry</th>\n",
       "      <th>Broadband</th>\n",
       "      <th>NAME_x</th>\n",
       "      <th>geoID</th>\n",
       "      <th>HH</th>\n",
       "      <th>pcBB</th>\n",
       "      <th>Percent</th>\n",
       "      <th>Margin of Error</th>\n",
       "      <th>...</th>\n",
       "      <th>B00001_001E</th>\n",
       "      <th>NAME_y</th>\n",
       "      <th>state</th>\n",
       "      <th>Unnamed: 4</th>\n",
       "      <th>index_right</th>\n",
       "      <th>link_site</th>\n",
       "      <th>longitude</th>\n",
       "      <th>date_link_</th>\n",
       "      <th>latitude</th>\n",
       "      <th>lonlat</th>\n",
       "    </tr>\n",
       "    <tr>\n",
       "      <th>puma</th>\n",
       "      <th></th>\n",
       "      <th></th>\n",
       "      <th></th>\n",
       "      <th></th>\n",
       "      <th></th>\n",
       "      <th></th>\n",
       "      <th></th>\n",
       "      <th></th>\n",
       "      <th></th>\n",
       "      <th></th>\n",
       "      <th></th>\n",
       "      <th></th>\n",
       "      <th></th>\n",
       "      <th></th>\n",
       "      <th></th>\n",
       "      <th></th>\n",
       "      <th></th>\n",
       "      <th></th>\n",
       "      <th></th>\n",
       "      <th></th>\n",
       "      <th></th>\n",
       "    </tr>\n",
       "  </thead>\n",
       "  <tbody>\n",
       "    <tr>\n",
       "      <th>3701</th>\n",
       "      <td>1</td>\n",
       "      <td>1</td>\n",
       "      <td>1</td>\n",
       "      <td>1</td>\n",
       "      <td>1</td>\n",
       "      <td>1</td>\n",
       "      <td>1</td>\n",
       "      <td>1</td>\n",
       "      <td>1</td>\n",
       "      <td>1</td>\n",
       "      <td>...</td>\n",
       "      <td>1</td>\n",
       "      <td>1</td>\n",
       "      <td>1</td>\n",
       "      <td>0</td>\n",
       "      <td>1</td>\n",
       "      <td>1</td>\n",
       "      <td>1</td>\n",
       "      <td>1</td>\n",
       "      <td>1</td>\n",
       "      <td>1</td>\n",
       "    </tr>\n",
       "    <tr>\n",
       "      <th>3705</th>\n",
       "      <td>1</td>\n",
       "      <td>1</td>\n",
       "      <td>1</td>\n",
       "      <td>1</td>\n",
       "      <td>1</td>\n",
       "      <td>1</td>\n",
       "      <td>1</td>\n",
       "      <td>1</td>\n",
       "      <td>1</td>\n",
       "      <td>1</td>\n",
       "      <td>...</td>\n",
       "      <td>1</td>\n",
       "      <td>1</td>\n",
       "      <td>1</td>\n",
       "      <td>0</td>\n",
       "      <td>1</td>\n",
       "      <td>1</td>\n",
       "      <td>1</td>\n",
       "      <td>1</td>\n",
       "      <td>1</td>\n",
       "      <td>1</td>\n",
       "    </tr>\n",
       "    <tr>\n",
       "      <th>3706</th>\n",
       "      <td>20</td>\n",
       "      <td>20</td>\n",
       "      <td>20</td>\n",
       "      <td>20</td>\n",
       "      <td>20</td>\n",
       "      <td>20</td>\n",
       "      <td>20</td>\n",
       "      <td>20</td>\n",
       "      <td>20</td>\n",
       "      <td>20</td>\n",
       "      <td>...</td>\n",
       "      <td>20</td>\n",
       "      <td>20</td>\n",
       "      <td>20</td>\n",
       "      <td>0</td>\n",
       "      <td>20</td>\n",
       "      <td>20</td>\n",
       "      <td>20</td>\n",
       "      <td>20</td>\n",
       "      <td>20</td>\n",
       "      <td>20</td>\n",
       "    </tr>\n",
       "    <tr>\n",
       "      <th>3707</th>\n",
       "      <td>29</td>\n",
       "      <td>29</td>\n",
       "      <td>29</td>\n",
       "      <td>29</td>\n",
       "      <td>29</td>\n",
       "      <td>29</td>\n",
       "      <td>29</td>\n",
       "      <td>29</td>\n",
       "      <td>29</td>\n",
       "      <td>29</td>\n",
       "      <td>...</td>\n",
       "      <td>29</td>\n",
       "      <td>29</td>\n",
       "      <td>29</td>\n",
       "      <td>0</td>\n",
       "      <td>29</td>\n",
       "      <td>29</td>\n",
       "      <td>29</td>\n",
       "      <td>29</td>\n",
       "      <td>29</td>\n",
       "      <td>29</td>\n",
       "    </tr>\n",
       "    <tr>\n",
       "      <th>3708</th>\n",
       "      <td>19</td>\n",
       "      <td>19</td>\n",
       "      <td>19</td>\n",
       "      <td>19</td>\n",
       "      <td>19</td>\n",
       "      <td>19</td>\n",
       "      <td>19</td>\n",
       "      <td>19</td>\n",
       "      <td>19</td>\n",
       "      <td>19</td>\n",
       "      <td>...</td>\n",
       "      <td>19</td>\n",
       "      <td>19</td>\n",
       "      <td>19</td>\n",
       "      <td>0</td>\n",
       "      <td>19</td>\n",
       "      <td>19</td>\n",
       "      <td>19</td>\n",
       "      <td>19</td>\n",
       "      <td>19</td>\n",
       "      <td>19</td>\n",
       "    </tr>\n",
       "  </tbody>\n",
       "</table>\n",
       "<p>5 rows × 21 columns</p>\n",
       "</div>"
      ],
      "text/plain": [
       "      shape_area  shape_leng  geometry  Broadband  NAME_x  geoID  HH  pcBB  \\\n",
       "puma                                                                         \n",
       "3701           1           1         1          1       1      1   1     1   \n",
       "3705           1           1         1          1       1      1   1     1   \n",
       "3706          20          20        20         20      20     20  20    20   \n",
       "3707          29          29        29         29      29     29  29    29   \n",
       "3708          19          19        19         19      19     19  19    19   \n",
       "\n",
       "      Percent  Margin of Error   ...    B00001_001E  NAME_y  state  \\\n",
       "puma                             ...                                 \n",
       "3701        1                1   ...              1       1      1   \n",
       "3705        1                1   ...              1       1      1   \n",
       "3706       20               20   ...             20      20     20   \n",
       "3707       29               29   ...             29      29     29   \n",
       "3708       19               19   ...             19      19     19   \n",
       "\n",
       "      Unnamed: 4  index_right  link_site  longitude  date_link_  latitude  \\\n",
       "puma                                                                        \n",
       "3701           0            1          1          1           1         1   \n",
       "3705           0            1          1          1           1         1   \n",
       "3706           0           20         20         20          20        20   \n",
       "3707           0           29         29         29          29        29   \n",
       "3708           0           19         19         19          19        19   \n",
       "\n",
       "      lonlat  \n",
       "puma          \n",
       "3701       1  \n",
       "3705       1  \n",
       "3706      20  \n",
       "3707      29  \n",
       "3708      19  \n",
       "\n",
       "[5 rows x 21 columns]"
      ]
     },
     "execution_count": 325,
     "metadata": {},
     "output_type": "execute_result"
    }
   ],
   "source": [
    "linkpp = sjoin(popShapeFile_ft, linkNYC_ft).groupby('puma').count()\n",
    "linkpp.head()"
   ]
  },
  {
   "cell_type": "code",
   "execution_count": 327,
   "metadata": {},
   "outputs": [
    {
     "data": {
      "text/plain": [
       "Index(['shape_area', 'shape_leng', 'geometry', 'Broadband', 'NAME_x', 'geoID',\n",
       "       'HH', 'pcBB', 'Percent', 'Margin of Error', 'diff', 'B00001_001E',\n",
       "       'NAME_y', 'state', 'Unnamed: 4', 'index_right', 'link_site',\n",
       "       'longitude', 'date_link_', 'latitude', 'lonlat'],\n",
       "      dtype='object')"
      ]
     },
     "execution_count": 327,
     "metadata": {},
     "output_type": "execute_result"
    }
   ],
   "source": [
    "linkpp.columns"
   ]
  },
  {
   "cell_type": "code",
   "execution_count": 355,
   "metadata": {},
   "outputs": [],
   "source": [
    "GroupNYC = linkpp.drop(['shape_area', 'shape_leng', 'geometry', 'Broadband', 'NAME_x', 'geoID',\n",
    "       'HH', 'pcBB', 'Percent', 'Margin of Error', 'diff', 'B00001_001E',\n",
    "       'NAME_y', 'state', 'Unnamed: 4', 'index_right',\n",
    "       'longitude', 'date_link_', 'latitude', 'lonlat'],axis=1)"
   ]
  },
  {
   "cell_type": "code",
   "execution_count": 358,
   "metadata": {
    "scrolled": true
   },
   "outputs": [
    {
     "data": {
      "text/html": [
       "<div>\n",
       "<table border=\"1\" class=\"dataframe\">\n",
       "  <thead>\n",
       "    <tr style=\"text-align: right;\">\n",
       "      <th></th>\n",
       "      <th>puma</th>\n",
       "      <th>link_site</th>\n",
       "    </tr>\n",
       "  </thead>\n",
       "  <tbody>\n",
       "    <tr>\n",
       "      <th>0</th>\n",
       "      <td>3701</td>\n",
       "      <td>1</td>\n",
       "    </tr>\n",
       "    <tr>\n",
       "      <th>1</th>\n",
       "      <td>3705</td>\n",
       "      <td>1</td>\n",
       "    </tr>\n",
       "    <tr>\n",
       "      <th>2</th>\n",
       "      <td>3706</td>\n",
       "      <td>20</td>\n",
       "    </tr>\n",
       "    <tr>\n",
       "      <th>3</th>\n",
       "      <td>3707</td>\n",
       "      <td>29</td>\n",
       "    </tr>\n",
       "    <tr>\n",
       "      <th>4</th>\n",
       "      <td>3708</td>\n",
       "      <td>19</td>\n",
       "    </tr>\n",
       "  </tbody>\n",
       "</table>\n",
       "</div>"
      ],
      "text/plain": [
       "   puma  link_site\n",
       "0  3701          1\n",
       "1  3705          1\n",
       "2  3706         20\n",
       "3  3707         29\n",
       "4  3708         19"
      ]
     },
     "execution_count": 358,
     "metadata": {},
     "output_type": "execute_result"
    }
   ],
   "source": [
    "GroupNYC.head()"
   ]
  },
  {
   "cell_type": "markdown",
   "metadata": {},
   "source": [
    "count the number of linkNYC in each PUMA"
   ]
  },
  {
   "cell_type": "code",
   "execution_count": 357,
   "metadata": {},
   "outputs": [],
   "source": [
    "GroupNYC.reset_index(level=0, inplace=True)"
   ]
  },
  {
   "cell_type": "code",
   "execution_count": 335,
   "metadata": {},
   "outputs": [],
   "source": [
    "#GroupNYC = GroupNYC.rename(columns={'puma':'puma1'})"
   ]
  },
  {
   "cell_type": "markdown",
   "metadata": {},
   "source": [
    "finally merge back into the pumashp. Make sure you use the correct scheme for merging: you want to have all the PUMAs, not only the ones that have linkNYC in them in the final geoDF"
   ]
  },
  {
   "cell_type": "code",
   "execution_count": 371,
   "metadata": {},
   "outputs": [],
   "source": [
    "NYCLinkCountandShape = popShapeFile.merge(GroupNYC, on=\"puma\",how='outer')"
   ]
  },
  {
   "cell_type": "code",
   "execution_count": 373,
   "metadata": {},
   "outputs": [],
   "source": [
    "NYCLinkCountandShape[\"linkNYCp100p\"] = (NYCLinkCountandShape[\"link_site\"]/NYCLinkCountandShape[\"B00001_001E\"])*100"
   ]
  },
  {
   "cell_type": "code",
   "execution_count": 374,
   "metadata": {},
   "outputs": [
    {
     "name": "stderr",
     "output_type": "stream",
     "text": [
      "/usr/local/Anaconda3-5.0.0-Linux-x86_64/envs/PUI2016_Python3/lib/python3.5/site-packages/numpy/lib/function_base.py:3403: RuntimeWarning: Invalid value encountered in median\n",
      "  RuntimeWarning)\n"
     ]
    },
    {
     "data": {
      "text/plain": [
       "count    37.000000\n",
       "mean      2.327677\n",
       "std       3.328955\n",
       "min       0.049727\n",
       "25%            NaN\n",
       "50%            NaN\n",
       "75%            NaN\n",
       "max      15.141540\n",
       "Name: linkNYCp100p, dtype: float64"
      ]
     },
     "execution_count": 374,
     "metadata": {},
     "output_type": "execute_result"
    }
   ],
   "source": [
    "NYCLinkCountandShape[\"linkNYCp100p\"].describe()"
   ]
  },
  {
   "cell_type": "code",
   "execution_count": 380,
   "metadata": {
    "scrolled": true
   },
   "outputs": [
    {
     "ename": "ValueError",
     "evalue": "labels ['Unnamed: 4'] not contained in axis",
     "output_type": "error",
     "traceback": [
      "\u001b[0;31m---------------------------------------------------------------------------\u001b[0m",
      "\u001b[0;31mValueError\u001b[0m                                Traceback (most recent call last)",
      "\u001b[0;32m<ipython-input-380-4a51d8ff9a9e>\u001b[0m in \u001b[0;36m<module>\u001b[0;34m()\u001b[0m\n\u001b[0;32m----> 1\u001b[0;31m \u001b[0mNYCLinkCountandShape\u001b[0m \u001b[0;34m=\u001b[0m \u001b[0mNYCLinkCountandShape\u001b[0m\u001b[0;34m.\u001b[0m\u001b[0mdrop\u001b[0m\u001b[0;34m(\u001b[0m\u001b[0;34m'Unnamed: 4'\u001b[0m\u001b[0;34m,\u001b[0m\u001b[0maxis\u001b[0m\u001b[0;34m=\u001b[0m\u001b[0;36m1\u001b[0m\u001b[0;34m)\u001b[0m\u001b[0;34m\u001b[0m\u001b[0m\n\u001b[0m\u001b[1;32m      2\u001b[0m \u001b[0mNYCLinkCountandShape\u001b[0m\u001b[0;34m.\u001b[0m\u001b[0mrename\u001b[0m\u001b[0;34m(\u001b[0m\u001b[0mcolumns\u001b[0m\u001b[0;34m=\u001b[0m\u001b[0;34m{\u001b[0m\u001b[0;34m'B00001_001E'\u001b[0m\u001b[0;34m:\u001b[0m\u001b[0;34m'Population'\u001b[0m\u001b[0;34m}\u001b[0m\u001b[0;34m)\u001b[0m\u001b[0;34m\u001b[0m\u001b[0m\n",
      "\u001b[0;32m/usr/local/Anaconda3-5.0.0-Linux-x86_64/envs/PUI2016_Python3/lib/python3.5/site-packages/pandas/core/generic.py\u001b[0m in \u001b[0;36mdrop\u001b[0;34m(self, labels, axis, level, inplace, errors)\u001b[0m\n\u001b[1;32m   1875\u001b[0m                 \u001b[0mnew_axis\u001b[0m \u001b[0;34m=\u001b[0m \u001b[0maxis\u001b[0m\u001b[0;34m.\u001b[0m\u001b[0mdrop\u001b[0m\u001b[0;34m(\u001b[0m\u001b[0mlabels\u001b[0m\u001b[0;34m,\u001b[0m \u001b[0mlevel\u001b[0m\u001b[0;34m=\u001b[0m\u001b[0mlevel\u001b[0m\u001b[0;34m,\u001b[0m \u001b[0merrors\u001b[0m\u001b[0;34m=\u001b[0m\u001b[0merrors\u001b[0m\u001b[0;34m)\u001b[0m\u001b[0;34m\u001b[0m\u001b[0m\n\u001b[1;32m   1876\u001b[0m             \u001b[0;32melse\u001b[0m\u001b[0;34m:\u001b[0m\u001b[0;34m\u001b[0m\u001b[0m\n\u001b[0;32m-> 1877\u001b[0;31m                 \u001b[0mnew_axis\u001b[0m \u001b[0;34m=\u001b[0m \u001b[0maxis\u001b[0m\u001b[0;34m.\u001b[0m\u001b[0mdrop\u001b[0m\u001b[0;34m(\u001b[0m\u001b[0mlabels\u001b[0m\u001b[0;34m,\u001b[0m \u001b[0merrors\u001b[0m\u001b[0;34m=\u001b[0m\u001b[0merrors\u001b[0m\u001b[0;34m)\u001b[0m\u001b[0;34m\u001b[0m\u001b[0m\n\u001b[0m\u001b[1;32m   1878\u001b[0m             \u001b[0mdropped\u001b[0m \u001b[0;34m=\u001b[0m \u001b[0mself\u001b[0m\u001b[0;34m.\u001b[0m\u001b[0mreindex\u001b[0m\u001b[0;34m(\u001b[0m\u001b[0;34m**\u001b[0m\u001b[0;34m{\u001b[0m\u001b[0maxis_name\u001b[0m\u001b[0;34m:\u001b[0m \u001b[0mnew_axis\u001b[0m\u001b[0;34m}\u001b[0m\u001b[0;34m)\u001b[0m\u001b[0;34m\u001b[0m\u001b[0m\n\u001b[1;32m   1879\u001b[0m             \u001b[0;32mtry\u001b[0m\u001b[0;34m:\u001b[0m\u001b[0;34m\u001b[0m\u001b[0m\n",
      "\u001b[0;32m/usr/local/Anaconda3-5.0.0-Linux-x86_64/envs/PUI2016_Python3/lib/python3.5/site-packages/pandas/indexes/base.py\u001b[0m in \u001b[0;36mdrop\u001b[0;34m(self, labels, errors)\u001b[0m\n\u001b[1;32m   3049\u001b[0m             \u001b[0;32mif\u001b[0m \u001b[0merrors\u001b[0m \u001b[0;34m!=\u001b[0m \u001b[0;34m'ignore'\u001b[0m\u001b[0;34m:\u001b[0m\u001b[0;34m\u001b[0m\u001b[0m\n\u001b[1;32m   3050\u001b[0m                 raise ValueError('labels %s not contained in axis' %\n\u001b[0;32m-> 3051\u001b[0;31m                                  labels[mask])\n\u001b[0m\u001b[1;32m   3052\u001b[0m             \u001b[0mindexer\u001b[0m \u001b[0;34m=\u001b[0m \u001b[0mindexer\u001b[0m\u001b[0;34m[\u001b[0m\u001b[0;34m~\u001b[0m\u001b[0mmask\u001b[0m\u001b[0;34m]\u001b[0m\u001b[0;34m\u001b[0m\u001b[0m\n\u001b[1;32m   3053\u001b[0m         \u001b[0;32mreturn\u001b[0m \u001b[0mself\u001b[0m\u001b[0;34m.\u001b[0m\u001b[0mdelete\u001b[0m\u001b[0;34m(\u001b[0m\u001b[0mindexer\u001b[0m\u001b[0;34m)\u001b[0m\u001b[0;34m\u001b[0m\u001b[0m\n",
      "\u001b[0;31mValueError\u001b[0m: labels ['Unnamed: 4'] not contained in axis"
     ]
    }
   ],
   "source": [
    "NYCLinkCountandShape = NYCLinkCountandShape.drop('Unnamed: 4',axis=1)"
   ]
  },
  {
   "cell_type": "code",
   "execution_count": 383,
   "metadata": {},
   "outputs": [],
   "source": [
    "NYCLinkCountandShape.rename(columns={'B00001_001E':'Population'},inplace=True)"
   ]
  },
  {
   "cell_type": "code",
   "execution_count": 384,
   "metadata": {},
   "outputs": [
    {
     "data": {
      "text/html": [
       "<div>\n",
       "<table border=\"1\" class=\"dataframe\">\n",
       "  <thead>\n",
       "    <tr style=\"text-align: right;\">\n",
       "      <th></th>\n",
       "      <th>puma</th>\n",
       "      <th>shape_area</th>\n",
       "      <th>shape_leng</th>\n",
       "      <th>geometry</th>\n",
       "      <th>Broadband</th>\n",
       "      <th>NAME_x</th>\n",
       "      <th>geoID</th>\n",
       "      <th>HH</th>\n",
       "      <th>pcBB</th>\n",
       "      <th>Percent</th>\n",
       "      <th>Margin of Error</th>\n",
       "      <th>diff</th>\n",
       "      <th>Population</th>\n",
       "      <th>NAME_y</th>\n",
       "      <th>state</th>\n",
       "      <th>link_site</th>\n",
       "      <th>linkNYCp100p</th>\n",
       "    </tr>\n",
       "  </thead>\n",
       "  <tbody>\n",
       "    <tr>\n",
       "      <th>0</th>\n",
       "      <td>3701</td>\n",
       "      <td>9.792852e+07</td>\n",
       "      <td>53227.144461</td>\n",
       "      <td>POLYGON ((-73.89641133483133 40.90450452082026...</td>\n",
       "      <td>35529</td>\n",
       "      <td>NYC-Bronx Community District 8--Riverdale, Fie...</td>\n",
       "      <td>3701</td>\n",
       "      <td>42158</td>\n",
       "      <td>84.275820</td>\n",
       "      <td>84.3</td>\n",
       "      <td>2.6</td>\n",
       "      <td>0.024180</td>\n",
       "      <td>1517</td>\n",
       "      <td>NYC-Bronx Community District 8--Riverdale, Fie...</td>\n",
       "      <td>36</td>\n",
       "      <td>1.0</td>\n",
       "      <td>0.065920</td>\n",
       "    </tr>\n",
       "    <tr>\n",
       "      <th>1</th>\n",
       "      <td>3702</td>\n",
       "      <td>1.889860e+08</td>\n",
       "      <td>106050.002302</td>\n",
       "      <td>POLYGON ((-73.8442314689986 40.86942035096838,...</td>\n",
       "      <td>34030</td>\n",
       "      <td>NYC-Bronx Community District 12--Wakefield, Wi...</td>\n",
       "      <td>3702</td>\n",
       "      <td>49817</td>\n",
       "      <td>68.310015</td>\n",
       "      <td>68.3</td>\n",
       "      <td>3.7</td>\n",
       "      <td>0.010015</td>\n",
       "      <td>1959</td>\n",
       "      <td>NYC-Bronx Community District 12--Wakefield, Wi...</td>\n",
       "      <td>36</td>\n",
       "      <td>NaN</td>\n",
       "      <td>NaN</td>\n",
       "    </tr>\n",
       "    <tr>\n",
       "      <th>2</th>\n",
       "      <td>3703</td>\n",
       "      <td>2.670137e+08</td>\n",
       "      <td>304071.257466</td>\n",
       "      <td>(POLYGON ((-73.78833349834532 40.8346671297593...</td>\n",
       "      <td>36716</td>\n",
       "      <td>NYC-Bronx Community District 10--Co-op City, P...</td>\n",
       "      <td>3703</td>\n",
       "      <td>44329</td>\n",
       "      <td>82.826141</td>\n",
       "      <td>82.8</td>\n",
       "      <td>3.2</td>\n",
       "      <td>0.026141</td>\n",
       "      <td>1305</td>\n",
       "      <td>NYC-Bronx Community District 10--Co-op City, P...</td>\n",
       "      <td>36</td>\n",
       "      <td>NaN</td>\n",
       "      <td>NaN</td>\n",
       "    </tr>\n",
       "    <tr>\n",
       "      <th>3</th>\n",
       "      <td>3704</td>\n",
       "      <td>1.062129e+08</td>\n",
       "      <td>47970.901277</td>\n",
       "      <td>POLYGON ((-73.84792614069238 40.8713422330779,...</td>\n",
       "      <td>32269</td>\n",
       "      <td>NYC-Bronx Community District 11--Pelham Parkwa...</td>\n",
       "      <td>3704</td>\n",
       "      <td>44476</td>\n",
       "      <td>72.553737</td>\n",
       "      <td>72.6</td>\n",
       "      <td>3.6</td>\n",
       "      <td>0.046263</td>\n",
       "      <td>1882</td>\n",
       "      <td>NYC-Bronx Community District 11--Pelham Parkwa...</td>\n",
       "      <td>36</td>\n",
       "      <td>NaN</td>\n",
       "      <td>NaN</td>\n",
       "    </tr>\n",
       "    <tr>\n",
       "      <th>4</th>\n",
       "      <td>4015</td>\n",
       "      <td>8.105438e+07</td>\n",
       "      <td>50007.415493</td>\n",
       "      <td>POLYGON ((-73.95374853778468 40.63858633758547...</td>\n",
       "      <td>44079</td>\n",
       "      <td>NYC-Brooklyn Community District 14--Flatbush &amp;...</td>\n",
       "      <td>4015</td>\n",
       "      <td>55953</td>\n",
       "      <td>78.778618</td>\n",
       "      <td>78.8</td>\n",
       "      <td>2.9</td>\n",
       "      <td>0.021382</td>\n",
       "      <td>2515</td>\n",
       "      <td>NYC-Brooklyn Community District 14--Flatbush &amp;...</td>\n",
       "      <td>36</td>\n",
       "      <td>3.0</td>\n",
       "      <td>0.119284</td>\n",
       "    </tr>\n",
       "  </tbody>\n",
       "</table>\n",
       "</div>"
      ],
      "text/plain": [
       "   puma    shape_area     shape_leng  \\\n",
       "0  3701  9.792852e+07   53227.144461   \n",
       "1  3702  1.889860e+08  106050.002302   \n",
       "2  3703  2.670137e+08  304071.257466   \n",
       "3  3704  1.062129e+08   47970.901277   \n",
       "4  4015  8.105438e+07   50007.415493   \n",
       "\n",
       "                                            geometry  Broadband  \\\n",
       "0  POLYGON ((-73.89641133483133 40.90450452082026...      35529   \n",
       "1  POLYGON ((-73.8442314689986 40.86942035096838,...      34030   \n",
       "2  (POLYGON ((-73.78833349834532 40.8346671297593...      36716   \n",
       "3  POLYGON ((-73.84792614069238 40.8713422330779,...      32269   \n",
       "4  POLYGON ((-73.95374853778468 40.63858633758547...      44079   \n",
       "\n",
       "                                              NAME_x  geoID     HH       pcBB  \\\n",
       "0  NYC-Bronx Community District 8--Riverdale, Fie...   3701  42158  84.275820   \n",
       "1  NYC-Bronx Community District 12--Wakefield, Wi...   3702  49817  68.310015   \n",
       "2  NYC-Bronx Community District 10--Co-op City, P...   3703  44329  82.826141   \n",
       "3  NYC-Bronx Community District 11--Pelham Parkwa...   3704  44476  72.553737   \n",
       "4  NYC-Brooklyn Community District 14--Flatbush &...   4015  55953  78.778618   \n",
       "\n",
       "  Percent Margin of Error      diff  Population  \\\n",
       "0    84.3             2.6  0.024180        1517   \n",
       "1    68.3             3.7  0.010015        1959   \n",
       "2    82.8             3.2  0.026141        1305   \n",
       "3    72.6             3.6  0.046263        1882   \n",
       "4    78.8             2.9  0.021382        2515   \n",
       "\n",
       "                                              NAME_y  state  link_site  \\\n",
       "0  NYC-Bronx Community District 8--Riverdale, Fie...     36        1.0   \n",
       "1  NYC-Bronx Community District 12--Wakefield, Wi...     36        NaN   \n",
       "2  NYC-Bronx Community District 10--Co-op City, P...     36        NaN   \n",
       "3  NYC-Bronx Community District 11--Pelham Parkwa...     36        NaN   \n",
       "4  NYC-Brooklyn Community District 14--Flatbush &...     36        3.0   \n",
       "\n",
       "   linkNYCp100p  \n",
       "0      0.065920  \n",
       "1           NaN  \n",
       "2           NaN  \n",
       "3           NaN  \n",
       "4      0.119284  "
      ]
     },
     "execution_count": 384,
     "metadata": {},
     "output_type": "execute_result"
    }
   ],
   "source": [
    "NYCLinkCountandShape.head()"
   ]
  },
  {
   "cell_type": "markdown",
   "metadata": {},
   "source": [
    "# at last, plot the linkNYC locations on top of a choropleth of number of stations per 100 people in 10 equal intervals"
   ]
  },
  {
   "cell_type": "code",
   "execution_count": 385,
   "metadata": {},
   "outputs": [],
   "source": [
    "NYCLinkCountandShape.crs = from_epsg(4326)\n",
    "naec = '+proj=eqdc +lat_0=40 +lon_0=-96 +lat_1=20 +lat_2=60 +x_0=0 +y_0=0 +datum=NAD83 +units=m +no_defs'"
   ]
  },
  {
   "cell_type": "code",
   "execution_count": 387,
   "metadata": {},
   "outputs": [
    {
     "name": "stderr",
     "output_type": "stream",
     "text": [
      "/usr/local/Anaconda3-5.0.0-Linux-x86_64/envs/PUI2016_Python3/lib/python3.5/site-packages/numpy/lib/function_base.py:3142: RuntimeWarning: Invalid value encountered in median\n",
      "  RuntimeWarning)\n"
     ]
    },
    {
     "data": {
      "text/plain": [
       "<matplotlib.axes._subplots.AxesSubplot at 0x7fd8bb4f7eb8>"
      ]
     },
     "execution_count": 387,
     "metadata": {},
     "output_type": "execute_result"
    },
    {
     "data": {
      "image/png": "[encoded data removed]",
      "text/plain": [
       "<matplotlib.figure.Figure at 0x7fd8bb6237f0>"
      ]
     },
     "metadata": {},
     "output_type": "display_data"
    }
   ],
   "source": [
    "base = NYCLinkCountandShape.to_crs(naec).plot(column='linkNYCp100p', edgecolor='black',k =10, figsize=(10,10),legend=True, cmap = 'viridis', scheme = 'equal_interval')\n",
    "\n",
    "linkNYC.to_crs(naec).plot(edgecolor='black',figsize=(10,10),legend=True,ax=base, cmap = 'hot_r', scheme = 'equal_interval')\n"
   ]
  },
  {
   "cell_type": "markdown",
   "metadata": {},
   "source": [
    "The final graph! Yay, this shows the population percentage per linkNYC location. It seems the highest concentration of population has the most amount of internet Kiosks."
   ]
  },
  {
   "cell_type": "code",
   "execution_count": null,
   "metadata": {},
   "outputs": [],
   "source": []
  },
  {
   "cell_type": "code",
   "execution_count": null,
   "metadata": {},
   "outputs": [],
   "source": []
  },
  {
   "cell_type": "code",
   "execution_count": null,
   "metadata": {},
   "outputs": [],
   "source": []
  },
  {
   "cell_type": "code",
   "execution_count": null,
   "metadata": {},
   "outputs": [],
   "source": []
  },
  {
   "cell_type": "code",
   "execution_count": null,
   "metadata": {},
   "outputs": [],
   "source": []
  },
  {
   "cell_type": "code",
   "execution_count": null,
   "metadata": {},
   "outputs": [],
   "source": []
  },
  {
   "cell_type": "code",
   "execution_count": null,
   "metadata": {},
   "outputs": [],
   "source": []
  },
  {
   "cell_type": "code",
   "execution_count": null,
   "metadata": {},
   "outputs": [],
   "source": []
  },
  {
   "cell_type": "code",
   "execution_count": null,
   "metadata": {},
   "outputs": [],
   "source": []
  },
  {
   "cell_type": "code",
   "execution_count": null,
   "metadata": {},
   "outputs": [],
   "source": [
    "# From Rohunnybear"
   ]
  },
  {
   "cell_type": "code",
   "execution_count": 359,
   "metadata": {},
   "outputs": [],
   "source": [
    "pumashplc =  popShapeFile_ft.merge(GroupNYC, on=\"puma\",how='outer')\n"
   ]
  },
  {
   "cell_type": "code",
   "execution_count": 361,
   "metadata": {},
   "outputs": [
    {
     "name": "stderr",
     "output_type": "stream",
     "text": [
      "/usr/local/Anaconda3-5.0.0-Linux-x86_64/envs/PUI2016_Python3/lib/python3.5/site-packages/numpy/lib/function_base.py:3403: RuntimeWarning: Invalid value encountered in median\n",
      "  RuntimeWarning)\n"
     ]
    },
    {
     "data": {
      "text/html": [
       "<div>\n",
       "<table border=\"1\" class=\"dataframe\">\n",
       "  <thead>\n",
       "    <tr style=\"text-align: right;\">\n",
       "      <th></th>\n",
       "      <th>puma</th>\n",
       "      <th>shape_area</th>\n",
       "      <th>shape_leng</th>\n",
       "      <th>Broadband</th>\n",
       "      <th>geoID</th>\n",
       "      <th>HH</th>\n",
       "      <th>pcBB</th>\n",
       "      <th>diff</th>\n",
       "      <th>B00001_001E</th>\n",
       "      <th>state</th>\n",
       "      <th>Unnamed: 4</th>\n",
       "      <th>link_site</th>\n",
       "    </tr>\n",
       "  </thead>\n",
       "  <tbody>\n",
       "    <tr>\n",
       "      <th>count</th>\n",
       "      <td>55.000000</td>\n",
       "      <td>5.500000e+01</td>\n",
       "      <td>55.000000</td>\n",
       "      <td>55.000000</td>\n",
       "      <td>55.000000</td>\n",
       "      <td>55.000000</td>\n",
       "      <td>55.000000</td>\n",
       "      <td>55.000000</td>\n",
       "      <td>55.000000</td>\n",
       "      <td>55.0</td>\n",
       "      <td>0.0</td>\n",
       "      <td>37.000000</td>\n",
       "    </tr>\n",
       "    <tr>\n",
       "      <th>mean</th>\n",
       "      <td>3936.218182</td>\n",
       "      <td>1.532632e+08</td>\n",
       "      <td>91547.959548</td>\n",
       "      <td>45287.254545</td>\n",
       "      <td>3936.218182</td>\n",
       "      <td>56633.272727</td>\n",
       "      <td>79.462797</td>\n",
       "      <td>0.027518</td>\n",
       "      <td>2138.618182</td>\n",
       "      <td>36.0</td>\n",
       "      <td>NaN</td>\n",
       "      <td>38.216216</td>\n",
       "    </tr>\n",
       "    <tr>\n",
       "      <th>std</th>\n",
       "      <td>149.997616</td>\n",
       "      <td>1.361440e+08</td>\n",
       "      <td>77522.481125</td>\n",
       "      <td>14410.514427</td>\n",
       "      <td>149.997616</td>\n",
       "      <td>14874.212875</td>\n",
       "      <td>7.548276</td>\n",
       "      <td>0.013269</td>\n",
       "      <td>699.237163</td>\n",
       "      <td>0.0</td>\n",
       "      <td>NaN</td>\n",
       "      <td>46.499782</td>\n",
       "    </tr>\n",
       "    <tr>\n",
       "      <th>min</th>\n",
       "      <td>3701.000000</td>\n",
       "      <td>3.984279e+07</td>\n",
       "      <td>34852.437966</td>\n",
       "      <td>27834.000000</td>\n",
       "      <td>3701.000000</td>\n",
       "      <td>37998.000000</td>\n",
       "      <td>54.932945</td>\n",
       "      <td>0.001693</td>\n",
       "      <td>1238.000000</td>\n",
       "      <td>36.0</td>\n",
       "      <td>NaN</td>\n",
       "      <td>1.000000</td>\n",
       "    </tr>\n",
       "    <tr>\n",
       "      <th>25%</th>\n",
       "      <td>3804.500000</td>\n",
       "      <td>7.498814e+07</td>\n",
       "      <td>48072.809133</td>\n",
       "      <td>35658.500000</td>\n",
       "      <td>3804.500000</td>\n",
       "      <td>45822.500000</td>\n",
       "      <td>74.772059</td>\n",
       "      <td>0.020397</td>\n",
       "      <td>1554.000000</td>\n",
       "      <td>36.0</td>\n",
       "      <td>NaN</td>\n",
       "      <td>NaN</td>\n",
       "    </tr>\n",
       "    <tr>\n",
       "      <th>50%</th>\n",
       "      <td>4005.000000</td>\n",
       "      <td>1.070001e+08</td>\n",
       "      <td>70492.955589</td>\n",
       "      <td>41578.000000</td>\n",
       "      <td>4005.000000</td>\n",
       "      <td>52591.000000</td>\n",
       "      <td>79.301693</td>\n",
       "      <td>0.027634</td>\n",
       "      <td>2004.000000</td>\n",
       "      <td>36.0</td>\n",
       "      <td>NaN</td>\n",
       "      <td>NaN</td>\n",
       "    </tr>\n",
       "    <tr>\n",
       "      <th>75%</th>\n",
       "      <td>4059.500000</td>\n",
       "      <td>1.692189e+08</td>\n",
       "      <td>98789.538654</td>\n",
       "      <td>50273.000000</td>\n",
       "      <td>4059.500000</td>\n",
       "      <td>62501.500000</td>\n",
       "      <td>85.127599</td>\n",
       "      <td>0.039522</td>\n",
       "      <td>2383.500000</td>\n",
       "      <td>36.0</td>\n",
       "      <td>NaN</td>\n",
       "      <td>NaN</td>\n",
       "    </tr>\n",
       "    <tr>\n",
       "      <th>max</th>\n",
       "      <td>4114.000000</td>\n",
       "      <td>6.760200e+08</td>\n",
       "      <td>412606.741739</td>\n",
       "      <td>102520.000000</td>\n",
       "      <td>4114.000000</td>\n",
       "      <td>111507.000000</td>\n",
       "      <td>93.030650</td>\n",
       "      <td>0.049841</td>\n",
       "      <td>4001.000000</td>\n",
       "      <td>36.0</td>\n",
       "      <td>NaN</td>\n",
       "      <td>230.000000</td>\n",
       "    </tr>\n",
       "  </tbody>\n",
       "</table>\n",
       "</div>"
      ],
      "text/plain": [
       "              puma    shape_area     shape_leng      Broadband        geoID  \\\n",
       "count    55.000000  5.500000e+01      55.000000      55.000000    55.000000   \n",
       "mean   3936.218182  1.532632e+08   91547.959548   45287.254545  3936.218182   \n",
       "std     149.997616  1.361440e+08   77522.481125   14410.514427   149.997616   \n",
       "min    3701.000000  3.984279e+07   34852.437966   27834.000000  3701.000000   \n",
       "25%    3804.500000  7.498814e+07   48072.809133   35658.500000  3804.500000   \n",
       "50%    4005.000000  1.070001e+08   70492.955589   41578.000000  4005.000000   \n",
       "75%    4059.500000  1.692189e+08   98789.538654   50273.000000  4059.500000   \n",
       "max    4114.000000  6.760200e+08  412606.741739  102520.000000  4114.000000   \n",
       "\n",
       "                  HH       pcBB       diff  B00001_001E  state  Unnamed: 4  \\\n",
       "count      55.000000  55.000000  55.000000    55.000000   55.0         0.0   \n",
       "mean    56633.272727  79.462797   0.027518  2138.618182   36.0         NaN   \n",
       "std     14874.212875   7.548276   0.013269   699.237163    0.0         NaN   \n",
       "min     37998.000000  54.932945   0.001693  1238.000000   36.0         NaN   \n",
       "25%     45822.500000  74.772059   0.020397  1554.000000   36.0         NaN   \n",
       "50%     52591.000000  79.301693   0.027634  2004.000000   36.0         NaN   \n",
       "75%     62501.500000  85.127599   0.039522  2383.500000   36.0         NaN   \n",
       "max    111507.000000  93.030650   0.049841  4001.000000   36.0         NaN   \n",
       "\n",
       "        link_site  \n",
       "count   37.000000  \n",
       "mean    38.216216  \n",
       "std     46.499782  \n",
       "min      1.000000  \n",
       "25%           NaN  \n",
       "50%           NaN  \n",
       "75%           NaN  \n",
       "max    230.000000  "
      ]
     },
     "execution_count": 361,
     "metadata": {},
     "output_type": "execute_result"
    }
   ],
   "source": [
    "pumashplc.describe()"
   ]
  },
  {
   "cell_type": "code",
   "execution_count": null,
   "metadata": {},
   "outputs": [],
   "source": []
  },
  {
   "cell_type": "code",
   "execution_count": 312,
   "metadata": {},
   "outputs": [],
   "source": [
    "linkpp = GroupNYC.groupby('puma').count()"
   ]
  },
  {
   "cell_type": "code",
   "execution_count": 313,
   "metadata": {},
   "outputs": [],
   "source": [
    "linkpp.reset_index(level=0, inplace=True)"
   ]
  },
  {
   "cell_type": "code",
   "execution_count": 314,
   "metadata": {},
   "outputs": [
    {
     "data": {
      "text/html": [
       "<div>\n",
       "<table border=\"1\" class=\"dataframe\">\n",
       "  <thead>\n",
       "    <tr style=\"text-align: right;\">\n",
       "      <th></th>\n",
       "      <th>puma</th>\n",
       "      <th>link_site</th>\n",
       "    </tr>\n",
       "  </thead>\n",
       "  <tbody>\n",
       "    <tr>\n",
       "      <th>0</th>\n",
       "      <td>3701</td>\n",
       "      <td>1</td>\n",
       "    </tr>\n",
       "    <tr>\n",
       "      <th>1</th>\n",
       "      <td>3705</td>\n",
       "      <td>1</td>\n",
       "    </tr>\n",
       "    <tr>\n",
       "      <th>2</th>\n",
       "      <td>3706</td>\n",
       "      <td>20</td>\n",
       "    </tr>\n",
       "    <tr>\n",
       "      <th>3</th>\n",
       "      <td>3707</td>\n",
       "      <td>29</td>\n",
       "    </tr>\n",
       "    <tr>\n",
       "      <th>4</th>\n",
       "      <td>3708</td>\n",
       "      <td>19</td>\n",
       "    </tr>\n",
       "  </tbody>\n",
       "</table>\n",
       "</div>"
      ],
      "text/plain": [
       "   puma  link_site\n",
       "0  3701          1\n",
       "1  3705          1\n",
       "2  3706         20\n",
       "3  3707         29\n",
       "4  3708         19"
      ]
     },
     "execution_count": 314,
     "metadata": {},
     "output_type": "execute_result"
    }
   ],
   "source": [
    "linkpp.head() "
   ]
  },
  {
   "cell_type": "code",
   "execution_count": 315,
   "metadata": {},
   "outputs": [],
   "source": [
    "linkpp['puma'] = linkpp['puma'].astype(int)"
   ]
  },
  {
   "cell_type": "code",
   "execution_count": 317,
   "metadata": {},
   "outputs": [
    {
     "ename": "AttributeError",
     "evalue": "'DataFrame' object has no attribute 'to_crs'",
     "output_type": "error",
     "traceback": [
      "\u001b[0;31m---------------------------------------------------------------------------\u001b[0m",
      "\u001b[0;31mAttributeError\u001b[0m                            Traceback (most recent call last)",
      "\u001b[0;32m<ipython-input-317-8ba0975e82eb>\u001b[0m in \u001b[0;36m<module>\u001b[0;34m()\u001b[0m\n\u001b[1;32m      1\u001b[0m \u001b[0mlinkpp\u001b[0m\u001b[0;34m.\u001b[0m\u001b[0mcrs\u001b[0m \u001b[0;34m=\u001b[0m \u001b[0mfrom_epsg\u001b[0m\u001b[0;34m(\u001b[0m\u001b[0;36m4326\u001b[0m\u001b[0;34m)\u001b[0m\u001b[0;34m\u001b[0m\u001b[0m\n\u001b[0;32m----> 2\u001b[0;31m \u001b[0mlinkpp_ft\u001b[0m \u001b[0;34m=\u001b[0m \u001b[0mlinkpp\u001b[0m\u001b[0;34m.\u001b[0m\u001b[0mto_crs\u001b[0m\u001b[0;34m(\u001b[0m\u001b[0mepsg\u001b[0m\u001b[0;34m=\u001b[0m\u001b[0;36m2263\u001b[0m\u001b[0;34m)\u001b[0m\u001b[0;34m\u001b[0m\u001b[0m\n\u001b[0m",
      "\u001b[0;32m/usr/local/Anaconda3-5.0.0-Linux-x86_64/envs/PUI2016_Python3/lib/python3.5/site-packages/pandas/core/generic.py\u001b[0m in \u001b[0;36m__getattr__\u001b[0;34m(self, name)\u001b[0m\n\u001b[1;32m   2670\u001b[0m             \u001b[0;32mif\u001b[0m \u001b[0mname\u001b[0m \u001b[0;32min\u001b[0m \u001b[0mself\u001b[0m\u001b[0;34m.\u001b[0m\u001b[0m_info_axis\u001b[0m\u001b[0;34m:\u001b[0m\u001b[0;34m\u001b[0m\u001b[0m\n\u001b[1;32m   2671\u001b[0m                 \u001b[0;32mreturn\u001b[0m \u001b[0mself\u001b[0m\u001b[0;34m[\u001b[0m\u001b[0mname\u001b[0m\u001b[0;34m]\u001b[0m\u001b[0;34m\u001b[0m\u001b[0m\n\u001b[0;32m-> 2672\u001b[0;31m             \u001b[0;32mreturn\u001b[0m \u001b[0mobject\u001b[0m\u001b[0;34m.\u001b[0m\u001b[0m__getattribute__\u001b[0m\u001b[0;34m(\u001b[0m\u001b[0mself\u001b[0m\u001b[0;34m,\u001b[0m \u001b[0mname\u001b[0m\u001b[0;34m)\u001b[0m\u001b[0;34m\u001b[0m\u001b[0m\n\u001b[0m\u001b[1;32m   2673\u001b[0m \u001b[0;34m\u001b[0m\u001b[0m\n\u001b[1;32m   2674\u001b[0m     \u001b[0;32mdef\u001b[0m \u001b[0m__setattr__\u001b[0m\u001b[0;34m(\u001b[0m\u001b[0mself\u001b[0m\u001b[0;34m,\u001b[0m \u001b[0mname\u001b[0m\u001b[0;34m,\u001b[0m \u001b[0mvalue\u001b[0m\u001b[0;34m)\u001b[0m\u001b[0;34m:\u001b[0m\u001b[0;34m\u001b[0m\u001b[0m\n",
      "\u001b[0;31mAttributeError\u001b[0m: 'DataFrame' object has no attribute 'to_crs'"
     ]
    }
   ],
   "source": [
    "linkpp.crs = from_epsg(4326)\n",
    "linkpp_ft = linkpp.to_crs(epsg=2263)"
   ]
  },
  {
   "cell_type": "code",
   "execution_count": null,
   "metadata": {},
   "outputs": [],
   "source": [
    "# Now we need to add this column to our popShapeFile"
   ]
  },
  {
   "cell_type": "markdown",
   "metadata": {},
   "source": [
    "Make sure you use the correct scheme for merging: you want to have all the PUMAs, not only the ones that have linkNYC in them in the final geoDF"
   ]
  },
  {
   "cell_type": "code",
   "execution_count": 304,
   "metadata": {},
   "outputs": [],
   "source": [
    "linkpp = GeoDataFrame(linkpp)"
   ]
  },
  {
   "cell_type": "code",
   "execution_count": null,
   "metadata": {},
   "outputs": [],
   "source": []
  },
  {
   "cell_type": "code",
   "execution_count": null,
   "metadata": {},
   "outputs": [],
   "source": []
  },
  {
   "cell_type": "code",
   "execution_count": 347,
   "metadata": {},
   "outputs": [
    {
     "ename": "KeyError",
     "evalue": "'puma'",
     "output_type": "error",
     "traceback": [
      "\u001b[0;31m---------------------------------------------------------------------------\u001b[0m",
      "\u001b[0;31mKeyError\u001b[0m                                  Traceback (most recent call last)",
      "\u001b[0;32m/usr/local/Anaconda3-5.0.0-Linux-x86_64/envs/PUI2016_Python3/lib/python3.5/site-packages/pandas/indexes/base.py\u001b[0m in \u001b[0;36mget_loc\u001b[0;34m(self, key, method, tolerance)\u001b[0m\n\u001b[1;32m   1944\u001b[0m             \u001b[0;32mtry\u001b[0m\u001b[0;34m:\u001b[0m\u001b[0;34m\u001b[0m\u001b[0m\n\u001b[0;32m-> 1945\u001b[0;31m                 \u001b[0;32mreturn\u001b[0m \u001b[0mself\u001b[0m\u001b[0;34m.\u001b[0m\u001b[0m_engine\u001b[0m\u001b[0;34m.\u001b[0m\u001b[0mget_loc\u001b[0m\u001b[0;34m(\u001b[0m\u001b[0mkey\u001b[0m\u001b[0;34m)\u001b[0m\u001b[0;34m\u001b[0m\u001b[0m\n\u001b[0m\u001b[1;32m   1946\u001b[0m             \u001b[0;32mexcept\u001b[0m \u001b[0mKeyError\u001b[0m\u001b[0;34m:\u001b[0m\u001b[0;34m\u001b[0m\u001b[0m\n",
      "\u001b[0;32mpandas/index.pyx\u001b[0m in \u001b[0;36mpandas.index.IndexEngine.get_loc (pandas/index.c:4154)\u001b[0;34m()\u001b[0m\n",
      "\u001b[0;32mpandas/index.pyx\u001b[0m in \u001b[0;36mpandas.index.IndexEngine.get_loc (pandas/index.c:4018)\u001b[0;34m()\u001b[0m\n",
      "\u001b[0;32mpandas/hashtable.pyx\u001b[0m in \u001b[0;36mpandas.hashtable.PyObjectHashTable.get_item (pandas/hashtable.c:12368)\u001b[0;34m()\u001b[0m\n",
      "\u001b[0;32mpandas/hashtable.pyx\u001b[0m in \u001b[0;36mpandas.hashtable.PyObjectHashTable.get_item (pandas/hashtable.c:12322)\u001b[0;34m()\u001b[0m\n",
      "\u001b[0;31mKeyError\u001b[0m: 'puma'",
      "\nDuring handling of the above exception, another exception occurred:\n",
      "\u001b[0;31mKeyError\u001b[0m                                  Traceback (most recent call last)",
      "\u001b[0;32m<ipython-input-347-2891a5ab31e0>\u001b[0m in \u001b[0;36m<module>\u001b[0;34m()\u001b[0m\n\u001b[0;32m----> 1\u001b[0;31m \u001b[0mgeoDF\u001b[0m \u001b[0;34m=\u001b[0m \u001b[0mlinkpp\u001b[0m\u001b[0;34m.\u001b[0m\u001b[0mmerge\u001b[0m\u001b[0;34m(\u001b[0m\u001b[0mpopShapeFile\u001b[0m\u001b[0;34m,\u001b[0m \u001b[0mleft_on\u001b[0m\u001b[0;34m=\u001b[0m\u001b[0;34m\"puma\"\u001b[0m\u001b[0;34m,\u001b[0m\u001b[0mright_on\u001b[0m\u001b[0;34m=\u001b[0m\u001b[0;34m\"puma\"\u001b[0m\u001b[0;34m,\u001b[0m\u001b[0mhow\u001b[0m\u001b[0;34m=\u001b[0m\u001b[0;34m'inner'\u001b[0m\u001b[0;34m)\u001b[0m\u001b[0;34m\u001b[0m\u001b[0m\n\u001b[0m",
      "\u001b[0;32m/usr/local/Anaconda3-5.0.0-Linux-x86_64/envs/PUI2016_Python3/lib/python3.5/site-packages/pandas/core/frame.py\u001b[0m in \u001b[0;36mmerge\u001b[0;34m(self, right, how, on, left_on, right_on, left_index, right_index, sort, suffixes, copy, indicator)\u001b[0m\n\u001b[1;32m   4435\u001b[0m                      \u001b[0mright_on\u001b[0m\u001b[0;34m=\u001b[0m\u001b[0mright_on\u001b[0m\u001b[0;34m,\u001b[0m \u001b[0mleft_index\u001b[0m\u001b[0;34m=\u001b[0m\u001b[0mleft_index\u001b[0m\u001b[0;34m,\u001b[0m\u001b[0;34m\u001b[0m\u001b[0m\n\u001b[1;32m   4436\u001b[0m                      \u001b[0mright_index\u001b[0m\u001b[0;34m=\u001b[0m\u001b[0mright_index\u001b[0m\u001b[0;34m,\u001b[0m \u001b[0msort\u001b[0m\u001b[0;34m=\u001b[0m\u001b[0msort\u001b[0m\u001b[0;34m,\u001b[0m \u001b[0msuffixes\u001b[0m\u001b[0;34m=\u001b[0m\u001b[0msuffixes\u001b[0m\u001b[0;34m,\u001b[0m\u001b[0;34m\u001b[0m\u001b[0m\n\u001b[0;32m-> 4437\u001b[0;31m                      copy=copy, indicator=indicator)\n\u001b[0m\u001b[1;32m   4438\u001b[0m \u001b[0;34m\u001b[0m\u001b[0m\n\u001b[1;32m   4439\u001b[0m     \u001b[0;32mdef\u001b[0m \u001b[0mround\u001b[0m\u001b[0;34m(\u001b[0m\u001b[0mself\u001b[0m\u001b[0;34m,\u001b[0m \u001b[0mdecimals\u001b[0m\u001b[0;34m=\u001b[0m\u001b[0;36m0\u001b[0m\u001b[0;34m,\u001b[0m \u001b[0;34m*\u001b[0m\u001b[0margs\u001b[0m\u001b[0;34m,\u001b[0m \u001b[0;34m**\u001b[0m\u001b[0mkwargs\u001b[0m\u001b[0;34m)\u001b[0m\u001b[0;34m:\u001b[0m\u001b[0;34m\u001b[0m\u001b[0m\n",
      "\u001b[0;32m/usr/local/Anaconda3-5.0.0-Linux-x86_64/envs/PUI2016_Python3/lib/python3.5/site-packages/pandas/tools/merge.py\u001b[0m in \u001b[0;36mmerge\u001b[0;34m(left, right, how, on, left_on, right_on, left_index, right_index, sort, suffixes, copy, indicator)\u001b[0m\n\u001b[1;32m     36\u001b[0m                          \u001b[0mright_on\u001b[0m\u001b[0;34m=\u001b[0m\u001b[0mright_on\u001b[0m\u001b[0;34m,\u001b[0m \u001b[0mleft_index\u001b[0m\u001b[0;34m=\u001b[0m\u001b[0mleft_index\u001b[0m\u001b[0;34m,\u001b[0m\u001b[0;34m\u001b[0m\u001b[0m\n\u001b[1;32m     37\u001b[0m                          \u001b[0mright_index\u001b[0m\u001b[0;34m=\u001b[0m\u001b[0mright_index\u001b[0m\u001b[0;34m,\u001b[0m \u001b[0msort\u001b[0m\u001b[0;34m=\u001b[0m\u001b[0msort\u001b[0m\u001b[0;34m,\u001b[0m \u001b[0msuffixes\u001b[0m\u001b[0;34m=\u001b[0m\u001b[0msuffixes\u001b[0m\u001b[0;34m,\u001b[0m\u001b[0;34m\u001b[0m\u001b[0m\n\u001b[0;32m---> 38\u001b[0;31m                          copy=copy, indicator=indicator)\n\u001b[0m\u001b[1;32m     39\u001b[0m     \u001b[0;32mreturn\u001b[0m \u001b[0mop\u001b[0m\u001b[0;34m.\u001b[0m\u001b[0mget_result\u001b[0m\u001b[0;34m(\u001b[0m\u001b[0;34m)\u001b[0m\u001b[0;34m\u001b[0m\u001b[0m\n\u001b[1;32m     40\u001b[0m \u001b[0;32mif\u001b[0m \u001b[0m__debug__\u001b[0m\u001b[0;34m:\u001b[0m\u001b[0;34m\u001b[0m\u001b[0m\n",
      "\u001b[0;32m/usr/local/Anaconda3-5.0.0-Linux-x86_64/envs/PUI2016_Python3/lib/python3.5/site-packages/pandas/tools/merge.py\u001b[0m in \u001b[0;36m__init__\u001b[0;34m(self, left, right, how, on, left_on, right_on, axis, left_index, right_index, sort, suffixes, copy, indicator)\u001b[0m\n\u001b[1;32m    208\u001b[0m         (self.left_join_keys,\n\u001b[1;32m    209\u001b[0m          \u001b[0mself\u001b[0m\u001b[0;34m.\u001b[0m\u001b[0mright_join_keys\u001b[0m\u001b[0;34m,\u001b[0m\u001b[0;34m\u001b[0m\u001b[0m\n\u001b[0;32m--> 210\u001b[0;31m          self.join_names) = self._get_merge_keys()\n\u001b[0m\u001b[1;32m    211\u001b[0m \u001b[0;34m\u001b[0m\u001b[0m\n\u001b[1;32m    212\u001b[0m     \u001b[0;32mdef\u001b[0m \u001b[0mget_result\u001b[0m\u001b[0;34m(\u001b[0m\u001b[0mself\u001b[0m\u001b[0;34m)\u001b[0m\u001b[0;34m:\u001b[0m\u001b[0;34m\u001b[0m\u001b[0m\n",
      "\u001b[0;32m/usr/local/Anaconda3-5.0.0-Linux-x86_64/envs/PUI2016_Python3/lib/python3.5/site-packages/pandas/tools/merge.py\u001b[0m in \u001b[0;36m_get_merge_keys\u001b[0;34m(self)\u001b[0m\n\u001b[1;32m    441\u001b[0m                     \u001b[0;32melse\u001b[0m\u001b[0;34m:\u001b[0m\u001b[0;34m\u001b[0m\u001b[0m\n\u001b[1;32m    442\u001b[0m                         \u001b[0mright_keys\u001b[0m\u001b[0;34m.\u001b[0m\u001b[0mappend\u001b[0m\u001b[0;34m(\u001b[0m\u001b[0mrk\u001b[0m\u001b[0;34m)\u001b[0m\u001b[0;34m\u001b[0m\u001b[0m\n\u001b[0;32m--> 443\u001b[0;31m                     \u001b[0mleft_keys\u001b[0m\u001b[0;34m.\u001b[0m\u001b[0mappend\u001b[0m\u001b[0;34m(\u001b[0m\u001b[0mleft\u001b[0m\u001b[0;34m[\u001b[0m\u001b[0mlk\u001b[0m\u001b[0;34m]\u001b[0m\u001b[0;34m.\u001b[0m\u001b[0m_values\u001b[0m\u001b[0;34m)\u001b[0m\u001b[0;34m\u001b[0m\u001b[0m\n\u001b[0m\u001b[1;32m    444\u001b[0m                     \u001b[0mjoin_names\u001b[0m\u001b[0;34m.\u001b[0m\u001b[0mappend\u001b[0m\u001b[0;34m(\u001b[0m\u001b[0mlk\u001b[0m\u001b[0;34m)\u001b[0m\u001b[0;34m\u001b[0m\u001b[0m\n\u001b[1;32m    445\u001b[0m         \u001b[0;32melif\u001b[0m \u001b[0m_any\u001b[0m\u001b[0;34m(\u001b[0m\u001b[0mself\u001b[0m\u001b[0;34m.\u001b[0m\u001b[0mleft_on\u001b[0m\u001b[0;34m)\u001b[0m\u001b[0;34m:\u001b[0m\u001b[0;34m\u001b[0m\u001b[0m\n",
      "\u001b[0;32m/usr/local/Anaconda3-5.0.0-Linux-x86_64/envs/PUI2016_Python3/lib/python3.5/site-packages/pandas/core/frame.py\u001b[0m in \u001b[0;36m__getitem__\u001b[0;34m(self, key)\u001b[0m\n\u001b[1;32m   1995\u001b[0m             \u001b[0;32mreturn\u001b[0m \u001b[0mself\u001b[0m\u001b[0;34m.\u001b[0m\u001b[0m_getitem_multilevel\u001b[0m\u001b[0;34m(\u001b[0m\u001b[0mkey\u001b[0m\u001b[0;34m)\u001b[0m\u001b[0;34m\u001b[0m\u001b[0m\n\u001b[1;32m   1996\u001b[0m         \u001b[0;32melse\u001b[0m\u001b[0;34m:\u001b[0m\u001b[0;34m\u001b[0m\u001b[0m\n\u001b[0;32m-> 1997\u001b[0;31m             \u001b[0;32mreturn\u001b[0m \u001b[0mself\u001b[0m\u001b[0;34m.\u001b[0m\u001b[0m_getitem_column\u001b[0m\u001b[0;34m(\u001b[0m\u001b[0mkey\u001b[0m\u001b[0;34m)\u001b[0m\u001b[0;34m\u001b[0m\u001b[0m\n\u001b[0m\u001b[1;32m   1998\u001b[0m \u001b[0;34m\u001b[0m\u001b[0m\n\u001b[1;32m   1999\u001b[0m     \u001b[0;32mdef\u001b[0m \u001b[0m_getitem_column\u001b[0m\u001b[0;34m(\u001b[0m\u001b[0mself\u001b[0m\u001b[0;34m,\u001b[0m \u001b[0mkey\u001b[0m\u001b[0;34m)\u001b[0m\u001b[0;34m:\u001b[0m\u001b[0;34m\u001b[0m\u001b[0m\n",
      "\u001b[0;32m/usr/local/Anaconda3-5.0.0-Linux-x86_64/envs/PUI2016_Python3/lib/python3.5/site-packages/pandas/core/frame.py\u001b[0m in \u001b[0;36m_getitem_column\u001b[0;34m(self, key)\u001b[0m\n\u001b[1;32m   2002\u001b[0m         \u001b[0;31m# get column\u001b[0m\u001b[0;34m\u001b[0m\u001b[0;34m\u001b[0m\u001b[0m\n\u001b[1;32m   2003\u001b[0m         \u001b[0;32mif\u001b[0m \u001b[0mself\u001b[0m\u001b[0;34m.\u001b[0m\u001b[0mcolumns\u001b[0m\u001b[0;34m.\u001b[0m\u001b[0mis_unique\u001b[0m\u001b[0;34m:\u001b[0m\u001b[0;34m\u001b[0m\u001b[0m\n\u001b[0;32m-> 2004\u001b[0;31m             \u001b[0;32mreturn\u001b[0m \u001b[0mself\u001b[0m\u001b[0;34m.\u001b[0m\u001b[0m_get_item_cache\u001b[0m\u001b[0;34m(\u001b[0m\u001b[0mkey\u001b[0m\u001b[0;34m)\u001b[0m\u001b[0;34m\u001b[0m\u001b[0m\n\u001b[0m\u001b[1;32m   2005\u001b[0m \u001b[0;34m\u001b[0m\u001b[0m\n\u001b[1;32m   2006\u001b[0m         \u001b[0;31m# duplicate columns & possible reduce dimensionality\u001b[0m\u001b[0;34m\u001b[0m\u001b[0;34m\u001b[0m\u001b[0m\n",
      "\u001b[0;32m/usr/local/Anaconda3-5.0.0-Linux-x86_64/envs/PUI2016_Python3/lib/python3.5/site-packages/pandas/core/generic.py\u001b[0m in \u001b[0;36m_get_item_cache\u001b[0;34m(self, item)\u001b[0m\n\u001b[1;32m   1348\u001b[0m         \u001b[0mres\u001b[0m \u001b[0;34m=\u001b[0m \u001b[0mcache\u001b[0m\u001b[0;34m.\u001b[0m\u001b[0mget\u001b[0m\u001b[0;34m(\u001b[0m\u001b[0mitem\u001b[0m\u001b[0;34m)\u001b[0m\u001b[0;34m\u001b[0m\u001b[0m\n\u001b[1;32m   1349\u001b[0m         \u001b[0;32mif\u001b[0m \u001b[0mres\u001b[0m \u001b[0;32mis\u001b[0m \u001b[0;32mNone\u001b[0m\u001b[0;34m:\u001b[0m\u001b[0;34m\u001b[0m\u001b[0m\n\u001b[0;32m-> 1350\u001b[0;31m             \u001b[0mvalues\u001b[0m \u001b[0;34m=\u001b[0m \u001b[0mself\u001b[0m\u001b[0;34m.\u001b[0m\u001b[0m_data\u001b[0m\u001b[0;34m.\u001b[0m\u001b[0mget\u001b[0m\u001b[0;34m(\u001b[0m\u001b[0mitem\u001b[0m\u001b[0;34m)\u001b[0m\u001b[0;34m\u001b[0m\u001b[0m\n\u001b[0m\u001b[1;32m   1351\u001b[0m             \u001b[0mres\u001b[0m \u001b[0;34m=\u001b[0m \u001b[0mself\u001b[0m\u001b[0;34m.\u001b[0m\u001b[0m_box_item_values\u001b[0m\u001b[0;34m(\u001b[0m\u001b[0mitem\u001b[0m\u001b[0;34m,\u001b[0m \u001b[0mvalues\u001b[0m\u001b[0;34m)\u001b[0m\u001b[0;34m\u001b[0m\u001b[0m\n\u001b[1;32m   1352\u001b[0m             \u001b[0mcache\u001b[0m\u001b[0;34m[\u001b[0m\u001b[0mitem\u001b[0m\u001b[0;34m]\u001b[0m \u001b[0;34m=\u001b[0m \u001b[0mres\u001b[0m\u001b[0;34m\u001b[0m\u001b[0m\n",
      "\u001b[0;32m/usr/local/Anaconda3-5.0.0-Linux-x86_64/envs/PUI2016_Python3/lib/python3.5/site-packages/pandas/core/internals.py\u001b[0m in \u001b[0;36mget\u001b[0;34m(self, item, fastpath)\u001b[0m\n\u001b[1;32m   3288\u001b[0m \u001b[0;34m\u001b[0m\u001b[0m\n\u001b[1;32m   3289\u001b[0m             \u001b[0;32mif\u001b[0m \u001b[0;32mnot\u001b[0m \u001b[0misnull\u001b[0m\u001b[0;34m(\u001b[0m\u001b[0mitem\u001b[0m\u001b[0;34m)\u001b[0m\u001b[0;34m:\u001b[0m\u001b[0;34m\u001b[0m\u001b[0m\n\u001b[0;32m-> 3290\u001b[0;31m                 \u001b[0mloc\u001b[0m \u001b[0;34m=\u001b[0m \u001b[0mself\u001b[0m\u001b[0;34m.\u001b[0m\u001b[0mitems\u001b[0m\u001b[0;34m.\u001b[0m\u001b[0mget_loc\u001b[0m\u001b[0;34m(\u001b[0m\u001b[0mitem\u001b[0m\u001b[0;34m)\u001b[0m\u001b[0;34m\u001b[0m\u001b[0m\n\u001b[0m\u001b[1;32m   3291\u001b[0m             \u001b[0;32melse\u001b[0m\u001b[0;34m:\u001b[0m\u001b[0;34m\u001b[0m\u001b[0m\n\u001b[1;32m   3292\u001b[0m                 \u001b[0mindexer\u001b[0m \u001b[0;34m=\u001b[0m \u001b[0mnp\u001b[0m\u001b[0;34m.\u001b[0m\u001b[0marange\u001b[0m\u001b[0;34m(\u001b[0m\u001b[0mlen\u001b[0m\u001b[0;34m(\u001b[0m\u001b[0mself\u001b[0m\u001b[0;34m.\u001b[0m\u001b[0mitems\u001b[0m\u001b[0;34m)\u001b[0m\u001b[0;34m)\u001b[0m\u001b[0;34m[\u001b[0m\u001b[0misnull\u001b[0m\u001b[0;34m(\u001b[0m\u001b[0mself\u001b[0m\u001b[0;34m.\u001b[0m\u001b[0mitems\u001b[0m\u001b[0;34m)\u001b[0m\u001b[0;34m]\u001b[0m\u001b[0;34m\u001b[0m\u001b[0m\n",
      "\u001b[0;32m/usr/local/Anaconda3-5.0.0-Linux-x86_64/envs/PUI2016_Python3/lib/python3.5/site-packages/pandas/indexes/base.py\u001b[0m in \u001b[0;36mget_loc\u001b[0;34m(self, key, method, tolerance)\u001b[0m\n\u001b[1;32m   1945\u001b[0m                 \u001b[0;32mreturn\u001b[0m \u001b[0mself\u001b[0m\u001b[0;34m.\u001b[0m\u001b[0m_engine\u001b[0m\u001b[0;34m.\u001b[0m\u001b[0mget_loc\u001b[0m\u001b[0;34m(\u001b[0m\u001b[0mkey\u001b[0m\u001b[0;34m)\u001b[0m\u001b[0;34m\u001b[0m\u001b[0m\n\u001b[1;32m   1946\u001b[0m             \u001b[0;32mexcept\u001b[0m \u001b[0mKeyError\u001b[0m\u001b[0;34m:\u001b[0m\u001b[0;34m\u001b[0m\u001b[0m\n\u001b[0;32m-> 1947\u001b[0;31m                 \u001b[0;32mreturn\u001b[0m \u001b[0mself\u001b[0m\u001b[0;34m.\u001b[0m\u001b[0m_engine\u001b[0m\u001b[0;34m.\u001b[0m\u001b[0mget_loc\u001b[0m\u001b[0;34m(\u001b[0m\u001b[0mself\u001b[0m\u001b[0;34m.\u001b[0m\u001b[0m_maybe_cast_indexer\u001b[0m\u001b[0;34m(\u001b[0m\u001b[0mkey\u001b[0m\u001b[0;34m)\u001b[0m\u001b[0;34m)\u001b[0m\u001b[0;34m\u001b[0m\u001b[0m\n\u001b[0m\u001b[1;32m   1948\u001b[0m \u001b[0;34m\u001b[0m\u001b[0m\n\u001b[1;32m   1949\u001b[0m         \u001b[0mindexer\u001b[0m \u001b[0;34m=\u001b[0m \u001b[0mself\u001b[0m\u001b[0;34m.\u001b[0m\u001b[0mget_indexer\u001b[0m\u001b[0;34m(\u001b[0m\u001b[0;34m[\u001b[0m\u001b[0mkey\u001b[0m\u001b[0;34m]\u001b[0m\u001b[0;34m,\u001b[0m \u001b[0mmethod\u001b[0m\u001b[0;34m=\u001b[0m\u001b[0mmethod\u001b[0m\u001b[0;34m,\u001b[0m \u001b[0mtolerance\u001b[0m\u001b[0;34m=\u001b[0m\u001b[0mtolerance\u001b[0m\u001b[0;34m)\u001b[0m\u001b[0;34m\u001b[0m\u001b[0m\n",
      "\u001b[0;32mpandas/index.pyx\u001b[0m in \u001b[0;36mpandas.index.IndexEngine.get_loc (pandas/index.c:4154)\u001b[0;34m()\u001b[0m\n",
      "\u001b[0;32mpandas/index.pyx\u001b[0m in \u001b[0;36mpandas.index.IndexEngine.get_loc (pandas/index.c:4018)\u001b[0;34m()\u001b[0m\n",
      "\u001b[0;32mpandas/hashtable.pyx\u001b[0m in \u001b[0;36mpandas.hashtable.PyObjectHashTable.get_item (pandas/hashtable.c:12368)\u001b[0;34m()\u001b[0m\n",
      "\u001b[0;32mpandas/hashtable.pyx\u001b[0m in \u001b[0;36mpandas.hashtable.PyObjectHashTable.get_item (pandas/hashtable.c:12322)\u001b[0;34m()\u001b[0m\n",
      "\u001b[0;31mKeyError\u001b[0m: 'puma'"
     ]
    }
   ],
   "source": [
    "geoDF = linkpp.merge(popShapeFile, left_on=\"puma\",right_on=\"puma\",how='inner')"
   ]
  },
  {
   "cell_type": "code",
   "execution_count": 300,
   "metadata": {},
   "outputs": [
    {
     "name": "stderr",
     "output_type": "stream",
     "text": [
      "/usr/local/Anaconda3-5.0.0-Linux-x86_64/envs/PUI2016_Python3/lib/python3.5/site-packages/numpy/lib/function_base.py:3403: RuntimeWarning: Invalid value encountered in median\n",
      "  RuntimeWarning)\n"
     ]
    },
    {
     "data": {
      "text/html": [
       "<div>\n",
       "<table border=\"1\" class=\"dataframe\">\n",
       "  <thead>\n",
       "    <tr style=\"text-align: right;\">\n",
       "      <th></th>\n",
       "      <th>puma</th>\n",
       "      <th>shape_area</th>\n",
       "      <th>shape_leng</th>\n",
       "      <th>Broadband</th>\n",
       "      <th>geoID</th>\n",
       "      <th>HH</th>\n",
       "      <th>pcBB</th>\n",
       "      <th>diff</th>\n",
       "      <th>B00001_001E</th>\n",
       "      <th>state</th>\n",
       "      <th>Unnamed: 4</th>\n",
       "    </tr>\n",
       "  </thead>\n",
       "  <tbody>\n",
       "    <tr>\n",
       "      <th>count</th>\n",
       "      <td>55.000000</td>\n",
       "      <td>5.500000e+01</td>\n",
       "      <td>55.000000</td>\n",
       "      <td>55.000000</td>\n",
       "      <td>55.000000</td>\n",
       "      <td>55.000000</td>\n",
       "      <td>55.000000</td>\n",
       "      <td>55.000000</td>\n",
       "      <td>55.000000</td>\n",
       "      <td>55.0</td>\n",
       "      <td>0.0</td>\n",
       "    </tr>\n",
       "    <tr>\n",
       "      <th>mean</th>\n",
       "      <td>3936.218182</td>\n",
       "      <td>1.532632e+08</td>\n",
       "      <td>91547.959548</td>\n",
       "      <td>45287.254545</td>\n",
       "      <td>3936.218182</td>\n",
       "      <td>56633.272727</td>\n",
       "      <td>79.462797</td>\n",
       "      <td>0.027518</td>\n",
       "      <td>2138.618182</td>\n",
       "      <td>36.0</td>\n",
       "      <td>NaN</td>\n",
       "    </tr>\n",
       "    <tr>\n",
       "      <th>std</th>\n",
       "      <td>149.997616</td>\n",
       "      <td>1.361440e+08</td>\n",
       "      <td>77522.481125</td>\n",
       "      <td>14410.514427</td>\n",
       "      <td>149.997616</td>\n",
       "      <td>14874.212875</td>\n",
       "      <td>7.548276</td>\n",
       "      <td>0.013269</td>\n",
       "      <td>699.237163</td>\n",
       "      <td>0.0</td>\n",
       "      <td>NaN</td>\n",
       "    </tr>\n",
       "    <tr>\n",
       "      <th>min</th>\n",
       "      <td>3701.000000</td>\n",
       "      <td>3.984279e+07</td>\n",
       "      <td>34852.437966</td>\n",
       "      <td>27834.000000</td>\n",
       "      <td>3701.000000</td>\n",
       "      <td>37998.000000</td>\n",
       "      <td>54.932945</td>\n",
       "      <td>0.001693</td>\n",
       "      <td>1238.000000</td>\n",
       "      <td>36.0</td>\n",
       "      <td>NaN</td>\n",
       "    </tr>\n",
       "    <tr>\n",
       "      <th>25%</th>\n",
       "      <td>3804.500000</td>\n",
       "      <td>7.498814e+07</td>\n",
       "      <td>48072.809133</td>\n",
       "      <td>35658.500000</td>\n",
       "      <td>3804.500000</td>\n",
       "      <td>45822.500000</td>\n",
       "      <td>74.772059</td>\n",
       "      <td>0.020397</td>\n",
       "      <td>1554.000000</td>\n",
       "      <td>36.0</td>\n",
       "      <td>NaN</td>\n",
       "    </tr>\n",
       "    <tr>\n",
       "      <th>50%</th>\n",
       "      <td>4005.000000</td>\n",
       "      <td>1.070001e+08</td>\n",
       "      <td>70492.955589</td>\n",
       "      <td>41578.000000</td>\n",
       "      <td>4005.000000</td>\n",
       "      <td>52591.000000</td>\n",
       "      <td>79.301693</td>\n",
       "      <td>0.027634</td>\n",
       "      <td>2004.000000</td>\n",
       "      <td>36.0</td>\n",
       "      <td>NaN</td>\n",
       "    </tr>\n",
       "    <tr>\n",
       "      <th>75%</th>\n",
       "      <td>4059.500000</td>\n",
       "      <td>1.692189e+08</td>\n",
       "      <td>98789.538654</td>\n",
       "      <td>50273.000000</td>\n",
       "      <td>4059.500000</td>\n",
       "      <td>62501.500000</td>\n",
       "      <td>85.127599</td>\n",
       "      <td>0.039522</td>\n",
       "      <td>2383.500000</td>\n",
       "      <td>36.0</td>\n",
       "      <td>NaN</td>\n",
       "    </tr>\n",
       "    <tr>\n",
       "      <th>max</th>\n",
       "      <td>4114.000000</td>\n",
       "      <td>6.760200e+08</td>\n",
       "      <td>412606.741739</td>\n",
       "      <td>102520.000000</td>\n",
       "      <td>4114.000000</td>\n",
       "      <td>111507.000000</td>\n",
       "      <td>93.030650</td>\n",
       "      <td>0.049841</td>\n",
       "      <td>4001.000000</td>\n",
       "      <td>36.0</td>\n",
       "      <td>NaN</td>\n",
       "    </tr>\n",
       "  </tbody>\n",
       "</table>\n",
       "</div>"
      ],
      "text/plain": [
       "              puma    shape_area     shape_leng      Broadband        geoID  \\\n",
       "count    55.000000  5.500000e+01      55.000000      55.000000    55.000000   \n",
       "mean   3936.218182  1.532632e+08   91547.959548   45287.254545  3936.218182   \n",
       "std     149.997616  1.361440e+08   77522.481125   14410.514427   149.997616   \n",
       "min    3701.000000  3.984279e+07   34852.437966   27834.000000  3701.000000   \n",
       "25%    3804.500000  7.498814e+07   48072.809133   35658.500000  3804.500000   \n",
       "50%    4005.000000  1.070001e+08   70492.955589   41578.000000  4005.000000   \n",
       "75%    4059.500000  1.692189e+08   98789.538654   50273.000000  4059.500000   \n",
       "max    4114.000000  6.760200e+08  412606.741739  102520.000000  4114.000000   \n",
       "\n",
       "                  HH       pcBB       diff  B00001_001E  state  Unnamed: 4  \n",
       "count      55.000000  55.000000  55.000000    55.000000   55.0         0.0  \n",
       "mean    56633.272727  79.462797   0.027518  2138.618182   36.0         NaN  \n",
       "std     14874.212875   7.548276   0.013269   699.237163    0.0         NaN  \n",
       "min     37998.000000  54.932945   0.001693  1238.000000   36.0         NaN  \n",
       "25%     45822.500000  74.772059   0.020397  1554.000000   36.0         NaN  \n",
       "50%     52591.000000  79.301693   0.027634  2004.000000   36.0         NaN  \n",
       "75%     62501.500000  85.127599   0.039522  2383.500000   36.0         NaN  \n",
       "max    111507.000000  93.030650   0.049841  4001.000000   36.0         NaN  "
      ]
     },
     "execution_count": 300,
     "metadata": {},
     "output_type": "execute_result"
    }
   ],
   "source": [
    "popShapeFile.describe()"
   ]
  },
  {
   "cell_type": "code",
   "execution_count": 303,
   "metadata": {},
   "outputs": [
    {
     "name": "stderr",
     "output_type": "stream",
     "text": [
      "/usr/local/Anaconda3-5.0.0-Linux-x86_64/envs/PUI2016_Python3/lib/python3.5/site-packages/numpy/lib/function_base.py:3403: RuntimeWarning: Invalid value encountered in median\n",
      "  RuntimeWarning)\n"
     ]
    },
    {
     "data": {
      "text/html": [
       "<div>\n",
       "<table border=\"1\" class=\"dataframe\">\n",
       "  <thead>\n",
       "    <tr style=\"text-align: right;\">\n",
       "      <th></th>\n",
       "      <th>puma</th>\n",
       "      <th>link_site</th>\n",
       "      <th>shape_area</th>\n",
       "      <th>shape_leng</th>\n",
       "      <th>Broadband</th>\n",
       "      <th>geoID</th>\n",
       "      <th>HH</th>\n",
       "      <th>pcBB</th>\n",
       "      <th>diff</th>\n",
       "      <th>B00001_001E</th>\n",
       "      <th>state</th>\n",
       "      <th>Unnamed: 4</th>\n",
       "    </tr>\n",
       "  </thead>\n",
       "  <tbody>\n",
       "    <tr>\n",
       "      <th>count</th>\n",
       "      <td>37.000000</td>\n",
       "      <td>37.000000</td>\n",
       "      <td>3.700000e+01</td>\n",
       "      <td>37.000000</td>\n",
       "      <td>37.000000</td>\n",
       "      <td>37.000000</td>\n",
       "      <td>37.000000</td>\n",
       "      <td>37.000000</td>\n",
       "      <td>37.000000</td>\n",
       "      <td>37.000000</td>\n",
       "      <td>37.0</td>\n",
       "      <td>0.0</td>\n",
       "    </tr>\n",
       "    <tr>\n",
       "      <th>mean</th>\n",
       "      <td>3917.000000</td>\n",
       "      <td>38.216216</td>\n",
       "      <td>1.207017e+08</td>\n",
       "      <td>67810.760710</td>\n",
       "      <td>46463.702703</td>\n",
       "      <td>3917.000000</td>\n",
       "      <td>58130.432432</td>\n",
       "      <td>79.177482</td>\n",
       "      <td>0.028246</td>\n",
       "      <td>1938.243243</td>\n",
       "      <td>36.0</td>\n",
       "      <td>NaN</td>\n",
       "    </tr>\n",
       "    <tr>\n",
       "      <th>std</th>\n",
       "      <td>143.587952</td>\n",
       "      <td>46.499782</td>\n",
       "      <td>1.303485e+08</td>\n",
       "      <td>34544.020794</td>\n",
       "      <td>16151.491644</td>\n",
       "      <td>143.587952</td>\n",
       "      <td>16086.079754</td>\n",
       "      <td>7.932258</td>\n",
       "      <td>0.012603</td>\n",
       "      <td>549.368193</td>\n",
       "      <td>0.0</td>\n",
       "      <td>NaN</td>\n",
       "    </tr>\n",
       "    <tr>\n",
       "      <th>min</th>\n",
       "      <td>3701.000000</td>\n",
       "      <td>1.000000</td>\n",
       "      <td>3.984279e+07</td>\n",
       "      <td>34852.437966</td>\n",
       "      <td>30110.000000</td>\n",
       "      <td>3701.000000</td>\n",
       "      <td>40473.000000</td>\n",
       "      <td>54.932945</td>\n",
       "      <td>0.002200</td>\n",
       "      <td>1238.000000</td>\n",
       "      <td>36.0</td>\n",
       "      <td>NaN</td>\n",
       "    </tr>\n",
       "    <tr>\n",
       "      <th>25%</th>\n",
       "      <td>3804.000000</td>\n",
       "      <td>12.000000</td>\n",
       "      <td>6.184965e+07</td>\n",
       "      <td>44724.499267</td>\n",
       "      <td>35788.000000</td>\n",
       "      <td>3804.000000</td>\n",
       "      <td>46654.000000</td>\n",
       "      <td>74.810319</td>\n",
       "      <td>0.020467</td>\n",
       "      <td>1519.000000</td>\n",
       "      <td>36.0</td>\n",
       "      <td>NaN</td>\n",
       "    </tr>\n",
       "    <tr>\n",
       "      <th>50%</th>\n",
       "      <td>4001.000000</td>\n",
       "      <td>25.000000</td>\n",
       "      <td>8.560261e+07</td>\n",
       "      <td>56323.365530</td>\n",
       "      <td>41578.000000</td>\n",
       "      <td>4001.000000</td>\n",
       "      <td>52591.000000</td>\n",
       "      <td>78.778618</td>\n",
       "      <td>0.027230</td>\n",
       "      <td>1846.000000</td>\n",
       "      <td>36.0</td>\n",
       "      <td>NaN</td>\n",
       "    </tr>\n",
       "    <tr>\n",
       "      <th>75%</th>\n",
       "      <td>4011.000000</td>\n",
       "      <td>40.000000</td>\n",
       "      <td>1.171050e+08</td>\n",
       "      <td>74076.375782</td>\n",
       "      <td>49039.000000</td>\n",
       "      <td>4011.000000</td>\n",
       "      <td>66037.000000</td>\n",
       "      <td>84.939550</td>\n",
       "      <td>0.039550</td>\n",
       "      <td>2149.000000</td>\n",
       "      <td>36.0</td>\n",
       "      <td>NaN</td>\n",
       "    </tr>\n",
       "    <tr>\n",
       "      <th>max</th>\n",
       "      <td>4112.000000</td>\n",
       "      <td>230.000000</td>\n",
       "      <td>6.760200e+08</td>\n",
       "      <td>194764.602625</td>\n",
       "      <td>102520.000000</td>\n",
       "      <td>4112.000000</td>\n",
       "      <td>111507.000000</td>\n",
       "      <td>93.030650</td>\n",
       "      <td>0.049841</td>\n",
       "      <td>3940.000000</td>\n",
       "      <td>36.0</td>\n",
       "      <td>NaN</td>\n",
       "    </tr>\n",
       "  </tbody>\n",
       "</table>\n",
       "</div>"
      ],
      "text/plain": [
       "              puma   link_site    shape_area     shape_leng      Broadband  \\\n",
       "count    37.000000   37.000000  3.700000e+01      37.000000      37.000000   \n",
       "mean   3917.000000   38.216216  1.207017e+08   67810.760710   46463.702703   \n",
       "std     143.587952   46.499782  1.303485e+08   34544.020794   16151.491644   \n",
       "min    3701.000000    1.000000  3.984279e+07   34852.437966   30110.000000   \n",
       "25%    3804.000000   12.000000  6.184965e+07   44724.499267   35788.000000   \n",
       "50%    4001.000000   25.000000  8.560261e+07   56323.365530   41578.000000   \n",
       "75%    4011.000000   40.000000  1.171050e+08   74076.375782   49039.000000   \n",
       "max    4112.000000  230.000000  6.760200e+08  194764.602625  102520.000000   \n",
       "\n",
       "             geoID             HH       pcBB       diff  B00001_001E  state  \\\n",
       "count    37.000000      37.000000  37.000000  37.000000    37.000000   37.0   \n",
       "mean   3917.000000   58130.432432  79.177482   0.028246  1938.243243   36.0   \n",
       "std     143.587952   16086.079754   7.932258   0.012603   549.368193    0.0   \n",
       "min    3701.000000   40473.000000  54.932945   0.002200  1238.000000   36.0   \n",
       "25%    3804.000000   46654.000000  74.810319   0.020467  1519.000000   36.0   \n",
       "50%    4001.000000   52591.000000  78.778618   0.027230  1846.000000   36.0   \n",
       "75%    4011.000000   66037.000000  84.939550   0.039550  2149.000000   36.0   \n",
       "max    4112.000000  111507.000000  93.030650   0.049841  3940.000000   36.0   \n",
       "\n",
       "       Unnamed: 4  \n",
       "count         0.0  \n",
       "mean          NaN  \n",
       "std           NaN  \n",
       "min           NaN  \n",
       "25%           NaN  \n",
       "50%           NaN  \n",
       "75%           NaN  \n",
       "max           NaN  "
      ]
     },
     "execution_count": 303,
     "metadata": {},
     "output_type": "execute_result"
    }
   ],
   "source": [
    "geoDF.describe()"
   ]
  },
  {
   "cell_type": "code",
   "execution_count": null,
   "metadata": {},
   "outputs": [],
   "source": []
  },
  {
   "cell_type": "code",
   "execution_count": null,
   "metadata": {},
   "outputs": [],
   "source": []
  },
  {
   "cell_type": "code",
   "execution_count": null,
   "metadata": {},
   "outputs": [],
   "source": []
  },
  {
   "cell_type": "code",
   "execution_count": null,
   "metadata": {},
   "outputs": [],
   "source": [
    "# Get count of link_sites"
   ]
  },
  {
   "cell_type": "code",
   "execution_count": null,
   "metadata": {},
   "outputs": [],
   "source": []
  },
  {
   "cell_type": "code",
   "execution_count": null,
   "metadata": {},
   "outputs": [],
   "source": []
  },
  {
   "cell_type": "code",
   "execution_count": null,
   "metadata": {},
   "outputs": [],
   "source": []
  },
  {
   "cell_type": "code",
   "execution_count": null,
   "metadata": {},
   "outputs": [],
   "source": []
  },
  {
   "cell_type": "code",
   "execution_count": null,
   "metadata": {},
   "outputs": [],
   "source": []
  },
  {
   "cell_type": "code",
   "execution_count": null,
   "metadata": {},
   "outputs": [],
   "source": []
  },
  {
   "cell_type": "code",
   "execution_count": null,
   "metadata": {},
   "outputs": [],
   "source": []
  },
  {
   "cell_type": "code",
   "execution_count": null,
   "metadata": {},
   "outputs": [],
   "source": []
  },
  {
   "cell_type": "code",
   "execution_count": null,
   "metadata": {},
   "outputs": [],
   "source": [
    "#Now we have the count of link_sites and the population columns\n",
    "#make a new column for the number of sites per 100 people\n",
    "# first we divide pop in each puma by 100\n",
    "PopandShape[\"onehundredp\"] = PopandShape.B00001_001E / 100\n",
    "# second we divide number of stations per 100 people\n",
    "PopandShape[\"linkNYCp100p\"] = PopandShape.onehundredp / PopShape.link_site"
   ]
  },
  {
   "cell_type": "code",
   "execution_count": null,
   "metadata": {},
   "outputs": [],
   "source": []
  },
  {
   "cell_type": "code",
   "execution_count": null,
   "metadata": {},
   "outputs": [],
   "source": []
  },
  {
   "cell_type": "code",
   "execution_count": null,
   "metadata": {},
   "outputs": [],
   "source": []
  },
  {
   "cell_type": "code",
   "execution_count": null,
   "metadata": {},
   "outputs": [],
   "source": []
  },
  {
   "cell_type": "code",
   "execution_count": null,
   "metadata": {},
   "outputs": [],
   "source": []
  },
  {
   "cell_type": "code",
   "execution_count": null,
   "metadata": {},
   "outputs": [],
   "source": []
  },
  {
   "cell_type": "code",
   "execution_count": null,
   "metadata": {},
   "outputs": [],
   "source": []
  },
  {
   "cell_type": "code",
   "execution_count": null,
   "metadata": {},
   "outputs": [],
   "source": []
  },
  {
   "cell_type": "code",
   "execution_count": null,
   "metadata": {},
   "outputs": [],
   "source": []
  },
  {
   "cell_type": "code",
   "execution_count": null,
   "metadata": {},
   "outputs": [],
   "source": []
  },
  {
   "cell_type": "code",
   "execution_count": null,
   "metadata": {},
   "outputs": [],
   "source": []
  },
  {
   "cell_type": "code",
   "execution_count": null,
   "metadata": {},
   "outputs": [],
   "source": []
  },
  {
   "cell_type": "code",
   "execution_count": null,
   "metadata": {},
   "outputs": [],
   "source": [
    "REFRESH!"
   ]
  },
  {
   "cell_type": "code",
   "execution_count": 242,
   "metadata": {},
   "outputs": [],
   "source": [
    "pumatp['puma'] = pumatp['puma'].astype(int)"
   ]
  },
  {
   "cell_type": "code",
   "execution_count": 243,
   "metadata": {},
   "outputs": [],
   "source": [
    "# add population to shape data\n",
    "PopandShape = ShapeData.merge(pumatp, on=\"puma\")"
   ]
  },
  {
   "cell_type": "code",
   "execution_count": 274,
   "metadata": {
    "scrolled": true
   },
   "outputs": [
    {
     "data": {
      "text/html": [
       "<div>\n",
       "<table border=\"1\" class=\"dataframe\">\n",
       "  <thead>\n",
       "    <tr style=\"text-align: right;\">\n",
       "      <th></th>\n",
       "      <th>puma</th>\n",
       "      <th>shape_area</th>\n",
       "      <th>shape_leng</th>\n",
       "      <th>geometry</th>\n",
       "      <th>Broadband</th>\n",
       "      <th>NAME_x</th>\n",
       "      <th>geoID</th>\n",
       "      <th>HH</th>\n",
       "      <th>pcBB</th>\n",
       "      <th>Percent</th>\n",
       "      <th>Margin of Error</th>\n",
       "      <th>diff</th>\n",
       "      <th>B00001_001E</th>\n",
       "      <th>NAME_y</th>\n",
       "      <th>state</th>\n",
       "      <th>Unnamed: 4</th>\n",
       "    </tr>\n",
       "  </thead>\n",
       "  <tbody>\n",
       "    <tr>\n",
       "      <th>0</th>\n",
       "      <td>3701</td>\n",
       "      <td>9.792852e+07</td>\n",
       "      <td>53227.144461</td>\n",
       "      <td>POLYGON ((-73.89641133483133 40.90450452082026...</td>\n",
       "      <td>35529</td>\n",
       "      <td>NYC-Bronx Community District 8--Riverdale, Fie...</td>\n",
       "      <td>3701</td>\n",
       "      <td>42158</td>\n",
       "      <td>84.275820</td>\n",
       "      <td>84.3</td>\n",
       "      <td>2.6</td>\n",
       "      <td>0.024180</td>\n",
       "      <td>1517</td>\n",
       "      <td>NYC-Bronx Community District 8--Riverdale, Fie...</td>\n",
       "      <td>36</td>\n",
       "      <td>NaN</td>\n",
       "    </tr>\n",
       "    <tr>\n",
       "      <th>1</th>\n",
       "      <td>3702</td>\n",
       "      <td>1.889860e+08</td>\n",
       "      <td>106050.002302</td>\n",
       "      <td>POLYGON ((-73.8442314689986 40.86942035096838,...</td>\n",
       "      <td>34030</td>\n",
       "      <td>NYC-Bronx Community District 12--Wakefield, Wi...</td>\n",
       "      <td>3702</td>\n",
       "      <td>49817</td>\n",
       "      <td>68.310015</td>\n",
       "      <td>68.3</td>\n",
       "      <td>3.7</td>\n",
       "      <td>0.010015</td>\n",
       "      <td>1959</td>\n",
       "      <td>NYC-Bronx Community District 12--Wakefield, Wi...</td>\n",
       "      <td>36</td>\n",
       "      <td>NaN</td>\n",
       "    </tr>\n",
       "    <tr>\n",
       "      <th>2</th>\n",
       "      <td>3703</td>\n",
       "      <td>2.670137e+08</td>\n",
       "      <td>304071.257466</td>\n",
       "      <td>(POLYGON ((-73.78833349834532 40.8346671297593...</td>\n",
       "      <td>36716</td>\n",
       "      <td>NYC-Bronx Community District 10--Co-op City, P...</td>\n",
       "      <td>3703</td>\n",
       "      <td>44329</td>\n",
       "      <td>82.826141</td>\n",
       "      <td>82.8</td>\n",
       "      <td>3.2</td>\n",
       "      <td>0.026141</td>\n",
       "      <td>1305</td>\n",
       "      <td>NYC-Bronx Community District 10--Co-op City, P...</td>\n",
       "      <td>36</td>\n",
       "      <td>NaN</td>\n",
       "    </tr>\n",
       "    <tr>\n",
       "      <th>3</th>\n",
       "      <td>3704</td>\n",
       "      <td>1.062129e+08</td>\n",
       "      <td>47970.901277</td>\n",
       "      <td>POLYGON ((-73.84792614069238 40.8713422330779,...</td>\n",
       "      <td>32269</td>\n",
       "      <td>NYC-Bronx Community District 11--Pelham Parkwa...</td>\n",
       "      <td>3704</td>\n",
       "      <td>44476</td>\n",
       "      <td>72.553737</td>\n",
       "      <td>72.6</td>\n",
       "      <td>3.6</td>\n",
       "      <td>0.046263</td>\n",
       "      <td>1882</td>\n",
       "      <td>NYC-Bronx Community District 11--Pelham Parkwa...</td>\n",
       "      <td>36</td>\n",
       "      <td>NaN</td>\n",
       "    </tr>\n",
       "    <tr>\n",
       "      <th>4</th>\n",
       "      <td>4015</td>\n",
       "      <td>8.105438e+07</td>\n",
       "      <td>50007.415493</td>\n",
       "      <td>POLYGON ((-73.95374853778468 40.63858633758547...</td>\n",
       "      <td>44079</td>\n",
       "      <td>NYC-Brooklyn Community District 14--Flatbush &amp;...</td>\n",
       "      <td>4015</td>\n",
       "      <td>55953</td>\n",
       "      <td>78.778618</td>\n",
       "      <td>78.8</td>\n",
       "      <td>2.9</td>\n",
       "      <td>0.021382</td>\n",
       "      <td>2515</td>\n",
       "      <td>NYC-Brooklyn Community District 14--Flatbush &amp;...</td>\n",
       "      <td>36</td>\n",
       "      <td>NaN</td>\n",
       "    </tr>\n",
       "  </tbody>\n",
       "</table>\n",
       "</div>"
      ],
      "text/plain": [
       "   puma    shape_area     shape_leng  \\\n",
       "0  3701  9.792852e+07   53227.144461   \n",
       "1  3702  1.889860e+08  106050.002302   \n",
       "2  3703  2.670137e+08  304071.257466   \n",
       "3  3704  1.062129e+08   47970.901277   \n",
       "4  4015  8.105438e+07   50007.415493   \n",
       "\n",
       "                                            geometry  Broadband  \\\n",
       "0  POLYGON ((-73.89641133483133 40.90450452082026...      35529   \n",
       "1  POLYGON ((-73.8442314689986 40.86942035096838,...      34030   \n",
       "2  (POLYGON ((-73.78833349834532 40.8346671297593...      36716   \n",
       "3  POLYGON ((-73.84792614069238 40.8713422330779,...      32269   \n",
       "4  POLYGON ((-73.95374853778468 40.63858633758547...      44079   \n",
       "\n",
       "                                              NAME_x  geoID     HH       pcBB  \\\n",
       "0  NYC-Bronx Community District 8--Riverdale, Fie...   3701  42158  84.275820   \n",
       "1  NYC-Bronx Community District 12--Wakefield, Wi...   3702  49817  68.310015   \n",
       "2  NYC-Bronx Community District 10--Co-op City, P...   3703  44329  82.826141   \n",
       "3  NYC-Bronx Community District 11--Pelham Parkwa...   3704  44476  72.553737   \n",
       "4  NYC-Brooklyn Community District 14--Flatbush &...   4015  55953  78.778618   \n",
       "\n",
       "  Percent Margin of Error      diff  B00001_001E  \\\n",
       "0    84.3             2.6  0.024180         1517   \n",
       "1    68.3             3.7  0.010015         1959   \n",
       "2    82.8             3.2  0.026141         1305   \n",
       "3    72.6             3.6  0.046263         1882   \n",
       "4    78.8             2.9  0.021382         2515   \n",
       "\n",
       "                                              NAME_y  state  Unnamed: 4  \n",
       "0  NYC-Bronx Community District 8--Riverdale, Fie...     36         NaN  \n",
       "1  NYC-Bronx Community District 12--Wakefield, Wi...     36         NaN  \n",
       "2  NYC-Bronx Community District 10--Co-op City, P...     36         NaN  \n",
       "3  NYC-Bronx Community District 11--Pelham Parkwa...     36         NaN  \n",
       "4  NYC-Brooklyn Community District 14--Flatbush &...     36         NaN  "
      ]
     },
     "execution_count": 274,
     "metadata": {},
     "output_type": "execute_result"
    }
   ],
   "source": [
    "PopandShape.head()"
   ]
  },
  {
   "cell_type": "code",
   "execution_count": null,
   "metadata": {},
   "outputs": [],
   "source": [
    "# now we need to add the linkNYC data"
   ]
  },
  {
   "cell_type": "code",
   "execution_count": 74,
   "metadata": {},
   "outputs": [
    {
     "data": {
      "text/plain": [
       "{'init': 'epsg:4326', 'no_defs': True}"
      ]
     },
     "execution_count": 74,
     "metadata": {},
     "output_type": "execute_result"
    }
   ],
   "source": [
    "linkNYC.crs = from_epsg(4326)\n",
    "PopandShape.crs"
   ]
  },
  {
   "cell_type": "code",
   "execution_count": 246,
   "metadata": {},
   "outputs": [],
   "source": [
    "linkNYC_ft = linkNYC.to_crs(epsg=2263)\n",
    "PopandShape_ft = PopandShape.to_crs(epsg=2263)"
   ]
  },
  {
   "cell_type": "code",
   "execution_count": 259,
   "metadata": {},
   "outputs": [],
   "source": [
    "Joined = sjoin(linkNYC_ft, PopandShape_ft)"
   ]
  },
  {
   "cell_type": "code",
   "execution_count": 252,
   "metadata": {
    "scrolled": true
   },
   "outputs": [
    {
     "data": {
      "text/html": [
       "<div>\n",
       "<table border=\"1\" class=\"dataframe\">\n",
       "  <thead>\n",
       "    <tr style=\"text-align: right;\">\n",
       "      <th></th>\n",
       "      <th>link_site</th>\n",
       "      <th>longitude</th>\n",
       "      <th>date_link_</th>\n",
       "      <th>latitude</th>\n",
       "      <th>lonlat</th>\n",
       "      <th>geometry</th>\n",
       "      <th>index_right</th>\n",
       "      <th>puma</th>\n",
       "      <th>shape_area</th>\n",
       "      <th>shape_leng</th>\n",
       "      <th>...</th>\n",
       "      <th>geoID</th>\n",
       "      <th>HH</th>\n",
       "      <th>pcBB</th>\n",
       "      <th>Percent</th>\n",
       "      <th>Margin of Error</th>\n",
       "      <th>diff</th>\n",
       "      <th>B00001_001E</th>\n",
       "      <th>NAME_y</th>\n",
       "      <th>state</th>\n",
       "      <th>Unnamed: 4</th>\n",
       "    </tr>\n",
       "  </thead>\n",
       "  <tbody>\n",
       "    <tr>\n",
       "      <th>0</th>\n",
       "      <td>bk-01-138951</td>\n",
       "      <td>-73.942489</td>\n",
       "      <td>2017-07-01</td>\n",
       "      <td>40.701668</td>\n",
       "      <td>(-73.94248859, 40.70166753)</td>\n",
       "      <td>POINT (1000196.411360609 194918.1045344363)</td>\n",
       "      <td>29</td>\n",
       "      <td>4001</td>\n",
       "      <td>1.149292e+08</td>\n",
       "      <td>74076.375782</td>\n",
       "      <td>...</td>\n",
       "      <td>4001</td>\n",
       "      <td>66037</td>\n",
       "      <td>70.631616</td>\n",
       "      <td>70.6</td>\n",
       "      <td>2.8</td>\n",
       "      <td>0.031616</td>\n",
       "      <td>2428</td>\n",
       "      <td>NYC-Brooklyn Community District 1--Greenpoint ...</td>\n",
       "      <td>36</td>\n",
       "      <td>NaN</td>\n",
       "    </tr>\n",
       "    <tr>\n",
       "      <th>1</th>\n",
       "      <td>bk-01-109091</td>\n",
       "      <td>-73.942169</td>\n",
       "      <td>2017-07-01</td>\n",
       "      <td>40.701542</td>\n",
       "      <td>(-73.9421692831, 40.7015421938)</td>\n",
       "      <td>POINT (1000284.976955119 194872.4991186759)</td>\n",
       "      <td>29</td>\n",
       "      <td>4001</td>\n",
       "      <td>1.149292e+08</td>\n",
       "      <td>74076.375782</td>\n",
       "      <td>...</td>\n",
       "      <td>4001</td>\n",
       "      <td>66037</td>\n",
       "      <td>70.631616</td>\n",
       "      <td>70.6</td>\n",
       "      <td>2.8</td>\n",
       "      <td>0.031616</td>\n",
       "      <td>2428</td>\n",
       "      <td>NYC-Brooklyn Community District 1--Greenpoint ...</td>\n",
       "      <td>36</td>\n",
       "      <td>NaN</td>\n",
       "    </tr>\n",
       "    <tr>\n",
       "      <th>2</th>\n",
       "      <td>bk-01-143982</td>\n",
       "      <td>-73.942239</td>\n",
       "      <td>2017-07-01</td>\n",
       "      <td>40.701930</td>\n",
       "      <td>(-73.9422392385, 40.7019303439)</td>\n",
       "      <td>POINT (1000265.48686938 195013.900946364)</td>\n",
       "      <td>29</td>\n",
       "      <td>4001</td>\n",
       "      <td>1.149292e+08</td>\n",
       "      <td>74076.375782</td>\n",
       "      <td>...</td>\n",
       "      <td>4001</td>\n",
       "      <td>66037</td>\n",
       "      <td>70.631616</td>\n",
       "      <td>70.6</td>\n",
       "      <td>2.8</td>\n",
       "      <td>0.031616</td>\n",
       "      <td>2428</td>\n",
       "      <td>NYC-Brooklyn Community District 1--Greenpoint ...</td>\n",
       "      <td>36</td>\n",
       "      <td>NaN</td>\n",
       "    </tr>\n",
       "    <tr>\n",
       "      <th>3</th>\n",
       "      <td>bk-01-109262</td>\n",
       "      <td>-73.942918</td>\n",
       "      <td>2017-04-28</td>\n",
       "      <td>40.705060</td>\n",
       "      <td>(-73.94291758, 40.70506042)</td>\n",
       "      <td>POINT (1000076.658138533 196154.157733508)</td>\n",
       "      <td>29</td>\n",
       "      <td>4001</td>\n",
       "      <td>1.149292e+08</td>\n",
       "      <td>74076.375782</td>\n",
       "      <td>...</td>\n",
       "      <td>4001</td>\n",
       "      <td>66037</td>\n",
       "      <td>70.631616</td>\n",
       "      <td>70.6</td>\n",
       "      <td>2.8</td>\n",
       "      <td>0.031616</td>\n",
       "      <td>2428</td>\n",
       "      <td>NYC-Brooklyn Community District 1--Greenpoint ...</td>\n",
       "      <td>36</td>\n",
       "      <td>NaN</td>\n",
       "    </tr>\n",
       "    <tr>\n",
       "      <th>4</th>\n",
       "      <td>bk-01-125268</td>\n",
       "      <td>-73.953439</td>\n",
       "      <td>2017-03-31</td>\n",
       "      <td>40.728133</td>\n",
       "      <td>(-73.953439, 40.728133)</td>\n",
       "      <td>POINT (997155.0239397929 204558.4761382252)</td>\n",
       "      <td>29</td>\n",
       "      <td>4001</td>\n",
       "      <td>1.149292e+08</td>\n",
       "      <td>74076.375782</td>\n",
       "      <td>...</td>\n",
       "      <td>4001</td>\n",
       "      <td>66037</td>\n",
       "      <td>70.631616</td>\n",
       "      <td>70.6</td>\n",
       "      <td>2.8</td>\n",
       "      <td>0.031616</td>\n",
       "      <td>2428</td>\n",
       "      <td>NYC-Brooklyn Community District 1--Greenpoint ...</td>\n",
       "      <td>36</td>\n",
       "      <td>NaN</td>\n",
       "    </tr>\n",
       "  </tbody>\n",
       "</table>\n",
       "<p>5 rows × 22 columns</p>\n",
       "</div>"
      ],
      "text/plain": [
       "      link_site  longitude  date_link_   latitude  \\\n",
       "0  bk-01-138951 -73.942489  2017-07-01  40.701668   \n",
       "1  bk-01-109091 -73.942169  2017-07-01  40.701542   \n",
       "2  bk-01-143982 -73.942239  2017-07-01  40.701930   \n",
       "3  bk-01-109262 -73.942918  2017-04-28  40.705060   \n",
       "4  bk-01-125268 -73.953439  2017-03-31  40.728133   \n",
       "\n",
       "                            lonlat  \\\n",
       "0      (-73.94248859, 40.70166753)   \n",
       "1  (-73.9421692831, 40.7015421938)   \n",
       "2  (-73.9422392385, 40.7019303439)   \n",
       "3      (-73.94291758, 40.70506042)   \n",
       "4          (-73.953439, 40.728133)   \n",
       "\n",
       "                                      geometry  index_right  puma  \\\n",
       "0  POINT (1000196.411360609 194918.1045344363)           29  4001   \n",
       "1  POINT (1000284.976955119 194872.4991186759)           29  4001   \n",
       "2    POINT (1000265.48686938 195013.900946364)           29  4001   \n",
       "3   POINT (1000076.658138533 196154.157733508)           29  4001   \n",
       "4  POINT (997155.0239397929 204558.4761382252)           29  4001   \n",
       "\n",
       "     shape_area    shape_leng    ...      geoID     HH       pcBB  Percent  \\\n",
       "0  1.149292e+08  74076.375782    ...       4001  66037  70.631616     70.6   \n",
       "1  1.149292e+08  74076.375782    ...       4001  66037  70.631616     70.6   \n",
       "2  1.149292e+08  74076.375782    ...       4001  66037  70.631616     70.6   \n",
       "3  1.149292e+08  74076.375782    ...       4001  66037  70.631616     70.6   \n",
       "4  1.149292e+08  74076.375782    ...       4001  66037  70.631616     70.6   \n",
       "\n",
       "   Margin of Error      diff B00001_001E  \\\n",
       "0              2.8  0.031616        2428   \n",
       "1              2.8  0.031616        2428   \n",
       "2              2.8  0.031616        2428   \n",
       "3              2.8  0.031616        2428   \n",
       "4              2.8  0.031616        2428   \n",
       "\n",
       "                                              NAME_y  state Unnamed: 4  \n",
       "0  NYC-Brooklyn Community District 1--Greenpoint ...     36        NaN  \n",
       "1  NYC-Brooklyn Community District 1--Greenpoint ...     36        NaN  \n",
       "2  NYC-Brooklyn Community District 1--Greenpoint ...     36        NaN  \n",
       "3  NYC-Brooklyn Community District 1--Greenpoint ...     36        NaN  \n",
       "4  NYC-Brooklyn Community District 1--Greenpoint ...     36        NaN  \n",
       "\n",
       "[5 rows x 22 columns]"
      ]
     },
     "execution_count": 252,
     "metadata": {},
     "output_type": "execute_result"
    }
   ],
   "source": [
    "Joined.head()"
   ]
  },
  {
   "cell_type": "code",
   "execution_count": 275,
   "metadata": {},
   "outputs": [],
   "source": [
    "#Now we have the count of link_sites and the population columns\n",
    "#make a new column for the number of sites per 100 people\n",
    "# first we divide pop in each puma by 100\n",
    "PopandShape[\"onehundredp\"] = PopandShape.B00001_001E / 100\n",
    "# second we divide number of stations per 100 people\n",
    "PopandShape[\"linkNYCp100p\"] = PopandShape.onehundredp / PopShape.link_site"
   ]
  },
  {
   "cell_type": "code",
   "execution_count": 277,
   "metadata": {},
   "outputs": [
    {
     "data": {
      "text/html": [
       "<div>\n",
       "<table border=\"1\" class=\"dataframe\">\n",
       "  <thead>\n",
       "    <tr style=\"text-align: right;\">\n",
       "      <th></th>\n",
       "      <th>puma</th>\n",
       "      <th>shape_area</th>\n",
       "      <th>shape_leng</th>\n",
       "      <th>geometry</th>\n",
       "      <th>Broadband</th>\n",
       "      <th>NAME_x</th>\n",
       "      <th>geoID</th>\n",
       "      <th>HH</th>\n",
       "      <th>pcBB</th>\n",
       "      <th>Percent</th>\n",
       "      <th>Margin of Error</th>\n",
       "      <th>diff</th>\n",
       "      <th>B00001_001E</th>\n",
       "      <th>NAME_y</th>\n",
       "      <th>state</th>\n",
       "      <th>Unnamed: 4</th>\n",
       "      <th>onehundredp</th>\n",
       "      <th>linkNYCp100p</th>\n",
       "    </tr>\n",
       "  </thead>\n",
       "  <tbody>\n",
       "    <tr>\n",
       "      <th>0</th>\n",
       "      <td>3701</td>\n",
       "      <td>9.792852e+07</td>\n",
       "      <td>53227.144461</td>\n",
       "      <td>POLYGON ((-73.89641133483133 40.90450452082026...</td>\n",
       "      <td>35529</td>\n",
       "      <td>NYC-Bronx Community District 8--Riverdale, Fie...</td>\n",
       "      <td>3701</td>\n",
       "      <td>42158</td>\n",
       "      <td>84.275820</td>\n",
       "      <td>84.3</td>\n",
       "      <td>2.6</td>\n",
       "      <td>0.024180</td>\n",
       "      <td>1517</td>\n",
       "      <td>NYC-Bronx Community District 8--Riverdale, Fie...</td>\n",
       "      <td>36</td>\n",
       "      <td>NaN</td>\n",
       "      <td>15.17</td>\n",
       "      <td>15.170000</td>\n",
       "    </tr>\n",
       "    <tr>\n",
       "      <th>1</th>\n",
       "      <td>3702</td>\n",
       "      <td>1.889860e+08</td>\n",
       "      <td>106050.002302</td>\n",
       "      <td>POLYGON ((-73.8442314689986 40.86942035096838,...</td>\n",
       "      <td>34030</td>\n",
       "      <td>NYC-Bronx Community District 12--Wakefield, Wi...</td>\n",
       "      <td>3702</td>\n",
       "      <td>49817</td>\n",
       "      <td>68.310015</td>\n",
       "      <td>68.3</td>\n",
       "      <td>3.7</td>\n",
       "      <td>0.010015</td>\n",
       "      <td>1959</td>\n",
       "      <td>NYC-Bronx Community District 12--Wakefield, Wi...</td>\n",
       "      <td>36</td>\n",
       "      <td>NaN</td>\n",
       "      <td>19.59</td>\n",
       "      <td>6.530000</td>\n",
       "    </tr>\n",
       "    <tr>\n",
       "      <th>2</th>\n",
       "      <td>3703</td>\n",
       "      <td>2.670137e+08</td>\n",
       "      <td>304071.257466</td>\n",
       "      <td>(POLYGON ((-73.78833349834532 40.8346671297593...</td>\n",
       "      <td>36716</td>\n",
       "      <td>NYC-Bronx Community District 10--Co-op City, P...</td>\n",
       "      <td>3703</td>\n",
       "      <td>44329</td>\n",
       "      <td>82.826141</td>\n",
       "      <td>82.8</td>\n",
       "      <td>3.2</td>\n",
       "      <td>0.026141</td>\n",
       "      <td>1305</td>\n",
       "      <td>NYC-Bronx Community District 10--Co-op City, P...</td>\n",
       "      <td>36</td>\n",
       "      <td>NaN</td>\n",
       "      <td>13.05</td>\n",
       "      <td>13.050000</td>\n",
       "    </tr>\n",
       "    <tr>\n",
       "      <th>3</th>\n",
       "      <td>3704</td>\n",
       "      <td>1.062129e+08</td>\n",
       "      <td>47970.901277</td>\n",
       "      <td>POLYGON ((-73.84792614069238 40.8713422330779,...</td>\n",
       "      <td>32269</td>\n",
       "      <td>NYC-Bronx Community District 11--Pelham Parkwa...</td>\n",
       "      <td>3704</td>\n",
       "      <td>44476</td>\n",
       "      <td>72.553737</td>\n",
       "      <td>72.6</td>\n",
       "      <td>3.6</td>\n",
       "      <td>0.046263</td>\n",
       "      <td>1882</td>\n",
       "      <td>NYC-Bronx Community District 11--Pelham Parkwa...</td>\n",
       "      <td>36</td>\n",
       "      <td>NaN</td>\n",
       "      <td>18.82</td>\n",
       "      <td>0.941000</td>\n",
       "    </tr>\n",
       "    <tr>\n",
       "      <th>4</th>\n",
       "      <td>4015</td>\n",
       "      <td>8.105438e+07</td>\n",
       "      <td>50007.415493</td>\n",
       "      <td>POLYGON ((-73.95374853778468 40.63858633758547...</td>\n",
       "      <td>44079</td>\n",
       "      <td>NYC-Brooklyn Community District 14--Flatbush &amp;...</td>\n",
       "      <td>4015</td>\n",
       "      <td>55953</td>\n",
       "      <td>78.778618</td>\n",
       "      <td>78.8</td>\n",
       "      <td>2.9</td>\n",
       "      <td>0.021382</td>\n",
       "      <td>2515</td>\n",
       "      <td>NYC-Brooklyn Community District 14--Flatbush &amp;...</td>\n",
       "      <td>36</td>\n",
       "      <td>NaN</td>\n",
       "      <td>25.15</td>\n",
       "      <td>0.867241</td>\n",
       "    </tr>\n",
       "  </tbody>\n",
       "</table>\n",
       "</div>"
      ],
      "text/plain": [
       "   puma    shape_area     shape_leng  \\\n",
       "0  3701  9.792852e+07   53227.144461   \n",
       "1  3702  1.889860e+08  106050.002302   \n",
       "2  3703  2.670137e+08  304071.257466   \n",
       "3  3704  1.062129e+08   47970.901277   \n",
       "4  4015  8.105438e+07   50007.415493   \n",
       "\n",
       "                                            geometry  Broadband  \\\n",
       "0  POLYGON ((-73.89641133483133 40.90450452082026...      35529   \n",
       "1  POLYGON ((-73.8442314689986 40.86942035096838,...      34030   \n",
       "2  (POLYGON ((-73.78833349834532 40.8346671297593...      36716   \n",
       "3  POLYGON ((-73.84792614069238 40.8713422330779,...      32269   \n",
       "4  POLYGON ((-73.95374853778468 40.63858633758547...      44079   \n",
       "\n",
       "                                              NAME_x  geoID     HH       pcBB  \\\n",
       "0  NYC-Bronx Community District 8--Riverdale, Fie...   3701  42158  84.275820   \n",
       "1  NYC-Bronx Community District 12--Wakefield, Wi...   3702  49817  68.310015   \n",
       "2  NYC-Bronx Community District 10--Co-op City, P...   3703  44329  82.826141   \n",
       "3  NYC-Bronx Community District 11--Pelham Parkwa...   3704  44476  72.553737   \n",
       "4  NYC-Brooklyn Community District 14--Flatbush &...   4015  55953  78.778618   \n",
       "\n",
       "  Percent Margin of Error      diff  B00001_001E  \\\n",
       "0    84.3             2.6  0.024180         1517   \n",
       "1    68.3             3.7  0.010015         1959   \n",
       "2    82.8             3.2  0.026141         1305   \n",
       "3    72.6             3.6  0.046263         1882   \n",
       "4    78.8             2.9  0.021382         2515   \n",
       "\n",
       "                                              NAME_y  state  Unnamed: 4  \\\n",
       "0  NYC-Bronx Community District 8--Riverdale, Fie...     36         NaN   \n",
       "1  NYC-Bronx Community District 12--Wakefield, Wi...     36         NaN   \n",
       "2  NYC-Bronx Community District 10--Co-op City, P...     36         NaN   \n",
       "3  NYC-Bronx Community District 11--Pelham Parkwa...     36         NaN   \n",
       "4  NYC-Brooklyn Community District 14--Flatbush &...     36         NaN   \n",
       "\n",
       "   onehundredp  linkNYCp100p  \n",
       "0        15.17     15.170000  \n",
       "1        19.59      6.530000  \n",
       "2        13.05     13.050000  \n",
       "3        18.82      0.941000  \n",
       "4        25.15      0.867241  "
      ]
     },
     "execution_count": 277,
     "metadata": {},
     "output_type": "execute_result"
    }
   ],
   "source": [
    "PopandShape.head()"
   ]
  },
  {
   "cell_type": "code",
   "execution_count": null,
   "metadata": {},
   "outputs": [],
   "source": []
  },
  {
   "cell_type": "code",
   "execution_count": null,
   "metadata": {},
   "outputs": [],
   "source": []
  },
  {
   "cell_type": "code",
   "execution_count": null,
   "metadata": {},
   "outputs": [],
   "source": []
  },
  {
   "cell_type": "code",
   "execution_count": null,
   "metadata": {},
   "outputs": [],
   "source": []
  },
  {
   "cell_type": "code",
   "execution_count": null,
   "metadata": {},
   "outputs": [],
   "source": []
  },
  {
   "cell_type": "code",
   "execution_count": null,
   "metadata": {},
   "outputs": [],
   "source": []
  },
  {
   "cell_type": "code",
   "execution_count": 238,
   "metadata": {},
   "outputs": [
    {
     "data": {
      "text/html": [
       "<div>\n",
       "<table border=\"1\" class=\"dataframe\">\n",
       "  <thead>\n",
       "    <tr style=\"text-align: right;\">\n",
       "      <th></th>\n",
       "      <th>B00001_001E</th>\n",
       "      <th>NAME</th>\n",
       "      <th>state</th>\n",
       "      <th>puma1</th>\n",
       "      <th>Unnamed: 4</th>\n",
       "    </tr>\n",
       "  </thead>\n",
       "  <tbody>\n",
       "    <tr>\n",
       "      <th>0</th>\n",
       "      <td>3075</td>\n",
       "      <td>St. Lawrence County PUMA, New York</td>\n",
       "      <td>36</td>\n",
       "      <td>100</td>\n",
       "      <td>NaN</td>\n",
       "    </tr>\n",
       "    <tr>\n",
       "      <th>1</th>\n",
       "      <td>4356</td>\n",
       "      <td>Clinton, Franklin, Essex &amp; Hamilton Counties P...</td>\n",
       "      <td>36</td>\n",
       "      <td>200</td>\n",
       "      <td>NaN</td>\n",
       "    </tr>\n",
       "    <tr>\n",
       "      <th>2</th>\n",
       "      <td>2736</td>\n",
       "      <td>Warren &amp; Washington Counties PUMA, New York</td>\n",
       "      <td>36</td>\n",
       "      <td>300</td>\n",
       "      <td>NaN</td>\n",
       "    </tr>\n",
       "    <tr>\n",
       "      <th>3</th>\n",
       "      <td>2722</td>\n",
       "      <td>Herkimer (North &amp; Central) &amp; Oneida (Outer) Co...</td>\n",
       "      <td>36</td>\n",
       "      <td>401</td>\n",
       "      <td>NaN</td>\n",
       "    </tr>\n",
       "    <tr>\n",
       "      <th>4</th>\n",
       "      <td>2874</td>\n",
       "      <td>Oneida County (Central)--Greater Utica &amp; Rome ...</td>\n",
       "      <td>36</td>\n",
       "      <td>402</td>\n",
       "      <td>NaN</td>\n",
       "    </tr>\n",
       "  </tbody>\n",
       "</table>\n",
       "</div>"
      ],
      "text/plain": [
       "   B00001_001E                                               NAME  state  \\\n",
       "0         3075                 St. Lawrence County PUMA, New York     36   \n",
       "1         4356  Clinton, Franklin, Essex & Hamilton Counties P...     36   \n",
       "2         2736        Warren & Washington Counties PUMA, New York     36   \n",
       "3         2722  Herkimer (North & Central) & Oneida (Outer) Co...     36   \n",
       "4         2874  Oneida County (Central)--Greater Utica & Rome ...     36   \n",
       "\n",
       "   puma1  Unnamed: 4  \n",
       "0    100         NaN  \n",
       "1    200         NaN  \n",
       "2    300         NaN  \n",
       "3    401         NaN  \n",
       "4    402         NaN  "
      ]
     },
     "execution_count": 238,
     "metadata": {},
     "output_type": "execute_result"
    }
   ],
   "source": [
    "pumatp.head()"
   ]
  },
  {
   "cell_type": "markdown",
   "metadata": {},
   "source": [
    "5.2 find the number of station per 100 people per PUMA"
   ]
  },
  {
   "cell_type": "code",
   "execution_count": 261,
   "metadata": {},
   "outputs": [],
   "source": [
    "Joined.drop(['longitude', 'date_link_', 'latitude', 'lonlat',\n",
    "       'geometry', 'index_right', 'shape_area', 'shape_leng',\n",
    "       'Broadband', 'NAME_x', 'geoID', 'HH', 'pcBB', 'Percent',\n",
    "       'Margin of Error', 'diff', 'NAME_y', 'B00001_001E','state',\n",
    "       'Unnamed: 4'],axis=1, inplace=True)"
   ]
  },
  {
   "cell_type": "code",
   "execution_count": 262,
   "metadata": {},
   "outputs": [
    {
     "data": {
      "text/plain": [
       "Index(['link_site', 'puma'], dtype='object')"
      ]
     },
     "execution_count": 262,
     "metadata": {},
     "output_type": "execute_result"
    }
   ],
   "source": [
    "Joined.columns"
   ]
  },
  {
   "cell_type": "markdown",
   "metadata": {},
   "source": [
    "count the number of linkNYC in each PUMA"
   ]
  },
  {
   "cell_type": "code",
   "execution_count": 263,
   "metadata": {},
   "outputs": [],
   "source": [
    "linkpp = Joined.groupby('puma').count()"
   ]
  },
  {
   "cell_type": "code",
   "execution_count": 265,
   "metadata": {},
   "outputs": [],
   "source": [
    "linkpp.reset_index(level=0, inplace=True)"
   ]
  },
  {
   "cell_type": "code",
   "execution_count": 278,
   "metadata": {},
   "outputs": [
    {
     "data": {
      "text/html": [
       "<div>\n",
       "<table border=\"1\" class=\"dataframe\">\n",
       "  <thead>\n",
       "    <tr style=\"text-align: right;\">\n",
       "      <th></th>\n",
       "      <th>puma</th>\n",
       "      <th>link_site</th>\n",
       "    </tr>\n",
       "  </thead>\n",
       "  <tbody>\n",
       "    <tr>\n",
       "      <th>0</th>\n",
       "      <td>3701</td>\n",
       "      <td>1</td>\n",
       "    </tr>\n",
       "    <tr>\n",
       "      <th>1</th>\n",
       "      <td>3705</td>\n",
       "      <td>1</td>\n",
       "    </tr>\n",
       "    <tr>\n",
       "      <th>2</th>\n",
       "      <td>3706</td>\n",
       "      <td>20</td>\n",
       "    </tr>\n",
       "    <tr>\n",
       "      <th>3</th>\n",
       "      <td>3707</td>\n",
       "      <td>29</td>\n",
       "    </tr>\n",
       "    <tr>\n",
       "      <th>4</th>\n",
       "      <td>3708</td>\n",
       "      <td>19</td>\n",
       "    </tr>\n",
       "  </tbody>\n",
       "</table>\n",
       "</div>"
      ],
      "text/plain": [
       "   puma  link_site\n",
       "0  3701          1\n",
       "1  3705          1\n",
       "2  3706         20\n",
       "3  3707         29\n",
       "4  3708         19"
      ]
     },
     "execution_count": 278,
     "metadata": {},
     "output_type": "execute_result"
    }
   ],
   "source": [
    "linkpp.head() "
   ]
  },
  {
   "cell_type": "code",
   "execution_count": 269,
   "metadata": {},
   "outputs": [
    {
     "data": {
      "text/html": [
       "<div>\n",
       "<table border=\"1\" class=\"dataframe\">\n",
       "  <thead>\n",
       "    <tr style=\"text-align: right;\">\n",
       "      <th></th>\n",
       "      <th>puma</th>\n",
       "      <th>shape_area</th>\n",
       "      <th>shape_leng</th>\n",
       "      <th>geometry</th>\n",
       "      <th>Broadband</th>\n",
       "      <th>NAME</th>\n",
       "      <th>geoID</th>\n",
       "      <th>HH</th>\n",
       "      <th>pcBB</th>\n",
       "      <th>Percent</th>\n",
       "      <th>Margin of Error</th>\n",
       "      <th>diff</th>\n",
       "    </tr>\n",
       "  </thead>\n",
       "  <tbody>\n",
       "    <tr>\n",
       "      <th>0</th>\n",
       "      <td>3701</td>\n",
       "      <td>9.792852e+07</td>\n",
       "      <td>53227.144461</td>\n",
       "      <td>POLYGON ((-73.89641133483133 40.90450452082026...</td>\n",
       "      <td>35529</td>\n",
       "      <td>NYC-Bronx Community District 8--Riverdale, Fie...</td>\n",
       "      <td>3701</td>\n",
       "      <td>42158</td>\n",
       "      <td>84.275820</td>\n",
       "      <td>84.3</td>\n",
       "      <td>2.6</td>\n",
       "      <td>0.024180</td>\n",
       "    </tr>\n",
       "    <tr>\n",
       "      <th>1</th>\n",
       "      <td>3702</td>\n",
       "      <td>1.889860e+08</td>\n",
       "      <td>106050.002302</td>\n",
       "      <td>POLYGON ((-73.8442314689986 40.86942035096838,...</td>\n",
       "      <td>34030</td>\n",
       "      <td>NYC-Bronx Community District 12--Wakefield, Wi...</td>\n",
       "      <td>3702</td>\n",
       "      <td>49817</td>\n",
       "      <td>68.310015</td>\n",
       "      <td>68.3</td>\n",
       "      <td>3.7</td>\n",
       "      <td>0.010015</td>\n",
       "    </tr>\n",
       "    <tr>\n",
       "      <th>2</th>\n",
       "      <td>3703</td>\n",
       "      <td>2.670137e+08</td>\n",
       "      <td>304071.257466</td>\n",
       "      <td>(POLYGON ((-73.78833349834532 40.8346671297593...</td>\n",
       "      <td>36716</td>\n",
       "      <td>NYC-Bronx Community District 10--Co-op City, P...</td>\n",
       "      <td>3703</td>\n",
       "      <td>44329</td>\n",
       "      <td>82.826141</td>\n",
       "      <td>82.8</td>\n",
       "      <td>3.2</td>\n",
       "      <td>0.026141</td>\n",
       "    </tr>\n",
       "    <tr>\n",
       "      <th>3</th>\n",
       "      <td>3704</td>\n",
       "      <td>1.062129e+08</td>\n",
       "      <td>47970.901277</td>\n",
       "      <td>POLYGON ((-73.84792614069238 40.8713422330779,...</td>\n",
       "      <td>32269</td>\n",
       "      <td>NYC-Bronx Community District 11--Pelham Parkwa...</td>\n",
       "      <td>3704</td>\n",
       "      <td>44476</td>\n",
       "      <td>72.553737</td>\n",
       "      <td>72.6</td>\n",
       "      <td>3.6</td>\n",
       "      <td>0.046263</td>\n",
       "    </tr>\n",
       "    <tr>\n",
       "      <th>4</th>\n",
       "      <td>4015</td>\n",
       "      <td>8.105438e+07</td>\n",
       "      <td>50007.415493</td>\n",
       "      <td>POLYGON ((-73.95374853778468 40.63858633758547...</td>\n",
       "      <td>44079</td>\n",
       "      <td>NYC-Brooklyn Community District 14--Flatbush &amp;...</td>\n",
       "      <td>4015</td>\n",
       "      <td>55953</td>\n",
       "      <td>78.778618</td>\n",
       "      <td>78.8</td>\n",
       "      <td>2.9</td>\n",
       "      <td>0.021382</td>\n",
       "    </tr>\n",
       "  </tbody>\n",
       "</table>\n",
       "</div>"
      ],
      "text/plain": [
       "   puma    shape_area     shape_leng  \\\n",
       "0  3701  9.792852e+07   53227.144461   \n",
       "1  3702  1.889860e+08  106050.002302   \n",
       "2  3703  2.670137e+08  304071.257466   \n",
       "3  3704  1.062129e+08   47970.901277   \n",
       "4  4015  8.105438e+07   50007.415493   \n",
       "\n",
       "                                            geometry  Broadband  \\\n",
       "0  POLYGON ((-73.89641133483133 40.90450452082026...      35529   \n",
       "1  POLYGON ((-73.8442314689986 40.86942035096838,...      34030   \n",
       "2  (POLYGON ((-73.78833349834532 40.8346671297593...      36716   \n",
       "3  POLYGON ((-73.84792614069238 40.8713422330779,...      32269   \n",
       "4  POLYGON ((-73.95374853778468 40.63858633758547...      44079   \n",
       "\n",
       "                                                NAME  geoID     HH       pcBB  \\\n",
       "0  NYC-Bronx Community District 8--Riverdale, Fie...   3701  42158  84.275820   \n",
       "1  NYC-Bronx Community District 12--Wakefield, Wi...   3702  49817  68.310015   \n",
       "2  NYC-Bronx Community District 10--Co-op City, P...   3703  44329  82.826141   \n",
       "3  NYC-Bronx Community District 11--Pelham Parkwa...   3704  44476  72.553737   \n",
       "4  NYC-Brooklyn Community District 14--Flatbush &...   4015  55953  78.778618   \n",
       "\n",
       "  Percent Margin of Error      diff  \n",
       "0    84.3             2.6  0.024180  \n",
       "1    68.3             3.7  0.010015  \n",
       "2    82.8             3.2  0.026141  \n",
       "3    72.6             3.6  0.046263  \n",
       "4    78.8             2.9  0.021382  "
      ]
     },
     "execution_count": 269,
     "metadata": {},
     "output_type": "execute_result"
    }
   ],
   "source": [
    "ShapeData.head()"
   ]
  },
  {
   "cell_type": "code",
   "execution_count": null,
   "metadata": {},
   "outputs": [],
   "source": [
    "# merge this with the ShapeData"
   ]
  },
  {
   "cell_type": "code",
   "execution_count": 268,
   "metadata": {},
   "outputs": [],
   "source": [
    "linkpp['puma'] = linkpp['puma'].astype(int)"
   ]
  },
  {
   "cell_type": "code",
   "execution_count": null,
   "metadata": {},
   "outputs": [],
   "source": [
    "NYCLinkandShape = ShapeData.merge(linkpp, on=\"puma\")"
   ]
  },
  {
   "cell_type": "code",
   "execution_count": null,
   "metadata": {},
   "outputs": [],
   "source": []
  },
  {
   "cell_type": "code",
   "execution_count": 273,
   "metadata": {},
   "outputs": [
    {
     "name": "stderr",
     "output_type": "stream",
     "text": [
      "/usr/local/Anaconda3-5.0.0-Linux-x86_64/envs/PUI2016_Python3/lib/python3.5/site-packages/numpy/lib/function_base.py:3403: RuntimeWarning: Invalid value encountered in median\n",
      "  RuntimeWarning)\n"
     ]
    },
    {
     "data": {
      "text/html": [
       "<div>\n",
       "<table border=\"1\" class=\"dataframe\">\n",
       "  <thead>\n",
       "    <tr style=\"text-align: right;\">\n",
       "      <th></th>\n",
       "      <th>puma</th>\n",
       "      <th>shape_area</th>\n",
       "      <th>shape_leng</th>\n",
       "      <th>Broadband</th>\n",
       "      <th>geoID</th>\n",
       "      <th>HH</th>\n",
       "      <th>pcBB</th>\n",
       "      <th>diff</th>\n",
       "      <th>link_site</th>\n",
       "      <th>B00001_001E</th>\n",
       "      <th>state</th>\n",
       "      <th>Unnamed: 4</th>\n",
       "      <th>onehundredp</th>\n",
       "      <th>linkNYCp100p</th>\n",
       "    </tr>\n",
       "  </thead>\n",
       "  <tbody>\n",
       "    <tr>\n",
       "      <th>count</th>\n",
       "      <td>37.000000</td>\n",
       "      <td>3.700000e+01</td>\n",
       "      <td>37.000000</td>\n",
       "      <td>37.000000</td>\n",
       "      <td>37.000000</td>\n",
       "      <td>37.000000</td>\n",
       "      <td>37.000000</td>\n",
       "      <td>37.000000</td>\n",
       "      <td>37.000000</td>\n",
       "      <td>37.000000</td>\n",
       "      <td>37.0</td>\n",
       "      <td>0.0</td>\n",
       "      <td>37.000000</td>\n",
       "      <td>37.000000</td>\n",
       "    </tr>\n",
       "    <tr>\n",
       "      <th>mean</th>\n",
       "      <td>3917.000000</td>\n",
       "      <td>1.207017e+08</td>\n",
       "      <td>67810.760710</td>\n",
       "      <td>46463.702703</td>\n",
       "      <td>3917.000000</td>\n",
       "      <td>58130.432432</td>\n",
       "      <td>79.177482</td>\n",
       "      <td>0.028246</td>\n",
       "      <td>38.216216</td>\n",
       "      <td>1938.243243</td>\n",
       "      <td>36.0</td>\n",
       "      <td>NaN</td>\n",
       "      <td>19.382432</td>\n",
       "      <td>2.552896</td>\n",
       "    </tr>\n",
       "    <tr>\n",
       "      <th>std</th>\n",
       "      <td>143.587952</td>\n",
       "      <td>1.303485e+08</td>\n",
       "      <td>34544.020794</td>\n",
       "      <td>16151.491644</td>\n",
       "      <td>143.587952</td>\n",
       "      <td>16086.079754</td>\n",
       "      <td>7.932258</td>\n",
       "      <td>0.012603</td>\n",
       "      <td>46.499782</td>\n",
       "      <td>549.368193</td>\n",
       "      <td>0.0</td>\n",
       "      <td>NaN</td>\n",
       "      <td>5.493682</td>\n",
       "      <td>4.832502</td>\n",
       "    </tr>\n",
       "    <tr>\n",
       "      <th>min</th>\n",
       "      <td>3701.000000</td>\n",
       "      <td>3.984279e+07</td>\n",
       "      <td>34852.437966</td>\n",
       "      <td>30110.000000</td>\n",
       "      <td>3701.000000</td>\n",
       "      <td>40473.000000</td>\n",
       "      <td>54.932945</td>\n",
       "      <td>0.002200</td>\n",
       "      <td>1.000000</td>\n",
       "      <td>1238.000000</td>\n",
       "      <td>36.0</td>\n",
       "      <td>NaN</td>\n",
       "      <td>12.380000</td>\n",
       "      <td>0.066043</td>\n",
       "    </tr>\n",
       "    <tr>\n",
       "      <th>25%</th>\n",
       "      <td>3804.000000</td>\n",
       "      <td>6.184965e+07</td>\n",
       "      <td>44724.499267</td>\n",
       "      <td>35788.000000</td>\n",
       "      <td>3804.000000</td>\n",
       "      <td>46654.000000</td>\n",
       "      <td>74.810319</td>\n",
       "      <td>0.020467</td>\n",
       "      <td>12.000000</td>\n",
       "      <td>1519.000000</td>\n",
       "      <td>36.0</td>\n",
       "      <td>NaN</td>\n",
       "      <td>15.190000</td>\n",
       "      <td>0.533793</td>\n",
       "    </tr>\n",
       "    <tr>\n",
       "      <th>50%</th>\n",
       "      <td>4001.000000</td>\n",
       "      <td>8.560261e+07</td>\n",
       "      <td>56323.365530</td>\n",
       "      <td>41578.000000</td>\n",
       "      <td>4001.000000</td>\n",
       "      <td>52591.000000</td>\n",
       "      <td>78.778618</td>\n",
       "      <td>0.027230</td>\n",
       "      <td>25.000000</td>\n",
       "      <td>1846.000000</td>\n",
       "      <td>36.0</td>\n",
       "      <td>NaN</td>\n",
       "      <td>18.460000</td>\n",
       "      <td>0.769474</td>\n",
       "    </tr>\n",
       "    <tr>\n",
       "      <th>75%</th>\n",
       "      <td>4011.000000</td>\n",
       "      <td>1.171050e+08</td>\n",
       "      <td>74076.375782</td>\n",
       "      <td>49039.000000</td>\n",
       "      <td>4011.000000</td>\n",
       "      <td>66037.000000</td>\n",
       "      <td>84.939550</td>\n",
       "      <td>0.039550</td>\n",
       "      <td>40.000000</td>\n",
       "      <td>2149.000000</td>\n",
       "      <td>36.0</td>\n",
       "      <td>NaN</td>\n",
       "      <td>21.490000</td>\n",
       "      <td>1.857500</td>\n",
       "    </tr>\n",
       "    <tr>\n",
       "      <th>max</th>\n",
       "      <td>4112.000000</td>\n",
       "      <td>6.760200e+08</td>\n",
       "      <td>194764.602625</td>\n",
       "      <td>102520.000000</td>\n",
       "      <td>4112.000000</td>\n",
       "      <td>111507.000000</td>\n",
       "      <td>93.030650</td>\n",
       "      <td>0.049841</td>\n",
       "      <td>230.000000</td>\n",
       "      <td>3940.000000</td>\n",
       "      <td>36.0</td>\n",
       "      <td>NaN</td>\n",
       "      <td>39.400000</td>\n",
       "      <td>20.110000</td>\n",
       "    </tr>\n",
       "  </tbody>\n",
       "</table>\n",
       "</div>"
      ],
      "text/plain": [
       "              puma    shape_area     shape_leng      Broadband        geoID  \\\n",
       "count    37.000000  3.700000e+01      37.000000      37.000000    37.000000   \n",
       "mean   3917.000000  1.207017e+08   67810.760710   46463.702703  3917.000000   \n",
       "std     143.587952  1.303485e+08   34544.020794   16151.491644   143.587952   \n",
       "min    3701.000000  3.984279e+07   34852.437966   30110.000000  3701.000000   \n",
       "25%    3804.000000  6.184965e+07   44724.499267   35788.000000  3804.000000   \n",
       "50%    4001.000000  8.560261e+07   56323.365530   41578.000000  4001.000000   \n",
       "75%    4011.000000  1.171050e+08   74076.375782   49039.000000  4011.000000   \n",
       "max    4112.000000  6.760200e+08  194764.602625  102520.000000  4112.000000   \n",
       "\n",
       "                  HH       pcBB       diff   link_site  B00001_001E  state  \\\n",
       "count      37.000000  37.000000  37.000000   37.000000    37.000000   37.0   \n",
       "mean    58130.432432  79.177482   0.028246   38.216216  1938.243243   36.0   \n",
       "std     16086.079754   7.932258   0.012603   46.499782   549.368193    0.0   \n",
       "min     40473.000000  54.932945   0.002200    1.000000  1238.000000   36.0   \n",
       "25%     46654.000000  74.810319   0.020467   12.000000  1519.000000   36.0   \n",
       "50%     52591.000000  78.778618   0.027230   25.000000  1846.000000   36.0   \n",
       "75%     66037.000000  84.939550   0.039550   40.000000  2149.000000   36.0   \n",
       "max    111507.000000  93.030650   0.049841  230.000000  3940.000000   36.0   \n",
       "\n",
       "       Unnamed: 4  onehundredp  linkNYCp100p  \n",
       "count         0.0    37.000000     37.000000  \n",
       "mean          NaN    19.382432      2.552896  \n",
       "std           NaN     5.493682      4.832502  \n",
       "min           NaN    12.380000      0.066043  \n",
       "25%           NaN    15.190000      0.533793  \n",
       "50%           NaN    18.460000      0.769474  \n",
       "75%           NaN    21.490000      1.857500  \n",
       "max           NaN    39.400000     20.110000  "
      ]
     },
     "execution_count": 273,
     "metadata": {},
     "output_type": "execute_result"
    }
   ],
   "source": [
    "PopShape.describe()"
   ]
  },
  {
   "cell_type": "code",
   "execution_count": null,
   "metadata": {},
   "outputs": [],
   "source": []
  },
  {
   "cell_type": "code",
   "execution_count": 197,
   "metadata": {},
   "outputs": [
    {
     "data": {
      "text/html": [
       "<div>\n",
       "<table border=\"1\" class=\"dataframe\">\n",
       "  <thead>\n",
       "    <tr style=\"text-align: right;\">\n",
       "      <th></th>\n",
       "      <th>puma</th>\n",
       "      <th>link_site</th>\n",
       "    </tr>\n",
       "  </thead>\n",
       "  <tbody>\n",
       "    <tr>\n",
       "      <th>0</th>\n",
       "      <td>3701</td>\n",
       "      <td>1</td>\n",
       "    </tr>\n",
       "    <tr>\n",
       "      <th>1</th>\n",
       "      <td>3705</td>\n",
       "      <td>1</td>\n",
       "    </tr>\n",
       "    <tr>\n",
       "      <th>2</th>\n",
       "      <td>3706</td>\n",
       "      <td>20</td>\n",
       "    </tr>\n",
       "    <tr>\n",
       "      <th>3</th>\n",
       "      <td>3707</td>\n",
       "      <td>29</td>\n",
       "    </tr>\n",
       "    <tr>\n",
       "      <th>4</th>\n",
       "      <td>3708</td>\n",
       "      <td>19</td>\n",
       "    </tr>\n",
       "  </tbody>\n",
       "</table>\n",
       "</div>"
      ],
      "text/plain": [
       "   puma  link_site\n",
       "0  3701          1\n",
       "1  3705          1\n",
       "2  3706         20\n",
       "3  3707         29\n",
       "4  3708         19"
      ]
     },
     "execution_count": 197,
     "metadata": {},
     "output_type": "execute_result"
    }
   ],
   "source": [
    "linkpp.head()"
   ]
  },
  {
   "cell_type": "code",
   "execution_count": 179,
   "metadata": {
    "scrolled": true
   },
   "outputs": [],
   "source": [
    "linkpp['puma'] = linkpp['puma'].astype(int)"
   ]
  },
  {
   "cell_type": "code",
   "execution_count": 229,
   "metadata": {},
   "outputs": [],
   "source": [
    "NYCLinkandShape = ShapeData.merge(linkpp, on=\"puma\")"
   ]
  },
  {
   "cell_type": "code",
   "execution_count": 116,
   "metadata": {},
   "outputs": [],
   "source": [
    "pumatp = pumatp.rename(columns={'public use microdata area':'puma'})"
   ]
  },
  {
   "cell_type": "code",
   "execution_count": 190,
   "metadata": {},
   "outputs": [],
   "source": [
    "pumatp['puma'] = pumatp['puma'].astype(int)"
   ]
  },
  {
   "cell_type": "code",
   "execution_count": 204,
   "metadata": {},
   "outputs": [],
   "source": [
    "# lets merge this with population data \n",
    "PopShape = NYCLinkandPopShape.merge(pumatp, on=\"puma\")"
   ]
  },
  {
   "cell_type": "code",
   "execution_count": 231,
   "metadata": {
    "scrolled": true
   },
   "outputs": [
    {
     "name": "stderr",
     "output_type": "stream",
     "text": [
      "/usr/local/Anaconda3-5.0.0-Linux-x86_64/envs/PUI2016_Python3/lib/python3.5/site-packages/numpy/lib/function_base.py:3403: RuntimeWarning: Invalid value encountered in median\n",
      "  RuntimeWarning)\n"
     ]
    },
    {
     "data": {
      "text/html": [
       "<div>\n",
       "<table border=\"1\" class=\"dataframe\">\n",
       "  <thead>\n",
       "    <tr style=\"text-align: right;\">\n",
       "      <th></th>\n",
       "      <th>puma</th>\n",
       "      <th>shape_area</th>\n",
       "      <th>shape_leng</th>\n",
       "      <th>Broadband</th>\n",
       "      <th>geoID</th>\n",
       "      <th>HH</th>\n",
       "      <th>pcBB</th>\n",
       "      <th>diff</th>\n",
       "      <th>link_site</th>\n",
       "      <th>B00001_001E</th>\n",
       "      <th>state</th>\n",
       "      <th>Unnamed: 4</th>\n",
       "      <th>onehundredp</th>\n",
       "      <th>linkNYCp100p</th>\n",
       "    </tr>\n",
       "  </thead>\n",
       "  <tbody>\n",
       "    <tr>\n",
       "      <th>count</th>\n",
       "      <td>37.000000</td>\n",
       "      <td>3.700000e+01</td>\n",
       "      <td>37.000000</td>\n",
       "      <td>37.000000</td>\n",
       "      <td>37.000000</td>\n",
       "      <td>37.000000</td>\n",
       "      <td>37.000000</td>\n",
       "      <td>37.000000</td>\n",
       "      <td>37.000000</td>\n",
       "      <td>37.000000</td>\n",
       "      <td>37.0</td>\n",
       "      <td>0.0</td>\n",
       "      <td>37.000000</td>\n",
       "      <td>37.000000</td>\n",
       "    </tr>\n",
       "    <tr>\n",
       "      <th>mean</th>\n",
       "      <td>3917.000000</td>\n",
       "      <td>1.207017e+08</td>\n",
       "      <td>67810.760710</td>\n",
       "      <td>46463.702703</td>\n",
       "      <td>3917.000000</td>\n",
       "      <td>58130.432432</td>\n",
       "      <td>79.177482</td>\n",
       "      <td>0.028246</td>\n",
       "      <td>38.216216</td>\n",
       "      <td>1938.243243</td>\n",
       "      <td>36.0</td>\n",
       "      <td>NaN</td>\n",
       "      <td>19.382432</td>\n",
       "      <td>2.552896</td>\n",
       "    </tr>\n",
       "    <tr>\n",
       "      <th>std</th>\n",
       "      <td>143.587952</td>\n",
       "      <td>1.303485e+08</td>\n",
       "      <td>34544.020794</td>\n",
       "      <td>16151.491644</td>\n",
       "      <td>143.587952</td>\n",
       "      <td>16086.079754</td>\n",
       "      <td>7.932258</td>\n",
       "      <td>0.012603</td>\n",
       "      <td>46.499782</td>\n",
       "      <td>549.368193</td>\n",
       "      <td>0.0</td>\n",
       "      <td>NaN</td>\n",
       "      <td>5.493682</td>\n",
       "      <td>4.832502</td>\n",
       "    </tr>\n",
       "    <tr>\n",
       "      <th>min</th>\n",
       "      <td>3701.000000</td>\n",
       "      <td>3.984279e+07</td>\n",
       "      <td>34852.437966</td>\n",
       "      <td>30110.000000</td>\n",
       "      <td>3701.000000</td>\n",
       "      <td>40473.000000</td>\n",
       "      <td>54.932945</td>\n",
       "      <td>0.002200</td>\n",
       "      <td>1.000000</td>\n",
       "      <td>1238.000000</td>\n",
       "      <td>36.0</td>\n",
       "      <td>NaN</td>\n",
       "      <td>12.380000</td>\n",
       "      <td>0.066043</td>\n",
       "    </tr>\n",
       "    <tr>\n",
       "      <th>25%</th>\n",
       "      <td>3804.000000</td>\n",
       "      <td>6.184965e+07</td>\n",
       "      <td>44724.499267</td>\n",
       "      <td>35788.000000</td>\n",
       "      <td>3804.000000</td>\n",
       "      <td>46654.000000</td>\n",
       "      <td>74.810319</td>\n",
       "      <td>0.020467</td>\n",
       "      <td>12.000000</td>\n",
       "      <td>1519.000000</td>\n",
       "      <td>36.0</td>\n",
       "      <td>NaN</td>\n",
       "      <td>15.190000</td>\n",
       "      <td>0.533793</td>\n",
       "    </tr>\n",
       "    <tr>\n",
       "      <th>50%</th>\n",
       "      <td>4001.000000</td>\n",
       "      <td>8.560261e+07</td>\n",
       "      <td>56323.365530</td>\n",
       "      <td>41578.000000</td>\n",
       "      <td>4001.000000</td>\n",
       "      <td>52591.000000</td>\n",
       "      <td>78.778618</td>\n",
       "      <td>0.027230</td>\n",
       "      <td>25.000000</td>\n",
       "      <td>1846.000000</td>\n",
       "      <td>36.0</td>\n",
       "      <td>NaN</td>\n",
       "      <td>18.460000</td>\n",
       "      <td>0.769474</td>\n",
       "    </tr>\n",
       "    <tr>\n",
       "      <th>75%</th>\n",
       "      <td>4011.000000</td>\n",
       "      <td>1.171050e+08</td>\n",
       "      <td>74076.375782</td>\n",
       "      <td>49039.000000</td>\n",
       "      <td>4011.000000</td>\n",
       "      <td>66037.000000</td>\n",
       "      <td>84.939550</td>\n",
       "      <td>0.039550</td>\n",
       "      <td>40.000000</td>\n",
       "      <td>2149.000000</td>\n",
       "      <td>36.0</td>\n",
       "      <td>NaN</td>\n",
       "      <td>21.490000</td>\n",
       "      <td>1.857500</td>\n",
       "    </tr>\n",
       "    <tr>\n",
       "      <th>max</th>\n",
       "      <td>4112.000000</td>\n",
       "      <td>6.760200e+08</td>\n",
       "      <td>194764.602625</td>\n",
       "      <td>102520.000000</td>\n",
       "      <td>4112.000000</td>\n",
       "      <td>111507.000000</td>\n",
       "      <td>93.030650</td>\n",
       "      <td>0.049841</td>\n",
       "      <td>230.000000</td>\n",
       "      <td>3940.000000</td>\n",
       "      <td>36.0</td>\n",
       "      <td>NaN</td>\n",
       "      <td>39.400000</td>\n",
       "      <td>20.110000</td>\n",
       "    </tr>\n",
       "  </tbody>\n",
       "</table>\n",
       "</div>"
      ],
      "text/plain": [
       "              puma    shape_area     shape_leng      Broadband        geoID  \\\n",
       "count    37.000000  3.700000e+01      37.000000      37.000000    37.000000   \n",
       "mean   3917.000000  1.207017e+08   67810.760710   46463.702703  3917.000000   \n",
       "std     143.587952  1.303485e+08   34544.020794   16151.491644   143.587952   \n",
       "min    3701.000000  3.984279e+07   34852.437966   30110.000000  3701.000000   \n",
       "25%    3804.000000  6.184965e+07   44724.499267   35788.000000  3804.000000   \n",
       "50%    4001.000000  8.560261e+07   56323.365530   41578.000000  4001.000000   \n",
       "75%    4011.000000  1.171050e+08   74076.375782   49039.000000  4011.000000   \n",
       "max    4112.000000  6.760200e+08  194764.602625  102520.000000  4112.000000   \n",
       "\n",
       "                  HH       pcBB       diff   link_site  B00001_001E  state  \\\n",
       "count      37.000000  37.000000  37.000000   37.000000    37.000000   37.0   \n",
       "mean    58130.432432  79.177482   0.028246   38.216216  1938.243243   36.0   \n",
       "std     16086.079754   7.932258   0.012603   46.499782   549.368193    0.0   \n",
       "min     40473.000000  54.932945   0.002200    1.000000  1238.000000   36.0   \n",
       "25%     46654.000000  74.810319   0.020467   12.000000  1519.000000   36.0   \n",
       "50%     52591.000000  78.778618   0.027230   25.000000  1846.000000   36.0   \n",
       "75%     66037.000000  84.939550   0.039550   40.000000  2149.000000   36.0   \n",
       "max    111507.000000  93.030650   0.049841  230.000000  3940.000000   36.0   \n",
       "\n",
       "       Unnamed: 4  onehundredp  linkNYCp100p  \n",
       "count         0.0    37.000000     37.000000  \n",
       "mean          NaN    19.382432      2.552896  \n",
       "std           NaN     5.493682      4.832502  \n",
       "min           NaN    12.380000      0.066043  \n",
       "25%           NaN    15.190000      0.533793  \n",
       "50%           NaN    18.460000      0.769474  \n",
       "75%           NaN    21.490000      1.857500  \n",
       "max           NaN    39.400000     20.110000  "
      ]
     },
     "execution_count": 231,
     "metadata": {},
     "output_type": "execute_result"
    }
   ],
   "source": [
    "PopShape.describe()"
   ]
  },
  {
   "cell_type": "code",
   "execution_count": 351,
   "metadata": {},
   "outputs": [],
   "source": [
    "PopShape[\"linkNYCp100p\"] = (PopShape[\"link_site\"]/PopShape[\"B00001_001E\"])*100"
   ]
  },
  {
   "cell_type": "code",
   "execution_count": 352,
   "metadata": {},
   "outputs": [
    {
     "data": {
      "text/plain": [
       "count    37.000000\n",
       "mean      2.327677\n",
       "std       3.328955\n",
       "min       0.049727\n",
       "25%       0.538358\n",
       "50%       1.299590\n",
       "75%       1.873385\n",
       "max      15.141540\n",
       "Name: linkNYCp100p, dtype: float64"
      ]
     },
     "execution_count": 352,
     "metadata": {},
     "output_type": "execute_result"
    }
   ],
   "source": [
    "PopShape[\"linkNYCp100p\"].describe()"
   ]
  },
  {
   "cell_type": "markdown",
   "metadata": {},
   "source": [
    "# at last, plot the linkNYC locations on top of a choropleth of number of stations per 100 people in 10 equal intervals"
   ]
  },
  {
   "cell_type": "code",
   "execution_count": 216,
   "metadata": {},
   "outputs": [],
   "source": [
    "PopShape.crs = from_epsg(4326)\n",
    "naec = '+proj=eqdc +lat_0=40 +lon_0=-96 +lat_1=20 +lat_2=60 +x_0=0 +y_0=0 +datum=NAD83 +units=m +no_defs'"
   ]
  },
  {
   "cell_type": "code",
   "execution_count": 222,
   "metadata": {},
   "outputs": [
    {
     "data": {
      "text/plain": [
       "<matplotlib.axes._subplots.AxesSubplot at 0x7fd8bb862080>"
      ]
     },
     "execution_count": 222,
     "metadata": {},
     "output_type": "execute_result"
    },
    {
     "data": {
      "image/png": "[encoded data removed]",
      "text/plain": [
       "<matplotlib.figure.Figure at 0x7fd8bb8982e8>"
      ]
     },
     "metadata": {},
     "output_type": "display_data"
    }
   ],
   "source": [
    "base = PopShape.to_crs(naec).plot(column='linkNYCp100p', edgecolor='black',figsize=(10,10),legend=True, cmap = 'viridis', scheme = 'equal_interval')\n",
    "\n",
    "linkNYC.to_crs(naec).plot(edgecolor='black',figsize=(10,10),legend=True,ax=base, cmap = 'hot_r', scheme = 'equal_interval')\n"
   ]
  },
  {
   "cell_type": "code",
   "execution_count": null,
   "metadata": {},
   "outputs": [],
   "source": []
  },
  {
   "cell_type": "code",
   "execution_count": 346,
   "metadata": {},
   "outputs": [
    {
     "data": {
      "text/plain": [
       "<matplotlib.axes._subplots.AxesSubplot at 0x7fd8bb6e7048>"
      ]
     },
     "execution_count": 346,
     "metadata": {},
     "output_type": "execute_result"
    },
    {
     "data": {
      "image/png": "[encoded data removed]",
      "text/plain": [
       "<matplotlib.figure.Figure at 0x7fd8bb65e908>"
      ]
     },
     "metadata": {},
     "output_type": "display_data"
    }
   ],
   "source": [
    "base = PopShape.to_crs(naec).plot(column='linkNYCp100p', edgecolor='black',figsize=(10,10),k=10,legend=True, cmap = 'viridis', scheme = 'equal_interval')\n",
    "\n",
    "linkNYC.to_crs(naec).plot(edgecolor='black',figsize=(10,10),legend=True,ax=base, k=10,cmap = 'hot_r', scheme = 'equal_interval')\n"
   ]
  },
  {
   "cell_type": "code",
   "execution_count": null,
   "metadata": {},
   "outputs": [],
   "source": []
  },
  {
   "cell_type": "code",
   "execution_count": null,
   "metadata": {},
   "outputs": [],
   "source": [
    "# everything below is trash? hopefully"
   ]
  },
  {
   "cell_type": "code",
   "execution_count": 158,
   "metadata": {},
   "outputs": [],
   "source": [
    "# lets merge this population data with our shapefile so we have coordinates\n",
    "NYCLinkandPopShape = ShapeData.merge(pumatp, on=\"puma\")"
   ]
  },
  {
   "cell_type": "code",
   "execution_count": 149,
   "metadata": {},
   "outputs": [],
   "source": [
    "NYCLinkandPopShape = GeoDataFrame(NYCLinkandPopShape)"
   ]
  },
  {
   "cell_type": "code",
   "execution_count": 150,
   "metadata": {},
   "outputs": [
    {
     "data": {
      "text/plain": [
       "{'init': 'epsg:4326', 'no_defs': True}"
      ]
     },
     "execution_count": 150,
     "metadata": {},
     "output_type": "execute_result"
    }
   ],
   "source": [
    "NYCLinkandPopShape.crs = from_epsg(4326)\n",
    "ShapeData.crs"
   ]
  },
  {
   "cell_type": "code",
   "execution_count": 151,
   "metadata": {},
   "outputs": [],
   "source": [
    "NYCLinkandPopShape_ft = NYCLinkandPopShape.to_crs(epsg=2263)\n",
    "ShapeData_ft = PUMAShape.to_crs(epsg=2263)"
   ]
  },
  {
   "cell_type": "code",
   "execution_count": 153,
   "metadata": {},
   "outputs": [],
   "source": [
    "linkpp = sjoin(NYCLinkandPopShape_ft, ShapeData_ft)"
   ]
  },
  {
   "cell_type": "code",
   "execution_count": 154,
   "metadata": {},
   "outputs": [
    {
     "data": {
      "text/html": [
       "<div>\n",
       "<table border=\"1\" class=\"dataframe\">\n",
       "  <thead>\n",
       "    <tr style=\"text-align: right;\">\n",
       "      <th></th>\n",
       "      <th>puma_left</th>\n",
       "      <th>shape_area_left</th>\n",
       "      <th>shape_leng_left</th>\n",
       "      <th>geometry</th>\n",
       "      <th>Broadband</th>\n",
       "      <th>NAME_x</th>\n",
       "      <th>geoID</th>\n",
       "      <th>HH</th>\n",
       "      <th>pcBB</th>\n",
       "      <th>Percent</th>\n",
       "      <th>Margin of Error</th>\n",
       "      <th>diff</th>\n",
       "      <th>B00001_001E</th>\n",
       "      <th>NAME_y</th>\n",
       "      <th>state</th>\n",
       "      <th>Unnamed: 4</th>\n",
       "      <th>index_right</th>\n",
       "      <th>puma_right</th>\n",
       "      <th>shape_area_right</th>\n",
       "      <th>shape_leng_right</th>\n",
       "    </tr>\n",
       "  </thead>\n",
       "  <tbody>\n",
       "    <tr>\n",
       "      <th>0</th>\n",
       "      <td>3701</td>\n",
       "      <td>9.792852e+07</td>\n",
       "      <td>53227.144461</td>\n",
       "      <td>POLYGON ((1012885.033996583 268830.4841918442,...</td>\n",
       "      <td>35529</td>\n",
       "      <td>NYC-Bronx Community District 8--Riverdale, Fie...</td>\n",
       "      <td>3701</td>\n",
       "      <td>42158</td>\n",
       "      <td>84.275820</td>\n",
       "      <td>84.3</td>\n",
       "      <td>2.6</td>\n",
       "      <td>0.024180</td>\n",
       "      <td>1517</td>\n",
       "      <td>NYC-Bronx Community District 8--Riverdale, Fie...</td>\n",
       "      <td>36</td>\n",
       "      <td>NaN</td>\n",
       "      <td>13</td>\n",
       "      <td>3801</td>\n",
       "      <td>8.124958e+07</td>\n",
       "      <td>64103.13848</td>\n",
       "    </tr>\n",
       "    <tr>\n",
       "      <th>7</th>\n",
       "      <td>3706</td>\n",
       "      <td>4.388687e+07</td>\n",
       "      <td>51799.404183</td>\n",
       "      <td>POLYGON ((1015266.210021974 257032.2927855904,...</td>\n",
       "      <td>34391</td>\n",
       "      <td>NYC-Bronx Community District 7--Bedford Park, ...</td>\n",
       "      <td>3706</td>\n",
       "      <td>46018</td>\n",
       "      <td>74.733800</td>\n",
       "      <td>74.7</td>\n",
       "      <td>3.6</td>\n",
       "      <td>0.033800</td>\n",
       "      <td>1274</td>\n",
       "      <td>NYC-Bronx Community District 7--Bedford Park, ...</td>\n",
       "      <td>36</td>\n",
       "      <td>NaN</td>\n",
       "      <td>13</td>\n",
       "      <td>3801</td>\n",
       "      <td>8.124958e+07</td>\n",
       "      <td>64103.13848</td>\n",
       "    </tr>\n",
       "    <tr>\n",
       "      <th>13</th>\n",
       "      <td>3801</td>\n",
       "      <td>8.124958e+07</td>\n",
       "      <td>64103.138480</td>\n",
       "      <td>(POLYGON ((1004601.953430175 259027.5151977094...</td>\n",
       "      <td>60998</td>\n",
       "      <td>NYC-Manhattan Community District 12--Washingto...</td>\n",
       "      <td>3801</td>\n",
       "      <td>76174</td>\n",
       "      <td>80.077192</td>\n",
       "      <td>80.1</td>\n",
       "      <td>2.9</td>\n",
       "      <td>0.022808</td>\n",
       "      <td>2144</td>\n",
       "      <td>NYC-Manhattan Community District 12--Washingto...</td>\n",
       "      <td>36</td>\n",
       "      <td>NaN</td>\n",
       "      <td>13</td>\n",
       "      <td>3801</td>\n",
       "      <td>8.124958e+07</td>\n",
       "      <td>64103.13848</td>\n",
       "    </tr>\n",
       "    <tr>\n",
       "      <th>16</th>\n",
       "      <td>3802</td>\n",
       "      <td>4.689908e+07</td>\n",
       "      <td>37925.566208</td>\n",
       "      <td>POLYGON ((992806.5245971706 233811.4805907708,...</td>\n",
       "      <td>35902</td>\n",
       "      <td>NYC-Manhattan Community District 9--Hamilton H...</td>\n",
       "      <td>3802</td>\n",
       "      <td>44790</td>\n",
       "      <td>80.156285</td>\n",
       "      <td>80.2</td>\n",
       "      <td>3.9</td>\n",
       "      <td>0.043715</td>\n",
       "      <td>1408</td>\n",
       "      <td>NYC-Manhattan Community District 9--Hamilton H...</td>\n",
       "      <td>36</td>\n",
       "      <td>NaN</td>\n",
       "      <td>13</td>\n",
       "      <td>3801</td>\n",
       "      <td>8.124958e+07</td>\n",
       "      <td>64103.13848</td>\n",
       "    </tr>\n",
       "    <tr>\n",
       "      <th>18</th>\n",
       "      <td>3803</td>\n",
       "      <td>3.984279e+07</td>\n",
       "      <td>38064.749400</td>\n",
       "      <td>POLYGON ((1002194.048400879 242652.5816039534,...</td>\n",
       "      <td>45628</td>\n",
       "      <td>NYC-Manhattan Community District 10--Central H...</td>\n",
       "      <td>3803</td>\n",
       "      <td>58217</td>\n",
       "      <td>78.375732</td>\n",
       "      <td>78.4</td>\n",
       "      <td>3.4</td>\n",
       "      <td>0.024268</td>\n",
       "      <td>1362</td>\n",
       "      <td>NYC-Manhattan Community District 10--Central H...</td>\n",
       "      <td>36</td>\n",
       "      <td>NaN</td>\n",
       "      <td>13</td>\n",
       "      <td>3801</td>\n",
       "      <td>8.124958e+07</td>\n",
       "      <td>64103.13848</td>\n",
       "    </tr>\n",
       "  </tbody>\n",
       "</table>\n",
       "</div>"
      ],
      "text/plain": [
       "    puma_left  shape_area_left  shape_leng_left  \\\n",
       "0        3701     9.792852e+07     53227.144461   \n",
       "7        3706     4.388687e+07     51799.404183   \n",
       "13       3801     8.124958e+07     64103.138480   \n",
       "16       3802     4.689908e+07     37925.566208   \n",
       "18       3803     3.984279e+07     38064.749400   \n",
       "\n",
       "                                             geometry  Broadband  \\\n",
       "0   POLYGON ((1012885.033996583 268830.4841918442,...      35529   \n",
       "7   POLYGON ((1015266.210021974 257032.2927855904,...      34391   \n",
       "13  (POLYGON ((1004601.953430175 259027.5151977094...      60998   \n",
       "16  POLYGON ((992806.5245971706 233811.4805907708,...      35902   \n",
       "18  POLYGON ((1002194.048400879 242652.5816039534,...      45628   \n",
       "\n",
       "                                               NAME_x  geoID     HH  \\\n",
       "0   NYC-Bronx Community District 8--Riverdale, Fie...   3701  42158   \n",
       "7   NYC-Bronx Community District 7--Bedford Park, ...   3706  46018   \n",
       "13  NYC-Manhattan Community District 12--Washingto...   3801  76174   \n",
       "16  NYC-Manhattan Community District 9--Hamilton H...   3802  44790   \n",
       "18  NYC-Manhattan Community District 10--Central H...   3803  58217   \n",
       "\n",
       "         pcBB Percent Margin of Error      diff  B00001_001E  \\\n",
       "0   84.275820    84.3             2.6  0.024180         1517   \n",
       "7   74.733800    74.7             3.6  0.033800         1274   \n",
       "13  80.077192    80.1             2.9  0.022808         2144   \n",
       "16  80.156285    80.2             3.9  0.043715         1408   \n",
       "18  78.375732    78.4             3.4  0.024268         1362   \n",
       "\n",
       "                                               NAME_y  state  Unnamed: 4  \\\n",
       "0   NYC-Bronx Community District 8--Riverdale, Fie...     36         NaN   \n",
       "7   NYC-Bronx Community District 7--Bedford Park, ...     36         NaN   \n",
       "13  NYC-Manhattan Community District 12--Washingto...     36         NaN   \n",
       "16  NYC-Manhattan Community District 9--Hamilton H...     36         NaN   \n",
       "18  NYC-Manhattan Community District 10--Central H...     36         NaN   \n",
       "\n",
       "    index_right  puma_right  shape_area_right  shape_leng_right  \n",
       "0            13        3801      8.124958e+07       64103.13848  \n",
       "7            13        3801      8.124958e+07       64103.13848  \n",
       "13           13        3801      8.124958e+07       64103.13848  \n",
       "16           13        3801      8.124958e+07       64103.13848  \n",
       "18           13        3801      8.124958e+07       64103.13848  "
      ]
     },
     "execution_count": 154,
     "metadata": {},
     "output_type": "execute_result"
    }
   ],
   "source": [
    "linkpp.head()"
   ]
  },
  {
   "cell_type": "code",
   "execution_count": null,
   "metadata": {},
   "outputs": [],
   "source": []
  }
 ],
 "metadata": {
  "kernelspec": {
   "display_name": "PUI2016_Python3",
   "language": "python",
   "name": "pui2016_python3"
  },
  "language_info": {
   "codemirror_mode": {
    "name": "ipython",
    "version": 3
   },
   "file_extension": ".py",
   "mimetype": "text/x-python",
   "name": "python",
   "nbconvert_exporter": "python",
   "pygments_lexer": "ipython3",
   "version": "3.5.4"
  }
 },
 "nbformat": 4,
 "nbformat_minor": 2
}
